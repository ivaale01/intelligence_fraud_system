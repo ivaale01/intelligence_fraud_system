{
  "nbformat": 4,
  "nbformat_minor": 0,
  "metadata": {
    "colab": {
      "name": "capstone_estrategia_2_1_SMOTE_todasvariables.ipynb",
      "provenance": [],
      "collapsed_sections": []
    },
    "kernelspec": {
      "name": "python3",
      "display_name": "Python 3"
    },
    "language_info": {
      "name": "python"
    }
  },
  "cells": [
    {
      "cell_type": "markdown",
      "source": [
        "Import libraries "
      ],
      "metadata": {
        "id": "p_8quK41k6ui"
      }
    },
    {
      "cell_type": "code",
      "source": [
        ""
      ],
      "metadata": {
        "id": "Ydlo4tSXyBSE"
      },
      "execution_count": null,
      "outputs": []
    },
    {
      "cell_type": "code",
      "execution_count": null,
      "metadata": {
        "id": "D7yQvJtTftSc"
      },
      "outputs": [],
      "source": [
        "# Data manipulation\n",
        "import pandas as pd\n",
        "import numpy as np\n",
        "\n",
        "# Plotting\n",
        "import matplotlib.pyplot as plt\n",
        "import seaborn as sns\n",
        "from matplotlib import pyplot \n",
        "%matplotlib inline\n",
        "\n",
        "# ML Libraries\n",
        "from sklearn.metrics import classification_report, confusion_matrix, roc_curve, auc, ConfusionMatrixDisplay, f1_score\n",
        "from sklearn.model_selection import train_test_split\n",
        "import sklearn.metrics as metrics\n",
        "from sklearn.metrics import precision_recall_curve\n",
        "\n",
        "\n",
        "from sklearn.linear_model import LogisticRegression\n",
        "from sklearn.naive_bayes import GaussianNB\n",
        "from sklearn.neighbors import KNeighborsClassifier\n",
        "\n",
        "from sklearn.tree import DecisionTreeClassifier\n",
        "from sklearn.ensemble import RandomForestClassifier\n",
        "from sklearn.ensemble import AdaBoostClassifier\n",
        "from sklearn.model_selection import GridSearchCV\n",
        " \n",
        "\n",
        "# Tree Visualization\n",
        "from IPython.display import Image  \n",
        "from sklearn.tree import export_graphviz\n",
        "import pydot \n"
      ]
    },
    {
      "cell_type": "markdown",
      "source": [
        "#Data exploration"
      ],
      "metadata": {
        "id": "1ku12Q32qrr4"
      }
    },
    {
      "cell_type": "code",
      "source": [
        "#import dataset\n",
        "\n",
        "df = pd.read_csv('creditcard.csv')\n",
        "df.head()"
      ],
      "metadata": {
        "colab": {
          "base_uri": "https://localhost:8080/",
          "height": 300
        },
        "id": "ibnIXjqGlPx1",
        "outputId": "781a29a8-bcdc-4cb4-c8a1-5dd4d41e0071"
      },
      "execution_count": null,
      "outputs": [
        {
          "output_type": "execute_result",
          "data": {
            "text/plain": [
              "   Time        V1        V2        V3        V4        V5        V6        V7  \\\n",
              "0   0.0 -1.359807 -0.072781  2.536347  1.378155 -0.338321  0.462388  0.239599   \n",
              "1   0.0  1.191857  0.266151  0.166480  0.448154  0.060018 -0.082361 -0.078803   \n",
              "2   1.0 -1.358354 -1.340163  1.773209  0.379780 -0.503198  1.800499  0.791461   \n",
              "3   1.0 -0.966272 -0.185226  1.792993 -0.863291 -0.010309  1.247203  0.237609   \n",
              "4   2.0 -1.158233  0.877737  1.548718  0.403034 -0.407193  0.095921  0.592941   \n",
              "\n",
              "         V8        V9  ...       V21       V22       V23       V24       V25  \\\n",
              "0  0.098698  0.363787  ... -0.018307  0.277838 -0.110474  0.066928  0.128539   \n",
              "1  0.085102 -0.255425  ... -0.225775 -0.638672  0.101288 -0.339846  0.167170   \n",
              "2  0.247676 -1.514654  ...  0.247998  0.771679  0.909412 -0.689281 -0.327642   \n",
              "3  0.377436 -1.387024  ... -0.108300  0.005274 -0.190321 -1.175575  0.647376   \n",
              "4 -0.270533  0.817739  ... -0.009431  0.798278 -0.137458  0.141267 -0.206010   \n",
              "\n",
              "        V26       V27       V28  Amount  Class  \n",
              "0 -0.189115  0.133558 -0.021053  149.62      0  \n",
              "1  0.125895 -0.008983  0.014724    2.69      0  \n",
              "2 -0.139097 -0.055353 -0.059752  378.66      0  \n",
              "3 -0.221929  0.062723  0.061458  123.50      0  \n",
              "4  0.502292  0.219422  0.215153   69.99      0  \n",
              "\n",
              "[5 rows x 31 columns]"
            ],
            "text/html": [
              "\n",
              "  <div id=\"df-12d9f6be-5da5-4b82-8051-ddd9c79a8c42\">\n",
              "    <div class=\"colab-df-container\">\n",
              "      <div>\n",
              "<style scoped>\n",
              "    .dataframe tbody tr th:only-of-type {\n",
              "        vertical-align: middle;\n",
              "    }\n",
              "\n",
              "    .dataframe tbody tr th {\n",
              "        vertical-align: top;\n",
              "    }\n",
              "\n",
              "    .dataframe thead th {\n",
              "        text-align: right;\n",
              "    }\n",
              "</style>\n",
              "<table border=\"1\" class=\"dataframe\">\n",
              "  <thead>\n",
              "    <tr style=\"text-align: right;\">\n",
              "      <th></th>\n",
              "      <th>Time</th>\n",
              "      <th>V1</th>\n",
              "      <th>V2</th>\n",
              "      <th>V3</th>\n",
              "      <th>V4</th>\n",
              "      <th>V5</th>\n",
              "      <th>V6</th>\n",
              "      <th>V7</th>\n",
              "      <th>V8</th>\n",
              "      <th>V9</th>\n",
              "      <th>...</th>\n",
              "      <th>V21</th>\n",
              "      <th>V22</th>\n",
              "      <th>V23</th>\n",
              "      <th>V24</th>\n",
              "      <th>V25</th>\n",
              "      <th>V26</th>\n",
              "      <th>V27</th>\n",
              "      <th>V28</th>\n",
              "      <th>Amount</th>\n",
              "      <th>Class</th>\n",
              "    </tr>\n",
              "  </thead>\n",
              "  <tbody>\n",
              "    <tr>\n",
              "      <th>0</th>\n",
              "      <td>0.0</td>\n",
              "      <td>-1.359807</td>\n",
              "      <td>-0.072781</td>\n",
              "      <td>2.536347</td>\n",
              "      <td>1.378155</td>\n",
              "      <td>-0.338321</td>\n",
              "      <td>0.462388</td>\n",
              "      <td>0.239599</td>\n",
              "      <td>0.098698</td>\n",
              "      <td>0.363787</td>\n",
              "      <td>...</td>\n",
              "      <td>-0.018307</td>\n",
              "      <td>0.277838</td>\n",
              "      <td>-0.110474</td>\n",
              "      <td>0.066928</td>\n",
              "      <td>0.128539</td>\n",
              "      <td>-0.189115</td>\n",
              "      <td>0.133558</td>\n",
              "      <td>-0.021053</td>\n",
              "      <td>149.62</td>\n",
              "      <td>0</td>\n",
              "    </tr>\n",
              "    <tr>\n",
              "      <th>1</th>\n",
              "      <td>0.0</td>\n",
              "      <td>1.191857</td>\n",
              "      <td>0.266151</td>\n",
              "      <td>0.166480</td>\n",
              "      <td>0.448154</td>\n",
              "      <td>0.060018</td>\n",
              "      <td>-0.082361</td>\n",
              "      <td>-0.078803</td>\n",
              "      <td>0.085102</td>\n",
              "      <td>-0.255425</td>\n",
              "      <td>...</td>\n",
              "      <td>-0.225775</td>\n",
              "      <td>-0.638672</td>\n",
              "      <td>0.101288</td>\n",
              "      <td>-0.339846</td>\n",
              "      <td>0.167170</td>\n",
              "      <td>0.125895</td>\n",
              "      <td>-0.008983</td>\n",
              "      <td>0.014724</td>\n",
              "      <td>2.69</td>\n",
              "      <td>0</td>\n",
              "    </tr>\n",
              "    <tr>\n",
              "      <th>2</th>\n",
              "      <td>1.0</td>\n",
              "      <td>-1.358354</td>\n",
              "      <td>-1.340163</td>\n",
              "      <td>1.773209</td>\n",
              "      <td>0.379780</td>\n",
              "      <td>-0.503198</td>\n",
              "      <td>1.800499</td>\n",
              "      <td>0.791461</td>\n",
              "      <td>0.247676</td>\n",
              "      <td>-1.514654</td>\n",
              "      <td>...</td>\n",
              "      <td>0.247998</td>\n",
              "      <td>0.771679</td>\n",
              "      <td>0.909412</td>\n",
              "      <td>-0.689281</td>\n",
              "      <td>-0.327642</td>\n",
              "      <td>-0.139097</td>\n",
              "      <td>-0.055353</td>\n",
              "      <td>-0.059752</td>\n",
              "      <td>378.66</td>\n",
              "      <td>0</td>\n",
              "    </tr>\n",
              "    <tr>\n",
              "      <th>3</th>\n",
              "      <td>1.0</td>\n",
              "      <td>-0.966272</td>\n",
              "      <td>-0.185226</td>\n",
              "      <td>1.792993</td>\n",
              "      <td>-0.863291</td>\n",
              "      <td>-0.010309</td>\n",
              "      <td>1.247203</td>\n",
              "      <td>0.237609</td>\n",
              "      <td>0.377436</td>\n",
              "      <td>-1.387024</td>\n",
              "      <td>...</td>\n",
              "      <td>-0.108300</td>\n",
              "      <td>0.005274</td>\n",
              "      <td>-0.190321</td>\n",
              "      <td>-1.175575</td>\n",
              "      <td>0.647376</td>\n",
              "      <td>-0.221929</td>\n",
              "      <td>0.062723</td>\n",
              "      <td>0.061458</td>\n",
              "      <td>123.50</td>\n",
              "      <td>0</td>\n",
              "    </tr>\n",
              "    <tr>\n",
              "      <th>4</th>\n",
              "      <td>2.0</td>\n",
              "      <td>-1.158233</td>\n",
              "      <td>0.877737</td>\n",
              "      <td>1.548718</td>\n",
              "      <td>0.403034</td>\n",
              "      <td>-0.407193</td>\n",
              "      <td>0.095921</td>\n",
              "      <td>0.592941</td>\n",
              "      <td>-0.270533</td>\n",
              "      <td>0.817739</td>\n",
              "      <td>...</td>\n",
              "      <td>-0.009431</td>\n",
              "      <td>0.798278</td>\n",
              "      <td>-0.137458</td>\n",
              "      <td>0.141267</td>\n",
              "      <td>-0.206010</td>\n",
              "      <td>0.502292</td>\n",
              "      <td>0.219422</td>\n",
              "      <td>0.215153</td>\n",
              "      <td>69.99</td>\n",
              "      <td>0</td>\n",
              "    </tr>\n",
              "  </tbody>\n",
              "</table>\n",
              "<p>5 rows × 31 columns</p>\n",
              "</div>\n",
              "      <button class=\"colab-df-convert\" onclick=\"convertToInteractive('df-12d9f6be-5da5-4b82-8051-ddd9c79a8c42')\"\n",
              "              title=\"Convert this dataframe to an interactive table.\"\n",
              "              style=\"display:none;\">\n",
              "        \n",
              "  <svg xmlns=\"http://www.w3.org/2000/svg\" height=\"24px\"viewBox=\"0 0 24 24\"\n",
              "       width=\"24px\">\n",
              "    <path d=\"M0 0h24v24H0V0z\" fill=\"none\"/>\n",
              "    <path d=\"M18.56 5.44l.94 2.06.94-2.06 2.06-.94-2.06-.94-.94-2.06-.94 2.06-2.06.94zm-11 1L8.5 8.5l.94-2.06 2.06-.94-2.06-.94L8.5 2.5l-.94 2.06-2.06.94zm10 10l.94 2.06.94-2.06 2.06-.94-2.06-.94-.94-2.06-.94 2.06-2.06.94z\"/><path d=\"M17.41 7.96l-1.37-1.37c-.4-.4-.92-.59-1.43-.59-.52 0-1.04.2-1.43.59L10.3 9.45l-7.72 7.72c-.78.78-.78 2.05 0 2.83L4 21.41c.39.39.9.59 1.41.59.51 0 1.02-.2 1.41-.59l7.78-7.78 2.81-2.81c.8-.78.8-2.07 0-2.86zM5.41 20L4 18.59l7.72-7.72 1.47 1.35L5.41 20z\"/>\n",
              "  </svg>\n",
              "      </button>\n",
              "      \n",
              "  <style>\n",
              "    .colab-df-container {\n",
              "      display:flex;\n",
              "      flex-wrap:wrap;\n",
              "      gap: 12px;\n",
              "    }\n",
              "\n",
              "    .colab-df-convert {\n",
              "      background-color: #E8F0FE;\n",
              "      border: none;\n",
              "      border-radius: 50%;\n",
              "      cursor: pointer;\n",
              "      display: none;\n",
              "      fill: #1967D2;\n",
              "      height: 32px;\n",
              "      padding: 0 0 0 0;\n",
              "      width: 32px;\n",
              "    }\n",
              "\n",
              "    .colab-df-convert:hover {\n",
              "      background-color: #E2EBFA;\n",
              "      box-shadow: 0px 1px 2px rgba(60, 64, 67, 0.3), 0px 1px 3px 1px rgba(60, 64, 67, 0.15);\n",
              "      fill: #174EA6;\n",
              "    }\n",
              "\n",
              "    [theme=dark] .colab-df-convert {\n",
              "      background-color: #3B4455;\n",
              "      fill: #D2E3FC;\n",
              "    }\n",
              "\n",
              "    [theme=dark] .colab-df-convert:hover {\n",
              "      background-color: #434B5C;\n",
              "      box-shadow: 0px 1px 3px 1px rgba(0, 0, 0, 0.15);\n",
              "      filter: drop-shadow(0px 1px 2px rgba(0, 0, 0, 0.3));\n",
              "      fill: #FFFFFF;\n",
              "    }\n",
              "  </style>\n",
              "\n",
              "      <script>\n",
              "        const buttonEl =\n",
              "          document.querySelector('#df-12d9f6be-5da5-4b82-8051-ddd9c79a8c42 button.colab-df-convert');\n",
              "        buttonEl.style.display =\n",
              "          google.colab.kernel.accessAllowed ? 'block' : 'none';\n",
              "\n",
              "        async function convertToInteractive(key) {\n",
              "          const element = document.querySelector('#df-12d9f6be-5da5-4b82-8051-ddd9c79a8c42');\n",
              "          const dataTable =\n",
              "            await google.colab.kernel.invokeFunction('convertToInteractive',\n",
              "                                                     [key], {});\n",
              "          if (!dataTable) return;\n",
              "\n",
              "          const docLinkHtml = 'Like what you see? Visit the ' +\n",
              "            '<a target=\"_blank\" href=https://colab.research.google.com/notebooks/data_table.ipynb>data table notebook</a>'\n",
              "            + ' to learn more about interactive tables.';\n",
              "          element.innerHTML = '';\n",
              "          dataTable['output_type'] = 'display_data';\n",
              "          await google.colab.output.renderOutput(dataTable, element);\n",
              "          const docLink = document.createElement('div');\n",
              "          docLink.innerHTML = docLinkHtml;\n",
              "          element.appendChild(docLink);\n",
              "        }\n",
              "      </script>\n",
              "    </div>\n",
              "  </div>\n",
              "  "
            ]
          },
          "metadata": {},
          "execution_count": 2
        }
      ]
    },
    {
      "cell_type": "code",
      "source": [
        "df.info()"
      ],
      "metadata": {
        "colab": {
          "base_uri": "https://localhost:8080/"
        },
        "id": "Y4IekBirs0Uv",
        "outputId": "d1ba32c0-8b7e-498e-926f-3369f561925f"
      },
      "execution_count": null,
      "outputs": [
        {
          "output_type": "stream",
          "name": "stdout",
          "text": [
            "<class 'pandas.core.frame.DataFrame'>\n",
            "RangeIndex: 284807 entries, 0 to 284806\n",
            "Data columns (total 31 columns):\n",
            " #   Column  Non-Null Count   Dtype  \n",
            "---  ------  --------------   -----  \n",
            " 0   Time    284807 non-null  float64\n",
            " 1   V1      284807 non-null  float64\n",
            " 2   V2      284807 non-null  float64\n",
            " 3   V3      284807 non-null  float64\n",
            " 4   V4      284807 non-null  float64\n",
            " 5   V5      284807 non-null  float64\n",
            " 6   V6      284807 non-null  float64\n",
            " 7   V7      284807 non-null  float64\n",
            " 8   V8      284807 non-null  float64\n",
            " 9   V9      284807 non-null  float64\n",
            " 10  V10     284807 non-null  float64\n",
            " 11  V11     284807 non-null  float64\n",
            " 12  V12     284807 non-null  float64\n",
            " 13  V13     284807 non-null  float64\n",
            " 14  V14     284807 non-null  float64\n",
            " 15  V15     284807 non-null  float64\n",
            " 16  V16     284807 non-null  float64\n",
            " 17  V17     284807 non-null  float64\n",
            " 18  V18     284807 non-null  float64\n",
            " 19  V19     284807 non-null  float64\n",
            " 20  V20     284807 non-null  float64\n",
            " 21  V21     284807 non-null  float64\n",
            " 22  V22     284807 non-null  float64\n",
            " 23  V23     284807 non-null  float64\n",
            " 24  V24     284807 non-null  float64\n",
            " 25  V25     284807 non-null  float64\n",
            " 26  V26     284807 non-null  float64\n",
            " 27  V27     284807 non-null  float64\n",
            " 28  V28     284807 non-null  float64\n",
            " 29  Amount  284807 non-null  float64\n",
            " 30  Class   284807 non-null  int64  \n",
            "dtypes: float64(30), int64(1)\n",
            "memory usage: 67.4 MB\n"
          ]
        }
      ]
    },
    {
      "cell_type": "code",
      "source": [
        "df.describe()"
      ],
      "metadata": {
        "colab": {
          "base_uri": "https://localhost:8080/",
          "height": 394
        },
        "id": "Jfgv9iY0UC7O",
        "outputId": "8a9af53b-da65-4d46-d60c-b0a067e7dc54"
      },
      "execution_count": null,
      "outputs": [
        {
          "output_type": "execute_result",
          "data": {
            "text/plain": [
              "                Time            V1            V2            V3            V4  \\\n",
              "count  284807.000000  2.848070e+05  2.848070e+05  2.848070e+05  2.848070e+05   \n",
              "mean    94813.859575  3.918649e-15  5.682686e-16 -8.761736e-15  2.811118e-15   \n",
              "std     47488.145955  1.958696e+00  1.651309e+00  1.516255e+00  1.415869e+00   \n",
              "min         0.000000 -5.640751e+01 -7.271573e+01 -4.832559e+01 -5.683171e+00   \n",
              "25%     54201.500000 -9.203734e-01 -5.985499e-01 -8.903648e-01 -8.486401e-01   \n",
              "50%     84692.000000  1.810880e-02  6.548556e-02  1.798463e-01 -1.984653e-02   \n",
              "75%    139320.500000  1.315642e+00  8.037239e-01  1.027196e+00  7.433413e-01   \n",
              "max    172792.000000  2.454930e+00  2.205773e+01  9.382558e+00  1.687534e+01   \n",
              "\n",
              "                 V5            V6            V7            V8            V9  \\\n",
              "count  2.848070e+05  2.848070e+05  2.848070e+05  2.848070e+05  2.848070e+05   \n",
              "mean  -1.552103e-15  2.040130e-15 -1.698953e-15 -1.893285e-16 -3.147640e-15   \n",
              "std    1.380247e+00  1.332271e+00  1.237094e+00  1.194353e+00  1.098632e+00   \n",
              "min   -1.137433e+02 -2.616051e+01 -4.355724e+01 -7.321672e+01 -1.343407e+01   \n",
              "25%   -6.915971e-01 -7.682956e-01 -5.540759e-01 -2.086297e-01 -6.430976e-01   \n",
              "50%   -5.433583e-02 -2.741871e-01  4.010308e-02  2.235804e-02 -5.142873e-02   \n",
              "75%    6.119264e-01  3.985649e-01  5.704361e-01  3.273459e-01  5.971390e-01   \n",
              "max    3.480167e+01  7.330163e+01  1.205895e+02  2.000721e+01  1.559499e+01   \n",
              "\n",
              "       ...           V21           V22           V23           V24  \\\n",
              "count  ...  2.848070e+05  2.848070e+05  2.848070e+05  2.848070e+05   \n",
              "mean   ...  1.473120e-16  8.042109e-16  5.282512e-16  4.456271e-15   \n",
              "std    ...  7.345240e-01  7.257016e-01  6.244603e-01  6.056471e-01   \n",
              "min    ... -3.483038e+01 -1.093314e+01 -4.480774e+01 -2.836627e+00   \n",
              "25%    ... -2.283949e-01 -5.423504e-01 -1.618463e-01 -3.545861e-01   \n",
              "50%    ... -2.945017e-02  6.781943e-03 -1.119293e-02  4.097606e-02   \n",
              "75%    ...  1.863772e-01  5.285536e-01  1.476421e-01  4.395266e-01   \n",
              "max    ...  2.720284e+01  1.050309e+01  2.252841e+01  4.584549e+00   \n",
              "\n",
              "                V25           V26           V27           V28         Amount  \\\n",
              "count  2.848070e+05  2.848070e+05  2.848070e+05  2.848070e+05  284807.000000   \n",
              "mean   1.426896e-15  1.701640e-15 -3.662252e-16 -1.217809e-16      88.349619   \n",
              "std    5.212781e-01  4.822270e-01  4.036325e-01  3.300833e-01     250.120109   \n",
              "min   -1.029540e+01 -2.604551e+00 -2.256568e+01 -1.543008e+01       0.000000   \n",
              "25%   -3.171451e-01 -3.269839e-01 -7.083953e-02 -5.295979e-02       5.600000   \n",
              "50%    1.659350e-02 -5.213911e-02  1.342146e-03  1.124383e-02      22.000000   \n",
              "75%    3.507156e-01  2.409522e-01  9.104512e-02  7.827995e-02      77.165000   \n",
              "max    7.519589e+00  3.517346e+00  3.161220e+01  3.384781e+01   25691.160000   \n",
              "\n",
              "               Class  \n",
              "count  284807.000000  \n",
              "mean        0.001727  \n",
              "std         0.041527  \n",
              "min         0.000000  \n",
              "25%         0.000000  \n",
              "50%         0.000000  \n",
              "75%         0.000000  \n",
              "max         1.000000  \n",
              "\n",
              "[8 rows x 31 columns]"
            ],
            "text/html": [
              "\n",
              "  <div id=\"df-18db2a41-2fc6-42e0-9e17-6fcf7c6f8178\">\n",
              "    <div class=\"colab-df-container\">\n",
              "      <div>\n",
              "<style scoped>\n",
              "    .dataframe tbody tr th:only-of-type {\n",
              "        vertical-align: middle;\n",
              "    }\n",
              "\n",
              "    .dataframe tbody tr th {\n",
              "        vertical-align: top;\n",
              "    }\n",
              "\n",
              "    .dataframe thead th {\n",
              "        text-align: right;\n",
              "    }\n",
              "</style>\n",
              "<table border=\"1\" class=\"dataframe\">\n",
              "  <thead>\n",
              "    <tr style=\"text-align: right;\">\n",
              "      <th></th>\n",
              "      <th>Time</th>\n",
              "      <th>V1</th>\n",
              "      <th>V2</th>\n",
              "      <th>V3</th>\n",
              "      <th>V4</th>\n",
              "      <th>V5</th>\n",
              "      <th>V6</th>\n",
              "      <th>V7</th>\n",
              "      <th>V8</th>\n",
              "      <th>V9</th>\n",
              "      <th>...</th>\n",
              "      <th>V21</th>\n",
              "      <th>V22</th>\n",
              "      <th>V23</th>\n",
              "      <th>V24</th>\n",
              "      <th>V25</th>\n",
              "      <th>V26</th>\n",
              "      <th>V27</th>\n",
              "      <th>V28</th>\n",
              "      <th>Amount</th>\n",
              "      <th>Class</th>\n",
              "    </tr>\n",
              "  </thead>\n",
              "  <tbody>\n",
              "    <tr>\n",
              "      <th>count</th>\n",
              "      <td>284807.000000</td>\n",
              "      <td>2.848070e+05</td>\n",
              "      <td>2.848070e+05</td>\n",
              "      <td>2.848070e+05</td>\n",
              "      <td>2.848070e+05</td>\n",
              "      <td>2.848070e+05</td>\n",
              "      <td>2.848070e+05</td>\n",
              "      <td>2.848070e+05</td>\n",
              "      <td>2.848070e+05</td>\n",
              "      <td>2.848070e+05</td>\n",
              "      <td>...</td>\n",
              "      <td>2.848070e+05</td>\n",
              "      <td>2.848070e+05</td>\n",
              "      <td>2.848070e+05</td>\n",
              "      <td>2.848070e+05</td>\n",
              "      <td>2.848070e+05</td>\n",
              "      <td>2.848070e+05</td>\n",
              "      <td>2.848070e+05</td>\n",
              "      <td>2.848070e+05</td>\n",
              "      <td>284807.000000</td>\n",
              "      <td>284807.000000</td>\n",
              "    </tr>\n",
              "    <tr>\n",
              "      <th>mean</th>\n",
              "      <td>94813.859575</td>\n",
              "      <td>3.918649e-15</td>\n",
              "      <td>5.682686e-16</td>\n",
              "      <td>-8.761736e-15</td>\n",
              "      <td>2.811118e-15</td>\n",
              "      <td>-1.552103e-15</td>\n",
              "      <td>2.040130e-15</td>\n",
              "      <td>-1.698953e-15</td>\n",
              "      <td>-1.893285e-16</td>\n",
              "      <td>-3.147640e-15</td>\n",
              "      <td>...</td>\n",
              "      <td>1.473120e-16</td>\n",
              "      <td>8.042109e-16</td>\n",
              "      <td>5.282512e-16</td>\n",
              "      <td>4.456271e-15</td>\n",
              "      <td>1.426896e-15</td>\n",
              "      <td>1.701640e-15</td>\n",
              "      <td>-3.662252e-16</td>\n",
              "      <td>-1.217809e-16</td>\n",
              "      <td>88.349619</td>\n",
              "      <td>0.001727</td>\n",
              "    </tr>\n",
              "    <tr>\n",
              "      <th>std</th>\n",
              "      <td>47488.145955</td>\n",
              "      <td>1.958696e+00</td>\n",
              "      <td>1.651309e+00</td>\n",
              "      <td>1.516255e+00</td>\n",
              "      <td>1.415869e+00</td>\n",
              "      <td>1.380247e+00</td>\n",
              "      <td>1.332271e+00</td>\n",
              "      <td>1.237094e+00</td>\n",
              "      <td>1.194353e+00</td>\n",
              "      <td>1.098632e+00</td>\n",
              "      <td>...</td>\n",
              "      <td>7.345240e-01</td>\n",
              "      <td>7.257016e-01</td>\n",
              "      <td>6.244603e-01</td>\n",
              "      <td>6.056471e-01</td>\n",
              "      <td>5.212781e-01</td>\n",
              "      <td>4.822270e-01</td>\n",
              "      <td>4.036325e-01</td>\n",
              "      <td>3.300833e-01</td>\n",
              "      <td>250.120109</td>\n",
              "      <td>0.041527</td>\n",
              "    </tr>\n",
              "    <tr>\n",
              "      <th>min</th>\n",
              "      <td>0.000000</td>\n",
              "      <td>-5.640751e+01</td>\n",
              "      <td>-7.271573e+01</td>\n",
              "      <td>-4.832559e+01</td>\n",
              "      <td>-5.683171e+00</td>\n",
              "      <td>-1.137433e+02</td>\n",
              "      <td>-2.616051e+01</td>\n",
              "      <td>-4.355724e+01</td>\n",
              "      <td>-7.321672e+01</td>\n",
              "      <td>-1.343407e+01</td>\n",
              "      <td>...</td>\n",
              "      <td>-3.483038e+01</td>\n",
              "      <td>-1.093314e+01</td>\n",
              "      <td>-4.480774e+01</td>\n",
              "      <td>-2.836627e+00</td>\n",
              "      <td>-1.029540e+01</td>\n",
              "      <td>-2.604551e+00</td>\n",
              "      <td>-2.256568e+01</td>\n",
              "      <td>-1.543008e+01</td>\n",
              "      <td>0.000000</td>\n",
              "      <td>0.000000</td>\n",
              "    </tr>\n",
              "    <tr>\n",
              "      <th>25%</th>\n",
              "      <td>54201.500000</td>\n",
              "      <td>-9.203734e-01</td>\n",
              "      <td>-5.985499e-01</td>\n",
              "      <td>-8.903648e-01</td>\n",
              "      <td>-8.486401e-01</td>\n",
              "      <td>-6.915971e-01</td>\n",
              "      <td>-7.682956e-01</td>\n",
              "      <td>-5.540759e-01</td>\n",
              "      <td>-2.086297e-01</td>\n",
              "      <td>-6.430976e-01</td>\n",
              "      <td>...</td>\n",
              "      <td>-2.283949e-01</td>\n",
              "      <td>-5.423504e-01</td>\n",
              "      <td>-1.618463e-01</td>\n",
              "      <td>-3.545861e-01</td>\n",
              "      <td>-3.171451e-01</td>\n",
              "      <td>-3.269839e-01</td>\n",
              "      <td>-7.083953e-02</td>\n",
              "      <td>-5.295979e-02</td>\n",
              "      <td>5.600000</td>\n",
              "      <td>0.000000</td>\n",
              "    </tr>\n",
              "    <tr>\n",
              "      <th>50%</th>\n",
              "      <td>84692.000000</td>\n",
              "      <td>1.810880e-02</td>\n",
              "      <td>6.548556e-02</td>\n",
              "      <td>1.798463e-01</td>\n",
              "      <td>-1.984653e-02</td>\n",
              "      <td>-5.433583e-02</td>\n",
              "      <td>-2.741871e-01</td>\n",
              "      <td>4.010308e-02</td>\n",
              "      <td>2.235804e-02</td>\n",
              "      <td>-5.142873e-02</td>\n",
              "      <td>...</td>\n",
              "      <td>-2.945017e-02</td>\n",
              "      <td>6.781943e-03</td>\n",
              "      <td>-1.119293e-02</td>\n",
              "      <td>4.097606e-02</td>\n",
              "      <td>1.659350e-02</td>\n",
              "      <td>-5.213911e-02</td>\n",
              "      <td>1.342146e-03</td>\n",
              "      <td>1.124383e-02</td>\n",
              "      <td>22.000000</td>\n",
              "      <td>0.000000</td>\n",
              "    </tr>\n",
              "    <tr>\n",
              "      <th>75%</th>\n",
              "      <td>139320.500000</td>\n",
              "      <td>1.315642e+00</td>\n",
              "      <td>8.037239e-01</td>\n",
              "      <td>1.027196e+00</td>\n",
              "      <td>7.433413e-01</td>\n",
              "      <td>6.119264e-01</td>\n",
              "      <td>3.985649e-01</td>\n",
              "      <td>5.704361e-01</td>\n",
              "      <td>3.273459e-01</td>\n",
              "      <td>5.971390e-01</td>\n",
              "      <td>...</td>\n",
              "      <td>1.863772e-01</td>\n",
              "      <td>5.285536e-01</td>\n",
              "      <td>1.476421e-01</td>\n",
              "      <td>4.395266e-01</td>\n",
              "      <td>3.507156e-01</td>\n",
              "      <td>2.409522e-01</td>\n",
              "      <td>9.104512e-02</td>\n",
              "      <td>7.827995e-02</td>\n",
              "      <td>77.165000</td>\n",
              "      <td>0.000000</td>\n",
              "    </tr>\n",
              "    <tr>\n",
              "      <th>max</th>\n",
              "      <td>172792.000000</td>\n",
              "      <td>2.454930e+00</td>\n",
              "      <td>2.205773e+01</td>\n",
              "      <td>9.382558e+00</td>\n",
              "      <td>1.687534e+01</td>\n",
              "      <td>3.480167e+01</td>\n",
              "      <td>7.330163e+01</td>\n",
              "      <td>1.205895e+02</td>\n",
              "      <td>2.000721e+01</td>\n",
              "      <td>1.559499e+01</td>\n",
              "      <td>...</td>\n",
              "      <td>2.720284e+01</td>\n",
              "      <td>1.050309e+01</td>\n",
              "      <td>2.252841e+01</td>\n",
              "      <td>4.584549e+00</td>\n",
              "      <td>7.519589e+00</td>\n",
              "      <td>3.517346e+00</td>\n",
              "      <td>3.161220e+01</td>\n",
              "      <td>3.384781e+01</td>\n",
              "      <td>25691.160000</td>\n",
              "      <td>1.000000</td>\n",
              "    </tr>\n",
              "  </tbody>\n",
              "</table>\n",
              "<p>8 rows × 31 columns</p>\n",
              "</div>\n",
              "      <button class=\"colab-df-convert\" onclick=\"convertToInteractive('df-18db2a41-2fc6-42e0-9e17-6fcf7c6f8178')\"\n",
              "              title=\"Convert this dataframe to an interactive table.\"\n",
              "              style=\"display:none;\">\n",
              "        \n",
              "  <svg xmlns=\"http://www.w3.org/2000/svg\" height=\"24px\"viewBox=\"0 0 24 24\"\n",
              "       width=\"24px\">\n",
              "    <path d=\"M0 0h24v24H0V0z\" fill=\"none\"/>\n",
              "    <path d=\"M18.56 5.44l.94 2.06.94-2.06 2.06-.94-2.06-.94-.94-2.06-.94 2.06-2.06.94zm-11 1L8.5 8.5l.94-2.06 2.06-.94-2.06-.94L8.5 2.5l-.94 2.06-2.06.94zm10 10l.94 2.06.94-2.06 2.06-.94-2.06-.94-.94-2.06-.94 2.06-2.06.94z\"/><path d=\"M17.41 7.96l-1.37-1.37c-.4-.4-.92-.59-1.43-.59-.52 0-1.04.2-1.43.59L10.3 9.45l-7.72 7.72c-.78.78-.78 2.05 0 2.83L4 21.41c.39.39.9.59 1.41.59.51 0 1.02-.2 1.41-.59l7.78-7.78 2.81-2.81c.8-.78.8-2.07 0-2.86zM5.41 20L4 18.59l7.72-7.72 1.47 1.35L5.41 20z\"/>\n",
              "  </svg>\n",
              "      </button>\n",
              "      \n",
              "  <style>\n",
              "    .colab-df-container {\n",
              "      display:flex;\n",
              "      flex-wrap:wrap;\n",
              "      gap: 12px;\n",
              "    }\n",
              "\n",
              "    .colab-df-convert {\n",
              "      background-color: #E8F0FE;\n",
              "      border: none;\n",
              "      border-radius: 50%;\n",
              "      cursor: pointer;\n",
              "      display: none;\n",
              "      fill: #1967D2;\n",
              "      height: 32px;\n",
              "      padding: 0 0 0 0;\n",
              "      width: 32px;\n",
              "    }\n",
              "\n",
              "    .colab-df-convert:hover {\n",
              "      background-color: #E2EBFA;\n",
              "      box-shadow: 0px 1px 2px rgba(60, 64, 67, 0.3), 0px 1px 3px 1px rgba(60, 64, 67, 0.15);\n",
              "      fill: #174EA6;\n",
              "    }\n",
              "\n",
              "    [theme=dark] .colab-df-convert {\n",
              "      background-color: #3B4455;\n",
              "      fill: #D2E3FC;\n",
              "    }\n",
              "\n",
              "    [theme=dark] .colab-df-convert:hover {\n",
              "      background-color: #434B5C;\n",
              "      box-shadow: 0px 1px 3px 1px rgba(0, 0, 0, 0.15);\n",
              "      filter: drop-shadow(0px 1px 2px rgba(0, 0, 0, 0.3));\n",
              "      fill: #FFFFFF;\n",
              "    }\n",
              "  </style>\n",
              "\n",
              "      <script>\n",
              "        const buttonEl =\n",
              "          document.querySelector('#df-18db2a41-2fc6-42e0-9e17-6fcf7c6f8178 button.colab-df-convert');\n",
              "        buttonEl.style.display =\n",
              "          google.colab.kernel.accessAllowed ? 'block' : 'none';\n",
              "\n",
              "        async function convertToInteractive(key) {\n",
              "          const element = document.querySelector('#df-18db2a41-2fc6-42e0-9e17-6fcf7c6f8178');\n",
              "          const dataTable =\n",
              "            await google.colab.kernel.invokeFunction('convertToInteractive',\n",
              "                                                     [key], {});\n",
              "          if (!dataTable) return;\n",
              "\n",
              "          const docLinkHtml = 'Like what you see? Visit the ' +\n",
              "            '<a target=\"_blank\" href=https://colab.research.google.com/notebooks/data_table.ipynb>data table notebook</a>'\n",
              "            + ' to learn more about interactive tables.';\n",
              "          element.innerHTML = '';\n",
              "          dataTable['output_type'] = 'display_data';\n",
              "          await google.colab.output.renderOutput(dataTable, element);\n",
              "          const docLink = document.createElement('div');\n",
              "          docLink.innerHTML = docLinkHtml;\n",
              "          element.appendChild(docLink);\n",
              "        }\n",
              "      </script>\n",
              "    </div>\n",
              "  </div>\n",
              "  "
            ]
          },
          "metadata": {},
          "execution_count": 4
        }
      ]
    },
    {
      "cell_type": "code",
      "source": [
        "#Let's see the variables with higher standard deviation\n",
        "\n",
        "df.std()"
      ],
      "metadata": {
        "colab": {
          "base_uri": "https://localhost:8080/"
        },
        "id": "y05iIUPR4Q4j",
        "outputId": "6b949d09-3c4d-4317-db8f-cac9871cbf27"
      },
      "execution_count": null,
      "outputs": [
        {
          "output_type": "execute_result",
          "data": {
            "text/plain": [
              "Time      47488.145955\n",
              "V1            1.958696\n",
              "V2            1.651309\n",
              "V3            1.516255\n",
              "V4            1.415869\n",
              "V5            1.380247\n",
              "V6            1.332271\n",
              "V7            1.237094\n",
              "V8            1.194353\n",
              "V9            1.098632\n",
              "V10           1.088850\n",
              "V11           1.020713\n",
              "V12           0.999201\n",
              "V13           0.995274\n",
              "V14           0.958596\n",
              "V15           0.915316\n",
              "V16           0.876253\n",
              "V17           0.849337\n",
              "V18           0.838176\n",
              "V19           0.814041\n",
              "V20           0.770925\n",
              "V21           0.734524\n",
              "V22           0.725702\n",
              "V23           0.624460\n",
              "V24           0.605647\n",
              "V25           0.521278\n",
              "V26           0.482227\n",
              "V27           0.403632\n",
              "V28           0.330083\n",
              "Amount      250.120109\n",
              "Class         0.041527\n",
              "dtype: float64"
            ]
          },
          "metadata": {},
          "execution_count": 5
        }
      ]
    },
    {
      "cell_type": "code",
      "source": [
        "#checking for NaN values\n",
        "df.isnull().values.any()"
      ],
      "metadata": {
        "colab": {
          "base_uri": "https://localhost:8080/"
        },
        "id": "CSAkG8I7VIGc",
        "outputId": "56a5a869-f6f7-49fa-bc93-330229730b3d"
      },
      "execution_count": null,
      "outputs": [
        {
          "output_type": "execute_result",
          "data": {
            "text/plain": [
              "False"
            ]
          },
          "metadata": {},
          "execution_count": 6
        }
      ]
    },
    {
      "cell_type": "code",
      "source": [
        "#proportions of the the class variable, calculating the percentage\n",
        "print('No Frauds', round(df['Class'].value_counts()[0]/len(df) * 100,2), '% of the dataset')\n",
        "print('Frauds', round(df['Class'].value_counts()[1]/len(df) * 100,2), '% of the dataset')"
      ],
      "metadata": {
        "colab": {
          "base_uri": "https://localhost:8080/"
        },
        "id": "knOBfu7d_gPA",
        "outputId": "5753f3d9-b337-41dd-adf2-9bd3259358f8"
      },
      "execution_count": null,
      "outputs": [
        {
          "output_type": "stream",
          "name": "stdout",
          "text": [
            "No Frauds 99.83 % of the dataset\n",
            "Frauds 0.17 % of the dataset\n"
          ]
        }
      ]
    },
    {
      "cell_type": "code",
      "source": [
        "#plotting how imbalanced is the target variable 'Class'\n",
        "colors = [\"#42FF33\", \"#DF0101\"]\n",
        "\n",
        "sns.countplot('Class', data=df, palette=colors)\n",
        "plt.title('Class Distributions \\n (No Fraud: 0   Fraud: 1)', fontsize=14)"
      ],
      "metadata": {
        "colab": {
          "base_uri": "https://localhost:8080/",
          "height": 385
        },
        "id": "ndZ7Y-QERjJI",
        "outputId": "e75e67c6-cf05-4509-9863-f72cbbfb26ce"
      },
      "execution_count": null,
      "outputs": [
        {
          "output_type": "stream",
          "name": "stderr",
          "text": [
            "/usr/local/lib/python3.7/dist-packages/seaborn/_decorators.py:43: FutureWarning: Pass the following variable as a keyword arg: x. From version 0.12, the only valid positional argument will be `data`, and passing other arguments without an explicit keyword will result in an error or misinterpretation.\n",
            "  FutureWarning\n"
          ]
        },
        {
          "output_type": "execute_result",
          "data": {
            "text/plain": [
              "Text(0.5, 1.0, 'Class Distributions \\n (No Fraud: 0   Fraud: 1)')"
            ]
          },
          "metadata": {},
          "execution_count": 8
        },
        {
          "output_type": "display_data",
          "data": {
            "text/plain": [
              "<Figure size 432x288 with 1 Axes>"
            ],
            "image/png": "[encoded data removed]"
          },
          "metadata": {
            "needs_background": "light"
          }
        }
      ]
    },
    {
      "cell_type": "code",
      "source": [
        "max(df.Amount), min(df.Amount)"
      ],
      "metadata": {
        "colab": {
          "base_uri": "https://localhost:8080/"
        },
        "id": "DPqq0u64bgbv",
        "outputId": "debb6bb0-2676-459c-c4fb-df53766085e7"
      },
      "execution_count": null,
      "outputs": [
        {
          "output_type": "execute_result",
          "data": {
            "text/plain": [
              "(25691.16, 0.0)"
            ]
          },
          "metadata": {},
          "execution_count": 9
        }
      ]
    },
    {
      "cell_type": "code",
      "source": [
        "max(df.Time), min(df.Time)"
      ],
      "metadata": {
        "colab": {
          "base_uri": "https://localhost:8080/"
        },
        "id": "m1ZXfSkZb0cI",
        "outputId": "df3886bd-c58a-4f9e-f385-f213fb5c86d5"
      },
      "execution_count": null,
      "outputs": [
        {
          "output_type": "execute_result",
          "data": {
            "text/plain": [
              "(172792.0, 0.0)"
            ]
          },
          "metadata": {},
          "execution_count": 10
        }
      ]
    },
    {
      "cell_type": "code",
      "source": [
        "#checking distribution of variables 'Time' and 'Amount' we observe that these variables are very biased\n",
        "#we'll be using percent stat: normalize such that bar heights sum to 100\n",
        "\n",
        "fig, ax = plt.subplots(1, 2, figsize=(18,4))\n",
        "\n",
        "amount_val = df['Amount'].values\n",
        "time_val = df['Time'].values\n",
        "\n",
        "sns.histplot(amount_val, ax=ax[0], color='r', label=\"100% Equities\", kde=True, stat=\"percent\", linewidth=1 )\n",
        "ax[0].set_title('Distribution of Transaction Amount', fontsize=14)\n",
        "ax[0].set_xlim([min(amount_val), max(amount_val)])\n",
        "\n",
        "sns.histplot(time_val, ax=ax[1], color='b', label=\"100% Equities\", kde=True, stat=\"percent\", linewidth=1)\n",
        "ax[1].set_title('Distribution of Transaction Time', fontsize=14)\n",
        "ax[1].set_xlim([min(time_val), max(time_val)])\n",
        "\n",
        "\n"
      ],
      "metadata": {
        "colab": {
          "base_uri": "https://localhost:8080/",
          "height": 259
        },
        "id": "QTFPHVjiXP1q",
        "outputId": "5a3bc330-8065-43d5-9e71-bf45d1252f69"
      },
      "execution_count": null,
      "outputs": [
        {
          "output_type": "execute_result",
          "data": {
            "text/plain": [
              "(0.0, 172792.0)"
            ]
          },
          "metadata": {},
          "execution_count": 11
        },
        {
          "output_type": "display_data",
          "data": {
            "text/plain": [
              "<Figure size 1296x288 with 2 Axes>"
            ],
            "image/png": "[encoded data removed]"
          },
          "metadata": {
            "needs_background": "light"
          }
        }
      ]
    },
    {
      "cell_type": "code",
      "source": [
        "#normalise the amount column\n",
        "#from sklearn.preprocessing import StandardScaler\n",
        "#scale= StandardScaler()\n",
        "#df['NormAmount'] = scale.fit_transform(np.array(df['Amount']).reshape(-1, 1))"
      ],
      "metadata": {
        "id": "V084E-zeFAHd"
      },
      "execution_count": null,
      "outputs": []
    },
    {
      "cell_type": "code",
      "source": [
        "#drop Time and Amount columns as they are too biased and not relevant for the prediction\n",
        "\n",
        "df_ml= df.drop(['Time'], axis= 1)"
      ],
      "metadata": {
        "id": "ErukHSXvWdAM"
      },
      "execution_count": null,
      "outputs": []
    },
    {
      "cell_type": "code",
      "source": [
        "df_ml.columns"
      ],
      "metadata": {
        "colab": {
          "base_uri": "https://localhost:8080/"
        },
        "id": "oAhi2E6mTDdD",
        "outputId": "d6f77380-711f-4d57-f0d6-3643e0be060f"
      },
      "execution_count": null,
      "outputs": [
        {
          "output_type": "execute_result",
          "data": {
            "text/plain": [
              "Index(['V1', 'V2', 'V3', 'V4', 'V5', 'V6', 'V7', 'V8', 'V9', 'V10', 'V11',\n",
              "       'V12', 'V13', 'V14', 'V15', 'V16', 'V17', 'V18', 'V19', 'V20', 'V21',\n",
              "       'V22', 'V23', 'V24', 'V25', 'V26', 'V27', 'V28', 'Amount', 'Class'],\n",
              "      dtype='object')"
            ]
          },
          "metadata": {},
          "execution_count": 14
        }
      ]
    },
    {
      "cell_type": "code",
      "source": [
        "#sns.pairplot(df_ml[param1], hue = 'Class') "
      ],
      "metadata": {
        "id": "54cX1uEBeDVu"
      },
      "execution_count": null,
      "outputs": []
    },
    {
      "cell_type": "markdown",
      "source": [
        "#ML Models"
      ],
      "metadata": {
        "id": "2TVkrNyAqjmc"
      }
    },
    {
      "cell_type": "markdown",
      "source": [
        "##Test and train split"
      ],
      "metadata": {
        "id": "C9MBEbTDrON1"
      }
    },
    {
      "cell_type": "code",
      "source": [
        "seed = 123\n",
        "test_size = 0.30 \n",
        "df_train, df_test = train_test_split(df_ml, test_size=test_size,\n",
        "                                                    random_state=seed)\n"
      ],
      "metadata": {
        "id": "yrCGx1c2vsQ5"
      },
      "execution_count": null,
      "outputs": []
    },
    {
      "cell_type": "code",
      "source": [
        "df_train"
      ],
      "metadata": {
        "colab": {
          "base_uri": "https://localhost:8080/",
          "height": 488
        },
        "id": "wdrawFkqFMK8",
        "outputId": "2962675b-bf70-487d-a304-f2fe4101fe4b"
      },
      "execution_count": null,
      "outputs": [
        {
          "output_type": "execute_result",
          "data": {
            "text/plain": [
              "              V1        V2        V3        V4        V5        V6        V7  \\\n",
              "9057    1.223528  0.726064 -0.192303  1.315143  0.327134 -0.627426  0.103793   \n",
              "197407 -1.531257 -0.845410 -0.661207 -0.010479  2.096034 -1.582374  0.644661   \n",
              "257714  2.302551 -1.410263 -1.301974 -1.825564 -0.774062  0.000869 -1.163464   \n",
              "201302  1.809691  0.232969  0.312680  3.745688 -0.357230  0.337521 -0.547228   \n",
              "167965 -2.449361  2.602426 -2.648017  0.169754 -0.043874 -1.789616 -0.259222   \n",
              "...          ...       ...       ...       ...       ...       ...       ...   \n",
              "192476  2.085321 -1.119472 -0.260414 -0.829419 -1.373550 -0.504944 -1.224794   \n",
              "17730  -1.039001  0.950070  0.389899 -1.217401  1.855856  3.640886 -0.549604   \n",
              "28030   1.129333  0.471653  0.657500  2.454111 -0.091741 -0.089917  0.008581   \n",
              "277869  1.636784 -0.560857 -1.944589  0.405452  0.157569 -0.635650  0.315338   \n",
              "249342  1.906410 -0.531680 -1.175688  0.132728 -0.229802 -0.565090 -0.056376   \n",
              "\n",
              "              V8        V9       V10  ...       V21       V22       V23  \\\n",
              "9057   -0.166424  0.941614 -0.755328  ... -0.168107 -0.192579 -0.161883   \n",
              "197407 -0.146939  0.305072 -0.877905  ... -0.425386 -0.558420  1.625851   \n",
              "257714 -0.018924 -1.428129  1.749254  ... -0.164472 -0.037426  0.172886   \n",
              "201302  0.286964 -0.538232  1.574565  ... -0.152481 -0.534599  0.448150   \n",
              "167965  1.078845 -0.559213 -1.896160  ...  0.476948  0.868659  0.003451   \n",
              "...          ...       ...       ...  ...       ...       ...       ...   \n",
              "192476  0.027016  0.011921  0.910736  ...  0.523933  1.560949  0.059730   \n",
              "17730   1.505694 -0.559184 -0.619047  ... -0.090529 -0.491079 -0.179921   \n",
              "28030   0.060009 -0.623285  0.661338  ... -0.048241 -0.201293  0.053427   \n",
              "277869 -0.200477  0.678971 -0.775364  ... -0.100809 -0.465458 -0.063594   \n",
              "249342 -0.077301  0.978166 -0.041916  ... -0.109076 -0.261720  0.121635   \n",
              "\n",
              "             V24       V25       V26       V27       V28  Amount  Class  \n",
              "9057   -0.158105  0.687808 -0.363874  0.001551  0.030803    1.00      0  \n",
              "197407  0.490823  0.165614 -0.613079  0.388003 -0.082430    9.99      0  \n",
              "257714  0.066635 -0.104352 -0.174764 -0.003206 -0.060548   20.00      0  \n",
              "201302 -0.047445 -0.652783 -0.402664 -0.002607 -0.035744    9.99      0  \n",
              "167965 -0.202979 -0.444781 -0.232060 -1.115661 -0.025988    1.00      0  \n",
              "...          ...       ...       ...       ...       ...     ...    ...  \n",
              "192476  0.131521 -0.145999  0.012917  0.012268 -0.054809   22.49      0  \n",
              "17730   1.004741  0.317712  0.281484  0.153761  0.062423    5.99      0  \n",
              "28030   0.027638  0.321256 -0.042526  0.001532  0.021002   11.99      0  \n",
              "277869 -0.580315 -0.080220 -0.101500 -0.043508 -0.001004  203.97      0  \n",
              "249342 -0.341628 -0.102660 -0.091871 -0.045385 -0.060711   64.24      0  \n",
              "\n",
              "[199364 rows x 30 columns]"
            ],
            "text/html": [
              "\n",
              "  <div id=\"df-80b393f5-b14b-439b-8103-400b63f611d8\">\n",
              "    <div class=\"colab-df-container\">\n",
              "      <div>\n",
              "<style scoped>\n",
              "    .dataframe tbody tr th:only-of-type {\n",
              "        vertical-align: middle;\n",
              "    }\n",
              "\n",
              "    .dataframe tbody tr th {\n",
              "        vertical-align: top;\n",
              "    }\n",
              "\n",
              "    .dataframe thead th {\n",
              "        text-align: right;\n",
              "    }\n",
              "</style>\n",
              "<table border=\"1\" class=\"dataframe\">\n",
              "  <thead>\n",
              "    <tr style=\"text-align: right;\">\n",
              "      <th></th>\n",
              "      <th>V1</th>\n",
              "      <th>V2</th>\n",
              "      <th>V3</th>\n",
              "      <th>V4</th>\n",
              "      <th>V5</th>\n",
              "      <th>V6</th>\n",
              "      <th>V7</th>\n",
              "      <th>V8</th>\n",
              "      <th>V9</th>\n",
              "      <th>V10</th>\n",
              "      <th>...</th>\n",
              "      <th>V21</th>\n",
              "      <th>V22</th>\n",
              "      <th>V23</th>\n",
              "      <th>V24</th>\n",
              "      <th>V25</th>\n",
              "      <th>V26</th>\n",
              "      <th>V27</th>\n",
              "      <th>V28</th>\n",
              "      <th>Amount</th>\n",
              "      <th>Class</th>\n",
              "    </tr>\n",
              "  </thead>\n",
              "  <tbody>\n",
              "    <tr>\n",
              "      <th>9057</th>\n",
              "      <td>1.223528</td>\n",
              "      <td>0.726064</td>\n",
              "      <td>-0.192303</td>\n",
              "      <td>1.315143</td>\n",
              "      <td>0.327134</td>\n",
              "      <td>-0.627426</td>\n",
              "      <td>0.103793</td>\n",
              "      <td>-0.166424</td>\n",
              "      <td>0.941614</td>\n",
              "      <td>-0.755328</td>\n",
              "      <td>...</td>\n",
              "      <td>-0.168107</td>\n",
              "      <td>-0.192579</td>\n",
              "      <td>-0.161883</td>\n",
              "      <td>-0.158105</td>\n",
              "      <td>0.687808</td>\n",
              "      <td>-0.363874</td>\n",
              "      <td>0.001551</td>\n",
              "      <td>0.030803</td>\n",
              "      <td>1.00</td>\n",
              "      <td>0</td>\n",
              "    </tr>\n",
              "    <tr>\n",
              "      <th>197407</th>\n",
              "      <td>-1.531257</td>\n",
              "      <td>-0.845410</td>\n",
              "      <td>-0.661207</td>\n",
              "      <td>-0.010479</td>\n",
              "      <td>2.096034</td>\n",
              "      <td>-1.582374</td>\n",
              "      <td>0.644661</td>\n",
              "      <td>-0.146939</td>\n",
              "      <td>0.305072</td>\n",
              "      <td>-0.877905</td>\n",
              "      <td>...</td>\n",
              "      <td>-0.425386</td>\n",
              "      <td>-0.558420</td>\n",
              "      <td>1.625851</td>\n",
              "      <td>0.490823</td>\n",
              "      <td>0.165614</td>\n",
              "      <td>-0.613079</td>\n",
              "      <td>0.388003</td>\n",
              "      <td>-0.082430</td>\n",
              "      <td>9.99</td>\n",
              "      <td>0</td>\n",
              "    </tr>\n",
              "    <tr>\n",
              "      <th>257714</th>\n",
              "      <td>2.302551</td>\n",
              "      <td>-1.410263</td>\n",
              "      <td>-1.301974</td>\n",
              "      <td>-1.825564</td>\n",
              "      <td>-0.774062</td>\n",
              "      <td>0.000869</td>\n",
              "      <td>-1.163464</td>\n",
              "      <td>-0.018924</td>\n",
              "      <td>-1.428129</td>\n",
              "      <td>1.749254</td>\n",
              "      <td>...</td>\n",
              "      <td>-0.164472</td>\n",
              "      <td>-0.037426</td>\n",
              "      <td>0.172886</td>\n",
              "      <td>0.066635</td>\n",
              "      <td>-0.104352</td>\n",
              "      <td>-0.174764</td>\n",
              "      <td>-0.003206</td>\n",
              "      <td>-0.060548</td>\n",
              "      <td>20.00</td>\n",
              "      <td>0</td>\n",
              "    </tr>\n",
              "    <tr>\n",
              "      <th>201302</th>\n",
              "      <td>1.809691</td>\n",
              "      <td>0.232969</td>\n",
              "      <td>0.312680</td>\n",
              "      <td>3.745688</td>\n",
              "      <td>-0.357230</td>\n",
              "      <td>0.337521</td>\n",
              "      <td>-0.547228</td>\n",
              "      <td>0.286964</td>\n",
              "      <td>-0.538232</td>\n",
              "      <td>1.574565</td>\n",
              "      <td>...</td>\n",
              "      <td>-0.152481</td>\n",
              "      <td>-0.534599</td>\n",
              "      <td>0.448150</td>\n",
              "      <td>-0.047445</td>\n",
              "      <td>-0.652783</td>\n",
              "      <td>-0.402664</td>\n",
              "      <td>-0.002607</td>\n",
              "      <td>-0.035744</td>\n",
              "      <td>9.99</td>\n",
              "      <td>0</td>\n",
              "    </tr>\n",
              "    <tr>\n",
              "      <th>167965</th>\n",
              "      <td>-2.449361</td>\n",
              "      <td>2.602426</td>\n",
              "      <td>-2.648017</td>\n",
              "      <td>0.169754</td>\n",
              "      <td>-0.043874</td>\n",
              "      <td>-1.789616</td>\n",
              "      <td>-0.259222</td>\n",
              "      <td>1.078845</td>\n",
              "      <td>-0.559213</td>\n",
              "      <td>-1.896160</td>\n",
              "      <td>...</td>\n",
              "      <td>0.476948</td>\n",
              "      <td>0.868659</td>\n",
              "      <td>0.003451</td>\n",
              "      <td>-0.202979</td>\n",
              "      <td>-0.444781</td>\n",
              "      <td>-0.232060</td>\n",
              "      <td>-1.115661</td>\n",
              "      <td>-0.025988</td>\n",
              "      <td>1.00</td>\n",
              "      <td>0</td>\n",
              "    </tr>\n",
              "    <tr>\n",
              "      <th>...</th>\n",
              "      <td>...</td>\n",
              "      <td>...</td>\n",
              "      <td>...</td>\n",
              "      <td>...</td>\n",
              "      <td>...</td>\n",
              "      <td>...</td>\n",
              "      <td>...</td>\n",
              "      <td>...</td>\n",
              "      <td>...</td>\n",
              "      <td>...</td>\n",
              "      <td>...</td>\n",
              "      <td>...</td>\n",
              "      <td>...</td>\n",
              "      <td>...</td>\n",
              "      <td>...</td>\n",
              "      <td>...</td>\n",
              "      <td>...</td>\n",
              "      <td>...</td>\n",
              "      <td>...</td>\n",
              "      <td>...</td>\n",
              "      <td>...</td>\n",
              "    </tr>\n",
              "    <tr>\n",
              "      <th>192476</th>\n",
              "      <td>2.085321</td>\n",
              "      <td>-1.119472</td>\n",
              "      <td>-0.260414</td>\n",
              "      <td>-0.829419</td>\n",
              "      <td>-1.373550</td>\n",
              "      <td>-0.504944</td>\n",
              "      <td>-1.224794</td>\n",
              "      <td>0.027016</td>\n",
              "      <td>0.011921</td>\n",
              "      <td>0.910736</td>\n",
              "      <td>...</td>\n",
              "      <td>0.523933</td>\n",
              "      <td>1.560949</td>\n",
              "      <td>0.059730</td>\n",
              "      <td>0.131521</td>\n",
              "      <td>-0.145999</td>\n",
              "      <td>0.012917</td>\n",
              "      <td>0.012268</td>\n",
              "      <td>-0.054809</td>\n",
              "      <td>22.49</td>\n",
              "      <td>0</td>\n",
              "    </tr>\n",
              "    <tr>\n",
              "      <th>17730</th>\n",
              "      <td>-1.039001</td>\n",
              "      <td>0.950070</td>\n",
              "      <td>0.389899</td>\n",
              "      <td>-1.217401</td>\n",
              "      <td>1.855856</td>\n",
              "      <td>3.640886</td>\n",
              "      <td>-0.549604</td>\n",
              "      <td>1.505694</td>\n",
              "      <td>-0.559184</td>\n",
              "      <td>-0.619047</td>\n",
              "      <td>...</td>\n",
              "      <td>-0.090529</td>\n",
              "      <td>-0.491079</td>\n",
              "      <td>-0.179921</td>\n",
              "      <td>1.004741</td>\n",
              "      <td>0.317712</td>\n",
              "      <td>0.281484</td>\n",
              "      <td>0.153761</td>\n",
              "      <td>0.062423</td>\n",
              "      <td>5.99</td>\n",
              "      <td>0</td>\n",
              "    </tr>\n",
              "    <tr>\n",
              "      <th>28030</th>\n",
              "      <td>1.129333</td>\n",
              "      <td>0.471653</td>\n",
              "      <td>0.657500</td>\n",
              "      <td>2.454111</td>\n",
              "      <td>-0.091741</td>\n",
              "      <td>-0.089917</td>\n",
              "      <td>0.008581</td>\n",
              "      <td>0.060009</td>\n",
              "      <td>-0.623285</td>\n",
              "      <td>0.661338</td>\n",
              "      <td>...</td>\n",
              "      <td>-0.048241</td>\n",
              "      <td>-0.201293</td>\n",
              "      <td>0.053427</td>\n",
              "      <td>0.027638</td>\n",
              "      <td>0.321256</td>\n",
              "      <td>-0.042526</td>\n",
              "      <td>0.001532</td>\n",
              "      <td>0.021002</td>\n",
              "      <td>11.99</td>\n",
              "      <td>0</td>\n",
              "    </tr>\n",
              "    <tr>\n",
              "      <th>277869</th>\n",
              "      <td>1.636784</td>\n",
              "      <td>-0.560857</td>\n",
              "      <td>-1.944589</td>\n",
              "      <td>0.405452</td>\n",
              "      <td>0.157569</td>\n",
              "      <td>-0.635650</td>\n",
              "      <td>0.315338</td>\n",
              "      <td>-0.200477</td>\n",
              "      <td>0.678971</td>\n",
              "      <td>-0.775364</td>\n",
              "      <td>...</td>\n",
              "      <td>-0.100809</td>\n",
              "      <td>-0.465458</td>\n",
              "      <td>-0.063594</td>\n",
              "      <td>-0.580315</td>\n",
              "      <td>-0.080220</td>\n",
              "      <td>-0.101500</td>\n",
              "      <td>-0.043508</td>\n",
              "      <td>-0.001004</td>\n",
              "      <td>203.97</td>\n",
              "      <td>0</td>\n",
              "    </tr>\n",
              "    <tr>\n",
              "      <th>249342</th>\n",
              "      <td>1.906410</td>\n",
              "      <td>-0.531680</td>\n",
              "      <td>-1.175688</td>\n",
              "      <td>0.132728</td>\n",
              "      <td>-0.229802</td>\n",
              "      <td>-0.565090</td>\n",
              "      <td>-0.056376</td>\n",
              "      <td>-0.077301</td>\n",
              "      <td>0.978166</td>\n",
              "      <td>-0.041916</td>\n",
              "      <td>...</td>\n",
              "      <td>-0.109076</td>\n",
              "      <td>-0.261720</td>\n",
              "      <td>0.121635</td>\n",
              "      <td>-0.341628</td>\n",
              "      <td>-0.102660</td>\n",
              "      <td>-0.091871</td>\n",
              "      <td>-0.045385</td>\n",
              "      <td>-0.060711</td>\n",
              "      <td>64.24</td>\n",
              "      <td>0</td>\n",
              "    </tr>\n",
              "  </tbody>\n",
              "</table>\n",
              "<p>199364 rows × 30 columns</p>\n",
              "</div>\n",
              "      <button class=\"colab-df-convert\" onclick=\"convertToInteractive('df-80b393f5-b14b-439b-8103-400b63f611d8')\"\n",
              "              title=\"Convert this dataframe to an interactive table.\"\n",
              "              style=\"display:none;\">\n",
              "        \n",
              "  <svg xmlns=\"http://www.w3.org/2000/svg\" height=\"24px\"viewBox=\"0 0 24 24\"\n",
              "       width=\"24px\">\n",
              "    <path d=\"M0 0h24v24H0V0z\" fill=\"none\"/>\n",
              "    <path d=\"M18.56 5.44l.94 2.06.94-2.06 2.06-.94-2.06-.94-.94-2.06-.94 2.06-2.06.94zm-11 1L8.5 8.5l.94-2.06 2.06-.94-2.06-.94L8.5 2.5l-.94 2.06-2.06.94zm10 10l.94 2.06.94-2.06 2.06-.94-2.06-.94-.94-2.06-.94 2.06-2.06.94z\"/><path d=\"M17.41 7.96l-1.37-1.37c-.4-.4-.92-.59-1.43-.59-.52 0-1.04.2-1.43.59L10.3 9.45l-7.72 7.72c-.78.78-.78 2.05 0 2.83L4 21.41c.39.39.9.59 1.41.59.51 0 1.02-.2 1.41-.59l7.78-7.78 2.81-2.81c.8-.78.8-2.07 0-2.86zM5.41 20L4 18.59l7.72-7.72 1.47 1.35L5.41 20z\"/>\n",
              "  </svg>\n",
              "      </button>\n",
              "      \n",
              "  <style>\n",
              "    .colab-df-container {\n",
              "      display:flex;\n",
              "      flex-wrap:wrap;\n",
              "      gap: 12px;\n",
              "    }\n",
              "\n",
              "    .colab-df-convert {\n",
              "      background-color: #E8F0FE;\n",
              "      border: none;\n",
              "      border-radius: 50%;\n",
              "      cursor: pointer;\n",
              "      display: none;\n",
              "      fill: #1967D2;\n",
              "      height: 32px;\n",
              "      padding: 0 0 0 0;\n",
              "      width: 32px;\n",
              "    }\n",
              "\n",
              "    .colab-df-convert:hover {\n",
              "      background-color: #E2EBFA;\n",
              "      box-shadow: 0px 1px 2px rgba(60, 64, 67, 0.3), 0px 1px 3px 1px rgba(60, 64, 67, 0.15);\n",
              "      fill: #174EA6;\n",
              "    }\n",
              "\n",
              "    [theme=dark] .colab-df-convert {\n",
              "      background-color: #3B4455;\n",
              "      fill: #D2E3FC;\n",
              "    }\n",
              "\n",
              "    [theme=dark] .colab-df-convert:hover {\n",
              "      background-color: #434B5C;\n",
              "      box-shadow: 0px 1px 3px 1px rgba(0, 0, 0, 0.15);\n",
              "      filter: drop-shadow(0px 1px 2px rgba(0, 0, 0, 0.3));\n",
              "      fill: #FFFFFF;\n",
              "    }\n",
              "  </style>\n",
              "\n",
              "      <script>\n",
              "        const buttonEl =\n",
              "          document.querySelector('#df-80b393f5-b14b-439b-8103-400b63f611d8 button.colab-df-convert');\n",
              "        buttonEl.style.display =\n",
              "          google.colab.kernel.accessAllowed ? 'block' : 'none';\n",
              "\n",
              "        async function convertToInteractive(key) {\n",
              "          const element = document.querySelector('#df-80b393f5-b14b-439b-8103-400b63f611d8');\n",
              "          const dataTable =\n",
              "            await google.colab.kernel.invokeFunction('convertToInteractive',\n",
              "                                                     [key], {});\n",
              "          if (!dataTable) return;\n",
              "\n",
              "          const docLinkHtml = 'Like what you see? Visit the ' +\n",
              "            '<a target=\"_blank\" href=https://colab.research.google.com/notebooks/data_table.ipynb>data table notebook</a>'\n",
              "            + ' to learn more about interactive tables.';\n",
              "          element.innerHTML = '';\n",
              "          dataTable['output_type'] = 'display_data';\n",
              "          await google.colab.output.renderOutput(dataTable, element);\n",
              "          const docLink = document.createElement('div');\n",
              "          docLink.innerHTML = docLinkHtml;\n",
              "          element.appendChild(docLink);\n",
              "        }\n",
              "      </script>\n",
              "    </div>\n",
              "  </div>\n",
              "  "
            ]
          },
          "metadata": {},
          "execution_count": 17
        }
      ]
    },
    {
      "cell_type": "code",
      "source": [
        "#normalise the amount column\n",
        "from sklearn.preprocessing import StandardScaler\n",
        "scale= StandardScaler()\n",
        "scale.fit(df_train[['Amount']])\n",
        "df_train['Amount'] = scale.transform(df_train[['Amount']])\n",
        "df_test['Amount'] = scale.transform(df_test[['Amount']])\n",
        "#df['NormAmount'] = scale.fit_transform(np.array(df['Amount']).reshape(-1, 1))"
      ],
      "metadata": {
        "id": "1zqiRPGcvkL0"
      },
      "execution_count": null,
      "outputs": []
    },
    {
      "cell_type": "code",
      "source": [
        "X_train= df_train.drop('Class', axis= 1) \n",
        "X_test= df_test.drop('Class', axis= 1) \n"
      ],
      "metadata": {
        "id": "0FrvIBPBwnlo"
      },
      "execution_count": null,
      "outputs": []
    },
    {
      "cell_type": "code",
      "source": [
        "X_train"
      ],
      "metadata": {
        "colab": {
          "base_uri": "https://localhost:8080/",
          "height": 488
        },
        "id": "d9gOxOU5GLqK",
        "outputId": "6aad54c4-a229-4a4f-9eb9-cb3e5442e869"
      },
      "execution_count": null,
      "outputs": [
        {
          "output_type": "execute_result",
          "data": {
            "text/plain": [
              "              V1        V2        V3        V4        V5        V6        V7  \\\n",
              "9057    1.223528  0.726064 -0.192303  1.315143  0.327134 -0.627426  0.103793   \n",
              "197407 -1.531257 -0.845410 -0.661207 -0.010479  2.096034 -1.582374  0.644661   \n",
              "257714  2.302551 -1.410263 -1.301974 -1.825564 -0.774062  0.000869 -1.163464   \n",
              "201302  1.809691  0.232969  0.312680  3.745688 -0.357230  0.337521 -0.547228   \n",
              "167965 -2.449361  2.602426 -2.648017  0.169754 -0.043874 -1.789616 -0.259222   \n",
              "...          ...       ...       ...       ...       ...       ...       ...   \n",
              "192476  2.085321 -1.119472 -0.260414 -0.829419 -1.373550 -0.504944 -1.224794   \n",
              "17730  -1.039001  0.950070  0.389899 -1.217401  1.855856  3.640886 -0.549604   \n",
              "28030   1.129333  0.471653  0.657500  2.454111 -0.091741 -0.089917  0.008581   \n",
              "277869  1.636784 -0.560857 -1.944589  0.405452  0.157569 -0.635650  0.315338   \n",
              "249342  1.906410 -0.531680 -1.175688  0.132728 -0.229802 -0.565090 -0.056376   \n",
              "\n",
              "              V8        V9       V10  ...       V20       V21       V22  \\\n",
              "9057   -0.166424  0.941614 -0.755328  ... -0.117242 -0.168107 -0.192579   \n",
              "197407 -0.146939  0.305072 -0.877905  ... -0.256196 -0.425386 -0.558420   \n",
              "257714 -0.018924 -1.428129  1.749254  ... -0.390696 -0.164472 -0.037426   \n",
              "201302  0.286964 -0.538232  1.574565  ... -0.340672 -0.152481 -0.534599   \n",
              "167965  1.078845 -0.559213 -1.896160  ... -0.729064  0.476948  0.868659   \n",
              "...          ...       ...       ...  ...       ...       ...       ...   \n",
              "192476  0.027016  0.011921  0.910736  ... -0.011516  0.523933  1.560949   \n",
              "17730   1.505694 -0.559184 -0.619047  ...  0.177503 -0.090529 -0.491079   \n",
              "28030   0.060009 -0.623285  0.661338  ... -0.212507 -0.048241 -0.201293   \n",
              "277869 -0.200477  0.678971 -0.775364  ...  0.276758 -0.100809 -0.465458   \n",
              "249342 -0.077301  0.978166 -0.041916  ... -0.156293 -0.109076 -0.261720   \n",
              "\n",
              "             V23       V24       V25       V26       V27       V28    Amount  \n",
              "9057   -0.161883 -0.158105  0.687808 -0.363874  0.001551  0.030803 -0.350266  \n",
              "197407  1.625851  0.490823  0.165614 -0.613079  0.388003 -0.082430 -0.314286  \n",
              "257714  0.172886  0.066635 -0.104352 -0.174764 -0.003206 -0.060548 -0.274222  \n",
              "201302  0.448150 -0.047445 -0.652783 -0.402664 -0.002607 -0.035744 -0.314286  \n",
              "167965  0.003451 -0.202979 -0.444781 -0.232060 -1.115661 -0.025988 -0.350266  \n",
              "...          ...       ...       ...       ...       ...       ...       ...  \n",
              "192476  0.059730  0.131521 -0.145999  0.012917  0.012268 -0.054809 -0.264256  \n",
              "17730  -0.179921  1.004741  0.317712  0.281484  0.153761  0.062423 -0.330295  \n",
              "28030   0.053427  0.027638  0.321256 -0.042526  0.001532  0.021002 -0.306281  \n",
              "277869 -0.063594 -0.580315 -0.080220 -0.101500 -0.043508 -0.001004  0.462086  \n",
              "249342  0.121635 -0.341628 -0.102660 -0.091871 -0.045385 -0.060711 -0.097159  \n",
              "\n",
              "[199364 rows x 29 columns]"
            ],
            "text/html": [
              "\n",
              "  <div id=\"df-ba4a4a90-bfcb-4d85-9b99-0002ce863efc\">\n",
              "    <div class=\"colab-df-container\">\n",
              "      <div>\n",
              "<style scoped>\n",
              "    .dataframe tbody tr th:only-of-type {\n",
              "        vertical-align: middle;\n",
              "    }\n",
              "\n",
              "    .dataframe tbody tr th {\n",
              "        vertical-align: top;\n",
              "    }\n",
              "\n",
              "    .dataframe thead th {\n",
              "        text-align: right;\n",
              "    }\n",
              "</style>\n",
              "<table border=\"1\" class=\"dataframe\">\n",
              "  <thead>\n",
              "    <tr style=\"text-align: right;\">\n",
              "      <th></th>\n",
              "      <th>V1</th>\n",
              "      <th>V2</th>\n",
              "      <th>V3</th>\n",
              "      <th>V4</th>\n",
              "      <th>V5</th>\n",
              "      <th>V6</th>\n",
              "      <th>V7</th>\n",
              "      <th>V8</th>\n",
              "      <th>V9</th>\n",
              "      <th>V10</th>\n",
              "      <th>...</th>\n",
              "      <th>V20</th>\n",
              "      <th>V21</th>\n",
              "      <th>V22</th>\n",
              "      <th>V23</th>\n",
              "      <th>V24</th>\n",
              "      <th>V25</th>\n",
              "      <th>V26</th>\n",
              "      <th>V27</th>\n",
              "      <th>V28</th>\n",
              "      <th>Amount</th>\n",
              "    </tr>\n",
              "  </thead>\n",
              "  <tbody>\n",
              "    <tr>\n",
              "      <th>9057</th>\n",
              "      <td>1.223528</td>\n",
              "      <td>0.726064</td>\n",
              "      <td>-0.192303</td>\n",
              "      <td>1.315143</td>\n",
              "      <td>0.327134</td>\n",
              "      <td>-0.627426</td>\n",
              "      <td>0.103793</td>\n",
              "      <td>-0.166424</td>\n",
              "      <td>0.941614</td>\n",
              "      <td>-0.755328</td>\n",
              "      <td>...</td>\n",
              "      <td>-0.117242</td>\n",
              "      <td>-0.168107</td>\n",
              "      <td>-0.192579</td>\n",
              "      <td>-0.161883</td>\n",
              "      <td>-0.158105</td>\n",
              "      <td>0.687808</td>\n",
              "      <td>-0.363874</td>\n",
              "      <td>0.001551</td>\n",
              "      <td>0.030803</td>\n",
              "      <td>-0.350266</td>\n",
              "    </tr>\n",
              "    <tr>\n",
              "      <th>197407</th>\n",
              "      <td>-1.531257</td>\n",
              "      <td>-0.845410</td>\n",
              "      <td>-0.661207</td>\n",
              "      <td>-0.010479</td>\n",
              "      <td>2.096034</td>\n",
              "      <td>-1.582374</td>\n",
              "      <td>0.644661</td>\n",
              "      <td>-0.146939</td>\n",
              "      <td>0.305072</td>\n",
              "      <td>-0.877905</td>\n",
              "      <td>...</td>\n",
              "      <td>-0.256196</td>\n",
              "      <td>-0.425386</td>\n",
              "      <td>-0.558420</td>\n",
              "      <td>1.625851</td>\n",
              "      <td>0.490823</td>\n",
              "      <td>0.165614</td>\n",
              "      <td>-0.613079</td>\n",
              "      <td>0.388003</td>\n",
              "      <td>-0.082430</td>\n",
              "      <td>-0.314286</td>\n",
              "    </tr>\n",
              "    <tr>\n",
              "      <th>257714</th>\n",
              "      <td>2.302551</td>\n",
              "      <td>-1.410263</td>\n",
              "      <td>-1.301974</td>\n",
              "      <td>-1.825564</td>\n",
              "      <td>-0.774062</td>\n",
              "      <td>0.000869</td>\n",
              "      <td>-1.163464</td>\n",
              "      <td>-0.018924</td>\n",
              "      <td>-1.428129</td>\n",
              "      <td>1.749254</td>\n",
              "      <td>...</td>\n",
              "      <td>-0.390696</td>\n",
              "      <td>-0.164472</td>\n",
              "      <td>-0.037426</td>\n",
              "      <td>0.172886</td>\n",
              "      <td>0.066635</td>\n",
              "      <td>-0.104352</td>\n",
              "      <td>-0.174764</td>\n",
              "      <td>-0.003206</td>\n",
              "      <td>-0.060548</td>\n",
              "      <td>-0.274222</td>\n",
              "    </tr>\n",
              "    <tr>\n",
              "      <th>201302</th>\n",
              "      <td>1.809691</td>\n",
              "      <td>0.232969</td>\n",
              "      <td>0.312680</td>\n",
              "      <td>3.745688</td>\n",
              "      <td>-0.357230</td>\n",
              "      <td>0.337521</td>\n",
              "      <td>-0.547228</td>\n",
              "      <td>0.286964</td>\n",
              "      <td>-0.538232</td>\n",
              "      <td>1.574565</td>\n",
              "      <td>...</td>\n",
              "      <td>-0.340672</td>\n",
              "      <td>-0.152481</td>\n",
              "      <td>-0.534599</td>\n",
              "      <td>0.448150</td>\n",
              "      <td>-0.047445</td>\n",
              "      <td>-0.652783</td>\n",
              "      <td>-0.402664</td>\n",
              "      <td>-0.002607</td>\n",
              "      <td>-0.035744</td>\n",
              "      <td>-0.314286</td>\n",
              "    </tr>\n",
              "    <tr>\n",
              "      <th>167965</th>\n",
              "      <td>-2.449361</td>\n",
              "      <td>2.602426</td>\n",
              "      <td>-2.648017</td>\n",
              "      <td>0.169754</td>\n",
              "      <td>-0.043874</td>\n",
              "      <td>-1.789616</td>\n",
              "      <td>-0.259222</td>\n",
              "      <td>1.078845</td>\n",
              "      <td>-0.559213</td>\n",
              "      <td>-1.896160</td>\n",
              "      <td>...</td>\n",
              "      <td>-0.729064</td>\n",
              "      <td>0.476948</td>\n",
              "      <td>0.868659</td>\n",
              "      <td>0.003451</td>\n",
              "      <td>-0.202979</td>\n",
              "      <td>-0.444781</td>\n",
              "      <td>-0.232060</td>\n",
              "      <td>-1.115661</td>\n",
              "      <td>-0.025988</td>\n",
              "      <td>-0.350266</td>\n",
              "    </tr>\n",
              "    <tr>\n",
              "      <th>...</th>\n",
              "      <td>...</td>\n",
              "      <td>...</td>\n",
              "      <td>...</td>\n",
              "      <td>...</td>\n",
              "      <td>...</td>\n",
              "      <td>...</td>\n",
              "      <td>...</td>\n",
              "      <td>...</td>\n",
              "      <td>...</td>\n",
              "      <td>...</td>\n",
              "      <td>...</td>\n",
              "      <td>...</td>\n",
              "      <td>...</td>\n",
              "      <td>...</td>\n",
              "      <td>...</td>\n",
              "      <td>...</td>\n",
              "      <td>...</td>\n",
              "      <td>...</td>\n",
              "      <td>...</td>\n",
              "      <td>...</td>\n",
              "      <td>...</td>\n",
              "    </tr>\n",
              "    <tr>\n",
              "      <th>192476</th>\n",
              "      <td>2.085321</td>\n",
              "      <td>-1.119472</td>\n",
              "      <td>-0.260414</td>\n",
              "      <td>-0.829419</td>\n",
              "      <td>-1.373550</td>\n",
              "      <td>-0.504944</td>\n",
              "      <td>-1.224794</td>\n",
              "      <td>0.027016</td>\n",
              "      <td>0.011921</td>\n",
              "      <td>0.910736</td>\n",
              "      <td>...</td>\n",
              "      <td>-0.011516</td>\n",
              "      <td>0.523933</td>\n",
              "      <td>1.560949</td>\n",
              "      <td>0.059730</td>\n",
              "      <td>0.131521</td>\n",
              "      <td>-0.145999</td>\n",
              "      <td>0.012917</td>\n",
              "      <td>0.012268</td>\n",
              "      <td>-0.054809</td>\n",
              "      <td>-0.264256</td>\n",
              "    </tr>\n",
              "    <tr>\n",
              "      <th>17730</th>\n",
              "      <td>-1.039001</td>\n",
              "      <td>0.950070</td>\n",
              "      <td>0.389899</td>\n",
              "      <td>-1.217401</td>\n",
              "      <td>1.855856</td>\n",
              "      <td>3.640886</td>\n",
              "      <td>-0.549604</td>\n",
              "      <td>1.505694</td>\n",
              "      <td>-0.559184</td>\n",
              "      <td>-0.619047</td>\n",
              "      <td>...</td>\n",
              "      <td>0.177503</td>\n",
              "      <td>-0.090529</td>\n",
              "      <td>-0.491079</td>\n",
              "      <td>-0.179921</td>\n",
              "      <td>1.004741</td>\n",
              "      <td>0.317712</td>\n",
              "      <td>0.281484</td>\n",
              "      <td>0.153761</td>\n",
              "      <td>0.062423</td>\n",
              "      <td>-0.330295</td>\n",
              "    </tr>\n",
              "    <tr>\n",
              "      <th>28030</th>\n",
              "      <td>1.129333</td>\n",
              "      <td>0.471653</td>\n",
              "      <td>0.657500</td>\n",
              "      <td>2.454111</td>\n",
              "      <td>-0.091741</td>\n",
              "      <td>-0.089917</td>\n",
              "      <td>0.008581</td>\n",
              "      <td>0.060009</td>\n",
              "      <td>-0.623285</td>\n",
              "      <td>0.661338</td>\n",
              "      <td>...</td>\n",
              "      <td>-0.212507</td>\n",
              "      <td>-0.048241</td>\n",
              "      <td>-0.201293</td>\n",
              "      <td>0.053427</td>\n",
              "      <td>0.027638</td>\n",
              "      <td>0.321256</td>\n",
              "      <td>-0.042526</td>\n",
              "      <td>0.001532</td>\n",
              "      <td>0.021002</td>\n",
              "      <td>-0.306281</td>\n",
              "    </tr>\n",
              "    <tr>\n",
              "      <th>277869</th>\n",
              "      <td>1.636784</td>\n",
              "      <td>-0.560857</td>\n",
              "      <td>-1.944589</td>\n",
              "      <td>0.405452</td>\n",
              "      <td>0.157569</td>\n",
              "      <td>-0.635650</td>\n",
              "      <td>0.315338</td>\n",
              "      <td>-0.200477</td>\n",
              "      <td>0.678971</td>\n",
              "      <td>-0.775364</td>\n",
              "      <td>...</td>\n",
              "      <td>0.276758</td>\n",
              "      <td>-0.100809</td>\n",
              "      <td>-0.465458</td>\n",
              "      <td>-0.063594</td>\n",
              "      <td>-0.580315</td>\n",
              "      <td>-0.080220</td>\n",
              "      <td>-0.101500</td>\n",
              "      <td>-0.043508</td>\n",
              "      <td>-0.001004</td>\n",
              "      <td>0.462086</td>\n",
              "    </tr>\n",
              "    <tr>\n",
              "      <th>249342</th>\n",
              "      <td>1.906410</td>\n",
              "      <td>-0.531680</td>\n",
              "      <td>-1.175688</td>\n",
              "      <td>0.132728</td>\n",
              "      <td>-0.229802</td>\n",
              "      <td>-0.565090</td>\n",
              "      <td>-0.056376</td>\n",
              "      <td>-0.077301</td>\n",
              "      <td>0.978166</td>\n",
              "      <td>-0.041916</td>\n",
              "      <td>...</td>\n",
              "      <td>-0.156293</td>\n",
              "      <td>-0.109076</td>\n",
              "      <td>-0.261720</td>\n",
              "      <td>0.121635</td>\n",
              "      <td>-0.341628</td>\n",
              "      <td>-0.102660</td>\n",
              "      <td>-0.091871</td>\n",
              "      <td>-0.045385</td>\n",
              "      <td>-0.060711</td>\n",
              "      <td>-0.097159</td>\n",
              "    </tr>\n",
              "  </tbody>\n",
              "</table>\n",
              "<p>199364 rows × 29 columns</p>\n",
              "</div>\n",
              "      <button class=\"colab-df-convert\" onclick=\"convertToInteractive('df-ba4a4a90-bfcb-4d85-9b99-0002ce863efc')\"\n",
              "              title=\"Convert this dataframe to an interactive table.\"\n",
              "              style=\"display:none;\">\n",
              "        \n",
              "  <svg xmlns=\"http://www.w3.org/2000/svg\" height=\"24px\"viewBox=\"0 0 24 24\"\n",
              "       width=\"24px\">\n",
              "    <path d=\"M0 0h24v24H0V0z\" fill=\"none\"/>\n",
              "    <path d=\"M18.56 5.44l.94 2.06.94-2.06 2.06-.94-2.06-.94-.94-2.06-.94 2.06-2.06.94zm-11 1L8.5 8.5l.94-2.06 2.06-.94-2.06-.94L8.5 2.5l-.94 2.06-2.06.94zm10 10l.94 2.06.94-2.06 2.06-.94-2.06-.94-.94-2.06-.94 2.06-2.06.94z\"/><path d=\"M17.41 7.96l-1.37-1.37c-.4-.4-.92-.59-1.43-.59-.52 0-1.04.2-1.43.59L10.3 9.45l-7.72 7.72c-.78.78-.78 2.05 0 2.83L4 21.41c.39.39.9.59 1.41.59.51 0 1.02-.2 1.41-.59l7.78-7.78 2.81-2.81c.8-.78.8-2.07 0-2.86zM5.41 20L4 18.59l7.72-7.72 1.47 1.35L5.41 20z\"/>\n",
              "  </svg>\n",
              "      </button>\n",
              "      \n",
              "  <style>\n",
              "    .colab-df-container {\n",
              "      display:flex;\n",
              "      flex-wrap:wrap;\n",
              "      gap: 12px;\n",
              "    }\n",
              "\n",
              "    .colab-df-convert {\n",
              "      background-color: #E8F0FE;\n",
              "      border: none;\n",
              "      border-radius: 50%;\n",
              "      cursor: pointer;\n",
              "      display: none;\n",
              "      fill: #1967D2;\n",
              "      height: 32px;\n",
              "      padding: 0 0 0 0;\n",
              "      width: 32px;\n",
              "    }\n",
              "\n",
              "    .colab-df-convert:hover {\n",
              "      background-color: #E2EBFA;\n",
              "      box-shadow: 0px 1px 2px rgba(60, 64, 67, 0.3), 0px 1px 3px 1px rgba(60, 64, 67, 0.15);\n",
              "      fill: #174EA6;\n",
              "    }\n",
              "\n",
              "    [theme=dark] .colab-df-convert {\n",
              "      background-color: #3B4455;\n",
              "      fill: #D2E3FC;\n",
              "    }\n",
              "\n",
              "    [theme=dark] .colab-df-convert:hover {\n",
              "      background-color: #434B5C;\n",
              "      box-shadow: 0px 1px 3px 1px rgba(0, 0, 0, 0.15);\n",
              "      filter: drop-shadow(0px 1px 2px rgba(0, 0, 0, 0.3));\n",
              "      fill: #FFFFFF;\n",
              "    }\n",
              "  </style>\n",
              "\n",
              "      <script>\n",
              "        const buttonEl =\n",
              "          document.querySelector('#df-ba4a4a90-bfcb-4d85-9b99-0002ce863efc button.colab-df-convert');\n",
              "        buttonEl.style.display =\n",
              "          google.colab.kernel.accessAllowed ? 'block' : 'none';\n",
              "\n",
              "        async function convertToInteractive(key) {\n",
              "          const element = document.querySelector('#df-ba4a4a90-bfcb-4d85-9b99-0002ce863efc');\n",
              "          const dataTable =\n",
              "            await google.colab.kernel.invokeFunction('convertToInteractive',\n",
              "                                                     [key], {});\n",
              "          if (!dataTable) return;\n",
              "\n",
              "          const docLinkHtml = 'Like what you see? Visit the ' +\n",
              "            '<a target=\"_blank\" href=https://colab.research.google.com/notebooks/data_table.ipynb>data table notebook</a>'\n",
              "            + ' to learn more about interactive tables.';\n",
              "          element.innerHTML = '';\n",
              "          dataTable['output_type'] = 'display_data';\n",
              "          await google.colab.output.renderOutput(dataTable, element);\n",
              "          const docLink = document.createElement('div');\n",
              "          docLink.innerHTML = docLinkHtml;\n",
              "          element.appendChild(docLink);\n",
              "        }\n",
              "      </script>\n",
              "    </div>\n",
              "  </div>\n",
              "  "
            ]
          },
          "metadata": {},
          "execution_count": 20
        }
      ]
    },
    {
      "cell_type": "code",
      "source": [
        "X_train.iloc[:,:-1]=X_train.iloc[:,:-1]/df_ml.std()['V1'] #dividir entre la std de la primera variable\n",
        "X_test.iloc[:,:-1]=X_test.iloc[:,:-1]/df_ml.std()['V1'] #dividir entre la std de la primera variable\n",
        "y_train= df_train['Class']\n",
        "y_test= df_test['Class']"
      ],
      "metadata": {
        "id": "25vbPoAGGKNT"
      },
      "execution_count": null,
      "outputs": []
    },
    {
      "cell_type": "code",
      "source": [
        "X_train.describe()"
      ],
      "metadata": {
        "colab": {
          "base_uri": "https://localhost:8080/",
          "height": 463
        },
        "id": "lZRJO0tGPR50",
        "outputId": "90c00020-248f-4371-e1a3-0c4a29bcf588"
      },
      "execution_count": null,
      "outputs": [
        {
          "output_type": "execute_result",
          "data": {
            "text/plain": [
              "                  V1             V2             V3             V4  \\\n",
              "count  199364.000000  199364.000000  199364.000000  199364.000000   \n",
              "mean       -0.001121      -0.001416      -0.000345       0.000396   \n",
              "std         1.001329       0.842472       0.772649       0.723067   \n",
              "min       -28.798504     -37.124564     -24.672330      -2.901508   \n",
              "25%        -0.471034      -0.305395      -0.455243      -0.431496   \n",
              "50%         0.008623       0.033422       0.091389      -0.009744   \n",
              "75%         0.671736       0.409532       0.523305       0.379847   \n",
              "max         1.253349      11.261437       2.157613       8.615602   \n",
              "\n",
              "                  V5             V6             V7             V8  \\\n",
              "count  199364.000000  199364.000000  199364.000000  199364.000000   \n",
              "mean        0.001487       0.001722       0.000070      -0.001067   \n",
              "std         0.709984       0.684388       0.636643       0.618995   \n",
              "min       -58.070940     -13.356084     -22.237880     -37.380342   \n",
              "25%        -0.352845      -0.391949      -0.283288      -0.106686   \n",
              "50%        -0.026703      -0.139609       0.020676       0.011400   \n",
              "75%         0.314617       0.205137       0.291051       0.167970   \n",
              "max        17.767775      37.423690      61.566219      10.000416   \n",
              "\n",
              "                  V9            V10  ...            V20            V21  \\\n",
              "count  199364.000000  199364.000000  ...  199364.000000  199364.000000   \n",
              "mean       -0.000398      -0.000154  ...      -0.000438      -0.000486   \n",
              "std         0.560334       0.552388  ...       0.393776       0.380575   \n",
              "min        -6.800522     -12.553385  ...     -27.823473     -17.782436   \n",
              "25%        -0.328279      -0.272672  ...      -0.108176      -0.116626   \n",
              "50%        -0.026240      -0.046688  ...      -0.031494      -0.015396   \n",
              "75%         0.304453       0.231398  ...       0.068294       0.094902   \n",
              "max         5.294675       7.827526  ...      19.460505      13.888241   \n",
              "\n",
              "                 V22            V23            V24            V25  \\\n",
              "count  199364.000000  199364.000000  199364.000000  199364.000000   \n",
              "mean       -0.000215      -0.000012       0.000257       0.000377   \n",
              "std         0.370959       0.324741       0.309464       0.266004   \n",
              "min        -4.849872     -22.876311      -1.448222      -5.256251   \n",
              "25%        -0.276948      -0.082507      -0.181010      -0.161599   \n",
              "50%         0.003028      -0.005545       0.020839       0.009504   \n",
              "75%         0.269214       0.075310       0.224962       0.179502   \n",
              "max         5.362288      11.501741       2.340613       3.099435   \n",
              "\n",
              "                 V26            V27            V28        Amount  \n",
              "count  199364.000000  199364.000000  199364.000000  1.993640e+05  \n",
              "mean       -0.000321       0.000073      -0.000213  1.509175e-16  \n",
              "std         0.246041       0.205789       0.169585  1.000003e+00  \n",
              "min        -1.329737      -5.051956      -7.877734 -3.542688e-01  \n",
              "25%        -0.167146      -0.036244      -0.027132 -3.318958e-01  \n",
              "50%        -0.026998       0.000626       0.005756 -2.662176e-01  \n",
              "75%         0.122716       0.046493       0.039883 -4.408856e-02  \n",
              "max         1.743832      16.139412      17.280788  1.024701e+02  \n",
              "\n",
              "[8 rows x 29 columns]"
            ],
            "text/html": [
              "\n",
              "  <div id=\"df-58ca7390-219a-4dca-8fcc-edc97f80e01c\">\n",
              "    <div class=\"colab-df-container\">\n",
              "      <div>\n",
              "<style scoped>\n",
              "    .dataframe tbody tr th:only-of-type {\n",
              "        vertical-align: middle;\n",
              "    }\n",
              "\n",
              "    .dataframe tbody tr th {\n",
              "        vertical-align: top;\n",
              "    }\n",
              "\n",
              "    .dataframe thead th {\n",
              "        text-align: right;\n",
              "    }\n",
              "</style>\n",
              "<table border=\"1\" class=\"dataframe\">\n",
              "  <thead>\n",
              "    <tr style=\"text-align: right;\">\n",
              "      <th></th>\n",
              "      <th>V1</th>\n",
              "      <th>V2</th>\n",
              "      <th>V3</th>\n",
              "      <th>V4</th>\n",
              "      <th>V5</th>\n",
              "      <th>V6</th>\n",
              "      <th>V7</th>\n",
              "      <th>V8</th>\n",
              "      <th>V9</th>\n",
              "      <th>V10</th>\n",
              "      <th>...</th>\n",
              "      <th>V20</th>\n",
              "      <th>V21</th>\n",
              "      <th>V22</th>\n",
              "      <th>V23</th>\n",
              "      <th>V24</th>\n",
              "      <th>V25</th>\n",
              "      <th>V26</th>\n",
              "      <th>V27</th>\n",
              "      <th>V28</th>\n",
              "      <th>Amount</th>\n",
              "    </tr>\n",
              "  </thead>\n",
              "  <tbody>\n",
              "    <tr>\n",
              "      <th>count</th>\n",
              "      <td>199364.000000</td>\n",
              "      <td>199364.000000</td>\n",
              "      <td>199364.000000</td>\n",
              "      <td>199364.000000</td>\n",
              "      <td>199364.000000</td>\n",
              "      <td>199364.000000</td>\n",
              "      <td>199364.000000</td>\n",
              "      <td>199364.000000</td>\n",
              "      <td>199364.000000</td>\n",
              "      <td>199364.000000</td>\n",
              "      <td>...</td>\n",
              "      <td>199364.000000</td>\n",
              "      <td>199364.000000</td>\n",
              "      <td>199364.000000</td>\n",
              "      <td>199364.000000</td>\n",
              "      <td>199364.000000</td>\n",
              "      <td>199364.000000</td>\n",
              "      <td>199364.000000</td>\n",
              "      <td>199364.000000</td>\n",
              "      <td>199364.000000</td>\n",
              "      <td>1.993640e+05</td>\n",
              "    </tr>\n",
              "    <tr>\n",
              "      <th>mean</th>\n",
              "      <td>-0.001121</td>\n",
              "      <td>-0.001416</td>\n",
              "      <td>-0.000345</td>\n",
              "      <td>0.000396</td>\n",
              "      <td>0.001487</td>\n",
              "      <td>0.001722</td>\n",
              "      <td>0.000070</td>\n",
              "      <td>-0.001067</td>\n",
              "      <td>-0.000398</td>\n",
              "      <td>-0.000154</td>\n",
              "      <td>...</td>\n",
              "      <td>-0.000438</td>\n",
              "      <td>-0.000486</td>\n",
              "      <td>-0.000215</td>\n",
              "      <td>-0.000012</td>\n",
              "      <td>0.000257</td>\n",
              "      <td>0.000377</td>\n",
              "      <td>-0.000321</td>\n",
              "      <td>0.000073</td>\n",
              "      <td>-0.000213</td>\n",
              "      <td>1.509175e-16</td>\n",
              "    </tr>\n",
              "    <tr>\n",
              "      <th>std</th>\n",
              "      <td>1.001329</td>\n",
              "      <td>0.842472</td>\n",
              "      <td>0.772649</td>\n",
              "      <td>0.723067</td>\n",
              "      <td>0.709984</td>\n",
              "      <td>0.684388</td>\n",
              "      <td>0.636643</td>\n",
              "      <td>0.618995</td>\n",
              "      <td>0.560334</td>\n",
              "      <td>0.552388</td>\n",
              "      <td>...</td>\n",
              "      <td>0.393776</td>\n",
              "      <td>0.380575</td>\n",
              "      <td>0.370959</td>\n",
              "      <td>0.324741</td>\n",
              "      <td>0.309464</td>\n",
              "      <td>0.266004</td>\n",
              "      <td>0.246041</td>\n",
              "      <td>0.205789</td>\n",
              "      <td>0.169585</td>\n",
              "      <td>1.000003e+00</td>\n",
              "    </tr>\n",
              "    <tr>\n",
              "      <th>min</th>\n",
              "      <td>-28.798504</td>\n",
              "      <td>-37.124564</td>\n",
              "      <td>-24.672330</td>\n",
              "      <td>-2.901508</td>\n",
              "      <td>-58.070940</td>\n",
              "      <td>-13.356084</td>\n",
              "      <td>-22.237880</td>\n",
              "      <td>-37.380342</td>\n",
              "      <td>-6.800522</td>\n",
              "      <td>-12.553385</td>\n",
              "      <td>...</td>\n",
              "      <td>-27.823473</td>\n",
              "      <td>-17.782436</td>\n",
              "      <td>-4.849872</td>\n",
              "      <td>-22.876311</td>\n",
              "      <td>-1.448222</td>\n",
              "      <td>-5.256251</td>\n",
              "      <td>-1.329737</td>\n",
              "      <td>-5.051956</td>\n",
              "      <td>-7.877734</td>\n",
              "      <td>-3.542688e-01</td>\n",
              "    </tr>\n",
              "    <tr>\n",
              "      <th>25%</th>\n",
              "      <td>-0.471034</td>\n",
              "      <td>-0.305395</td>\n",
              "      <td>-0.455243</td>\n",
              "      <td>-0.431496</td>\n",
              "      <td>-0.352845</td>\n",
              "      <td>-0.391949</td>\n",
              "      <td>-0.283288</td>\n",
              "      <td>-0.106686</td>\n",
              "      <td>-0.328279</td>\n",
              "      <td>-0.272672</td>\n",
              "      <td>...</td>\n",
              "      <td>-0.108176</td>\n",
              "      <td>-0.116626</td>\n",
              "      <td>-0.276948</td>\n",
              "      <td>-0.082507</td>\n",
              "      <td>-0.181010</td>\n",
              "      <td>-0.161599</td>\n",
              "      <td>-0.167146</td>\n",
              "      <td>-0.036244</td>\n",
              "      <td>-0.027132</td>\n",
              "      <td>-3.318958e-01</td>\n",
              "    </tr>\n",
              "    <tr>\n",
              "      <th>50%</th>\n",
              "      <td>0.008623</td>\n",
              "      <td>0.033422</td>\n",
              "      <td>0.091389</td>\n",
              "      <td>-0.009744</td>\n",
              "      <td>-0.026703</td>\n",
              "      <td>-0.139609</td>\n",
              "      <td>0.020676</td>\n",
              "      <td>0.011400</td>\n",
              "      <td>-0.026240</td>\n",
              "      <td>-0.046688</td>\n",
              "      <td>...</td>\n",
              "      <td>-0.031494</td>\n",
              "      <td>-0.015396</td>\n",
              "      <td>0.003028</td>\n",
              "      <td>-0.005545</td>\n",
              "      <td>0.020839</td>\n",
              "      <td>0.009504</td>\n",
              "      <td>-0.026998</td>\n",
              "      <td>0.000626</td>\n",
              "      <td>0.005756</td>\n",
              "      <td>-2.662176e-01</td>\n",
              "    </tr>\n",
              "    <tr>\n",
              "      <th>75%</th>\n",
              "      <td>0.671736</td>\n",
              "      <td>0.409532</td>\n",
              "      <td>0.523305</td>\n",
              "      <td>0.379847</td>\n",
              "      <td>0.314617</td>\n",
              "      <td>0.205137</td>\n",
              "      <td>0.291051</td>\n",
              "      <td>0.167970</td>\n",
              "      <td>0.304453</td>\n",
              "      <td>0.231398</td>\n",
              "      <td>...</td>\n",
              "      <td>0.068294</td>\n",
              "      <td>0.094902</td>\n",
              "      <td>0.269214</td>\n",
              "      <td>0.075310</td>\n",
              "      <td>0.224962</td>\n",
              "      <td>0.179502</td>\n",
              "      <td>0.122716</td>\n",
              "      <td>0.046493</td>\n",
              "      <td>0.039883</td>\n",
              "      <td>-4.408856e-02</td>\n",
              "    </tr>\n",
              "    <tr>\n",
              "      <th>max</th>\n",
              "      <td>1.253349</td>\n",
              "      <td>11.261437</td>\n",
              "      <td>2.157613</td>\n",
              "      <td>8.615602</td>\n",
              "      <td>17.767775</td>\n",
              "      <td>37.423690</td>\n",
              "      <td>61.566219</td>\n",
              "      <td>10.000416</td>\n",
              "      <td>5.294675</td>\n",
              "      <td>7.827526</td>\n",
              "      <td>...</td>\n",
              "      <td>19.460505</td>\n",
              "      <td>13.888241</td>\n",
              "      <td>5.362288</td>\n",
              "      <td>11.501741</td>\n",
              "      <td>2.340613</td>\n",
              "      <td>3.099435</td>\n",
              "      <td>1.743832</td>\n",
              "      <td>16.139412</td>\n",
              "      <td>17.280788</td>\n",
              "      <td>1.024701e+02</td>\n",
              "    </tr>\n",
              "  </tbody>\n",
              "</table>\n",
              "<p>8 rows × 29 columns</p>\n",
              "</div>\n",
              "      <button class=\"colab-df-convert\" onclick=\"convertToInteractive('df-58ca7390-219a-4dca-8fcc-edc97f80e01c')\"\n",
              "              title=\"Convert this dataframe to an interactive table.\"\n",
              "              style=\"display:none;\">\n",
              "        \n",
              "  <svg xmlns=\"http://www.w3.org/2000/svg\" height=\"24px\"viewBox=\"0 0 24 24\"\n",
              "       width=\"24px\">\n",
              "    <path d=\"M0 0h24v24H0V0z\" fill=\"none\"/>\n",
              "    <path d=\"M18.56 5.44l.94 2.06.94-2.06 2.06-.94-2.06-.94-.94-2.06-.94 2.06-2.06.94zm-11 1L8.5 8.5l.94-2.06 2.06-.94-2.06-.94L8.5 2.5l-.94 2.06-2.06.94zm10 10l.94 2.06.94-2.06 2.06-.94-2.06-.94-.94-2.06-.94 2.06-2.06.94z\"/><path d=\"M17.41 7.96l-1.37-1.37c-.4-.4-.92-.59-1.43-.59-.52 0-1.04.2-1.43.59L10.3 9.45l-7.72 7.72c-.78.78-.78 2.05 0 2.83L4 21.41c.39.39.9.59 1.41.59.51 0 1.02-.2 1.41-.59l7.78-7.78 2.81-2.81c.8-.78.8-2.07 0-2.86zM5.41 20L4 18.59l7.72-7.72 1.47 1.35L5.41 20z\"/>\n",
              "  </svg>\n",
              "      </button>\n",
              "      \n",
              "  <style>\n",
              "    .colab-df-container {\n",
              "      display:flex;\n",
              "      flex-wrap:wrap;\n",
              "      gap: 12px;\n",
              "    }\n",
              "\n",
              "    .colab-df-convert {\n",
              "      background-color: #E8F0FE;\n",
              "      border: none;\n",
              "      border-radius: 50%;\n",
              "      cursor: pointer;\n",
              "      display: none;\n",
              "      fill: #1967D2;\n",
              "      height: 32px;\n",
              "      padding: 0 0 0 0;\n",
              "      width: 32px;\n",
              "    }\n",
              "\n",
              "    .colab-df-convert:hover {\n",
              "      background-color: #E2EBFA;\n",
              "      box-shadow: 0px 1px 2px rgba(60, 64, 67, 0.3), 0px 1px 3px 1px rgba(60, 64, 67, 0.15);\n",
              "      fill: #174EA6;\n",
              "    }\n",
              "\n",
              "    [theme=dark] .colab-df-convert {\n",
              "      background-color: #3B4455;\n",
              "      fill: #D2E3FC;\n",
              "    }\n",
              "\n",
              "    [theme=dark] .colab-df-convert:hover {\n",
              "      background-color: #434B5C;\n",
              "      box-shadow: 0px 1px 3px 1px rgba(0, 0, 0, 0.15);\n",
              "      filter: drop-shadow(0px 1px 2px rgba(0, 0, 0, 0.3));\n",
              "      fill: #FFFFFF;\n",
              "    }\n",
              "  </style>\n",
              "\n",
              "      <script>\n",
              "        const buttonEl =\n",
              "          document.querySelector('#df-58ca7390-219a-4dca-8fcc-edc97f80e01c button.colab-df-convert');\n",
              "        buttonEl.style.display =\n",
              "          google.colab.kernel.accessAllowed ? 'block' : 'none';\n",
              "\n",
              "        async function convertToInteractive(key) {\n",
              "          const element = document.querySelector('#df-58ca7390-219a-4dca-8fcc-edc97f80e01c');\n",
              "          const dataTable =\n",
              "            await google.colab.kernel.invokeFunction('convertToInteractive',\n",
              "                                                     [key], {});\n",
              "          if (!dataTable) return;\n",
              "\n",
              "          const docLinkHtml = 'Like what you see? Visit the ' +\n",
              "            '<a target=\"_blank\" href=https://colab.research.google.com/notebooks/data_table.ipynb>data table notebook</a>'\n",
              "            + ' to learn more about interactive tables.';\n",
              "          element.innerHTML = '';\n",
              "          dataTable['output_type'] = 'display_data';\n",
              "          await google.colab.output.renderOutput(dataTable, element);\n",
              "          const docLink = document.createElement('div');\n",
              "          docLink.innerHTML = docLinkHtml;\n",
              "          element.appendChild(docLink);\n",
              "        }\n",
              "      </script>\n",
              "    </div>\n",
              "  </div>\n",
              "  "
            ]
          },
          "metadata": {},
          "execution_count": 22
        }
      ]
    },
    {
      "cell_type": "markdown",
      "source": [
        "###Oversampling using SMOTE\n"
      ],
      "metadata": {
        "id": "MAghi7FJWut3"
      }
    },
    {
      "cell_type": "code",
      "source": [
        "from imblearn.over_sampling import SMOTE\n",
        "sm = SMOTE(random_state = 2)\n",
        "X_train_bal, y_train_bal = sm.fit_resample(X_train, y_train) #.ravel()"
      ],
      "metadata": {
        "id": "VpHCMzhrV-ff"
      },
      "execution_count": null,
      "outputs": []
    },
    {
      "cell_type": "code",
      "source": [
        "print('After OverSampling, the shape of X_train: {}'.format(X_train_bal.shape))\n",
        "print('After OverSampling, the shape of y_train: {} \\n'.format(y_train_bal.shape))"
      ],
      "metadata": {
        "colab": {
          "base_uri": "https://localhost:8080/"
        },
        "id": "djM4RSCuWsgL",
        "outputId": "b4d3c1ab-9b0c-4063-d28d-7a7108420aa2"
      },
      "execution_count": null,
      "outputs": [
        {
          "output_type": "stream",
          "name": "stdout",
          "text": [
            "After OverSampling, the shape of X_train: (398064, 29)\n",
            "After OverSampling, the shape of y_train: (398064,) \n",
            "\n"
          ]
        }
      ]
    },
    {
      "cell_type": "code",
      "source": [
        "np.unique(y_train_bal, return_counts= True) #clases "
      ],
      "metadata": {
        "id": "-XyhfTuTuelx",
        "colab": {
          "base_uri": "https://localhost:8080/"
        },
        "outputId": "6f181811-43a4-4653-d40a-850e83b41bad"
      },
      "execution_count": null,
      "outputs": [
        {
          "output_type": "execute_result",
          "data": {
            "text/plain": [
              "(array([0, 1]), array([199032, 199032]))"
            ]
          },
          "metadata": {},
          "execution_count": 25
        }
      ]
    },
    {
      "cell_type": "code",
      "source": [
        "y_train_bal"
      ],
      "metadata": {
        "colab": {
          "base_uri": "https://localhost:8080/"
        },
        "id": "MGIkaLLNIC-G",
        "outputId": "0db51c6e-e86f-4c05-b2d9-b0d549cd9194"
      },
      "execution_count": null,
      "outputs": [
        {
          "output_type": "execute_result",
          "data": {
            "text/plain": [
              "0         0\n",
              "1         0\n",
              "2         0\n",
              "3         0\n",
              "4         0\n",
              "         ..\n",
              "398059    1\n",
              "398060    1\n",
              "398061    1\n",
              "398062    1\n",
              "398063    1\n",
              "Name: Class, Length: 398064, dtype: int64"
            ]
          },
          "metadata": {},
          "execution_count": 26
        }
      ]
    },
    {
      "cell_type": "code",
      "source": [
        "balanceado_df= pd.DataFrame(data=y_train_bal) #creating this dataframe just for the next graphic"
      ],
      "metadata": {
        "id": "JMODBBMTI9ZW"
      },
      "execution_count": null,
      "outputs": []
    },
    {
      "cell_type": "code",
      "source": [
        "#plotting already balanced is the target variable 'Class'\n",
        "colors = [\"#42FF33\", \"#DF0101\"]\n",
        "\n",
        "sns.countplot('Class', data= balanceado_df, palette=colors)\n",
        "plt.title('Class Distributions \\n (No Fraud: 0   Fraud: 1)', fontsize=14)"
      ],
      "metadata": {
        "colab": {
          "base_uri": "https://localhost:8080/",
          "height": 385
        },
        "id": "7bVFW3CAHqsh",
        "outputId": "ed6621bb-2a55-477e-a93a-2a91d95efac3"
      },
      "execution_count": null,
      "outputs": [
        {
          "output_type": "stream",
          "name": "stderr",
          "text": [
            "/usr/local/lib/python3.7/dist-packages/seaborn/_decorators.py:43: FutureWarning: Pass the following variable as a keyword arg: x. From version 0.12, the only valid positional argument will be `data`, and passing other arguments without an explicit keyword will result in an error or misinterpretation.\n",
            "  FutureWarning\n"
          ]
        },
        {
          "output_type": "execute_result",
          "data": {
            "text/plain": [
              "Text(0.5, 1.0, 'Class Distributions \\n (No Fraud: 0   Fraud: 1)')"
            ]
          },
          "metadata": {},
          "execution_count": 28
        },
        {
          "output_type": "display_data",
          "data": {
            "text/plain": [
              "<Figure size 432x288 with 1 Axes>"
            ],
            "image/png": "[encoded data removed]"
          },
          "metadata": {
            "needs_background": "light"
          }
        }
      ]
    },
    {
      "cell_type": "markdown",
      "source": [
        "### Functions\n"
      ],
      "metadata": {
        "id": "R2SLHEkyYNF1"
      }
    },
    {
      "cell_type": "code",
      "source": [
        "##----------------------------------------\n",
        "# Compute metrics\n",
        "\n",
        "def compute_metrics(model, X_test, y_test, y_pred):\n",
        "  y_pred_proba = model.predict_proba(X_test)[:, 1] #applying predict_proba on classfication problem is giving a list of 2 outputs for each observation(row, probs for 0 and probs for 1)\n",
        "  [fpr, tpr, thr] = metrics.roc_curve(y_test, y_pred_proba)\n",
        "\n",
        "  mcm = metrics.confusion_matrix(y_test, y_pred)\n",
        "  tn = mcm[0, 0]\n",
        "  tp = mcm[1, 1]\n",
        "  fn = mcm[1, 0]\n",
        "  fp = mcm[0, 1]\n",
        "\n",
        "  Accuracy = metrics.accuracy_score(y_test, y_pred)\n",
        "  Recall = metrics.recall_score(y_test, y_pred)\n",
        "  Specificity = tn / (tn + fp)\n",
        "  Precision = tp/(tp+fp)\n",
        "  f1_score = 2*((Precision*Recall)/(Precision+Recall))\n",
        "  AUC= metrics.auc(fpr, tpr)\n",
        "\n",
        "  print(model.__class__.__name__+\" Accuracy is %2.3f\" % Accuracy)\n",
        "  print(model.__class__.__name__+\" AUC is %2.3f\" % AUC)\n",
        "  print(model.__class__.__name__+\" Sensitivity-Recall is %2.3f\" % Recall)\n",
        "  print(model.__class__.__name__+\" Specificity is %2.3f\" % Specificity) \n",
        "  print(model.__class__.__name__+\" f1_score is %2.3f\" % f1_score)\n",
        "  # print classification report\n",
        "  print(classification_report(y_test, y_pred))\n",
        "\n",
        "  cm = confusion_matrix(y_test, y_pred, labels=model.classes_)\n",
        "  disp = ConfusionMatrixDisplay(confusion_matrix=cm, display_labels=model.classes_)\n",
        "  disp.plot()"
      ],
      "metadata": {
        "id": "yHUMQnTpxzNF"
      },
      "execution_count": null,
      "outputs": []
    },
    {
      "cell_type": "code",
      "source": [
        "#...............................................\n",
        "#Plot ROC curve\n",
        "def analisis_roc(model, X, y, POSITIVE_CLASS=1):\n",
        "    y_proba_predict = model.predict_proba(X)\n",
        "\n",
        "    positive_class_scores  = y_proba_predict[:,POSITIVE_CLASS]\n",
        "\n",
        "    fpr, tpr, thresholds = roc_curve(y,\n",
        "                                     positive_class_scores,\n",
        "                                     pos_label=POSITIVE_CLASS)\n",
        "    roc_auc = auc(fpr, tpr)\n",
        "    plt.plot(fpr, tpr, color='darkorange',\n",
        "             lw=2, label='ROC curve (area = %0.3f)' % roc_auc)\n",
        "    plt.plot([0, 1], [0, 1], color='navy', lw=2, linestyle='--', label='Chance')\n",
        "    plt.xlim([0.0, 1.0])\n",
        "    plt.ylim([0.0, 1.05])\n",
        "    plt.xlabel('False Positive Rate', fontsize=16)\n",
        "    plt.ylabel('True Positive Rate', fontsize=16)\n",
        "    plt.title('ROC. Positive class: '+str(POSITIVE_CLASS))\n",
        "    plt.legend(loc=\"lower right\");"
      ],
      "metadata": {
        "id": "CuC4FSPNDWxb"
      },
      "execution_count": null,
      "outputs": []
    },
    {
      "cell_type": "code",
      "source": [
        "def precision_recall(model, X, y, POSITIVE_CLASS=1):\n",
        "    y_proba_predict = model.predict_proba(X) #predict probabilities\n",
        "\n",
        "    positive_class_scores  = y_proba_predict[:,POSITIVE_CLASS] #keep probabilities only for the positive class\n",
        "   \n",
        "   # predict class values\n",
        "    yhat = model.predict(X)\n",
        "    # calculate precision and recall for each threshold\n",
        "    metric_precision, metric_recall, th = precision_recall_curve(y, positive_class_scores)\n",
        "\n",
        "    # calculate scores\n",
        "    metric_f1, metric_auc = f1_score(y, yhat), auc(metric_recall, metric_precision)\n",
        "    # summarize scores\n",
        "    print(model.__class__.__name__+ ': f1=%.3f auc=%.3f' % (metric_f1, metric_auc))\n",
        "    # plot the precision-recall curves\n",
        "    no_skill = len(y[y==1]) / len(y)\n",
        "    plt.plot([0, 1], [no_skill, no_skill], linestyle='--', label='No Skill')\n",
        "    plt.plot(metric_recall, metric_precision, marker='.', label= model.__class__.__name__)\n",
        "    plt.plot(metric_recall[1:], th, marker='.', label='Threshold')\n",
        "    # axis labels\n",
        "    plt.xlabel('Recall')\n",
        "    plt.ylabel('Precision')\n",
        "    \n",
        "    # show the legend\n",
        "    plt.legend()\n",
        "   \n",
        "\n"
      ],
      "metadata": {
        "id": "XVwtZE-psycv"
      },
      "execution_count": null,
      "outputs": []
    },
    {
      "cell_type": "markdown",
      "source": [
        "###Logistic regression"
      ],
      "metadata": {
        "id": "p1mJ8iTzq6fq"
      }
    },
    {
      "cell_type": "code",
      "source": [
        "log_mod = LogisticRegression(solver = 'liblinear',verbose=1)\n",
        "\n",
        "log_mod.fit(X_train_bal, y_train_bal)\n",
        "\n",
        "y_pred = log_mod.predict(X_test)\n",
        "\n",
        "\n"
      ],
      "metadata": {
        "colab": {
          "base_uri": "https://localhost:8080/"
        },
        "id": "s0dsLgtcqfg5",
        "outputId": "01fceec6-41f4-4f6c-e831-79f9d0eb2200"
      },
      "execution_count": null,
      "outputs": [
        {
          "output_type": "stream",
          "name": "stdout",
          "text": [
            "[LibLinear]"
          ]
        }
      ]
    },
    {
      "cell_type": "code",
      "source": [
        "grid={\"C\":np.logspace(-3,3,7), \"penalty\":[\"l1\",\"l2\"]}# l1 lasso l2 ridge\n",
        "\n",
        "log_mod2 = LogisticRegression()\n",
        "log_mod2 = GridSearchCV(log_mod,grid,cv=10)\n",
        "log_mod2.fit(X_train_bal, y_train_bal)\n",
        "\n",
        "print(\"tuned hpyerparameters :(best parameters) \",log_mod2.best_params_)\n",
        "print(\"accuracy :\",log_mod2.best_score_)"
      ],
      "metadata": {
        "colab": {
          "base_uri": "https://localhost:8080/"
        },
        "id": "Rlwy_qKleFXr",
        "outputId": "6dfb2491-c855-450b-b54a-c6e28ae09931"
      },
      "execution_count": null,
      "outputs": [
        {
          "output_type": "stream",
          "name": "stdout",
          "text": [
            "[LibLinear][LibLinear][LibLinear][LibLinear][LibLinear][LibLinear][LibLinear][LibLinear][LibLinear][LibLinear][LibLinear][LibLinear][LibLinear][LibLinear][LibLinear][LibLinear][LibLinear][LibLinear][LibLinear][LibLinear][LibLinear][LibLinear][LibLinear][LibLinear][LibLinear][LibLinear][LibLinear][LibLinear][LibLinear][LibLinear][LibLinear][LibLinear][LibLinear][LibLinear][LibLinear][LibLinear][LibLinear][LibLinear][LibLinear][LibLinear][LibLinear][LibLinear][LibLinear][LibLinear][LibLinear][LibLinear][LibLinear][LibLinear][LibLinear][LibLinear][LibLinear][LibLinear][LibLinear][LibLinear][LibLinear][LibLinear][LibLinear][LibLinear][LibLinear][LibLinear][LibLinear][LibLinear][LibLinear][LibLinear][LibLinear][LibLinear][LibLinear][LibLinear][LibLinear][LibLinear][LibLinear][LibLinear][LibLinear][LibLinear][LibLinear][LibLinear][LibLinear][LibLinear][LibLinear][LibLinear][LibLinear][LibLinear][LibLinear][LibLinear][LibLinear][LibLinear][LibLinear][LibLinear][LibLinear][LibLinear][LibLinear][LibLinear][LibLinear][LibLinear][LibLinear][LibLinear][LibLinear][LibLinear][LibLinear][LibLinear][LibLinear][LibLinear][LibLinear][LibLinear][LibLinear][LibLinear][LibLinear][LibLinear][LibLinear][LibLinear][LibLinear][LibLinear][LibLinear][LibLinear][LibLinear][LibLinear][LibLinear][LibLinear][LibLinear][LibLinear][LibLinear][LibLinear][LibLinear][LibLinear][LibLinear][LibLinear][LibLinear][LibLinear][LibLinear][LibLinear][LibLinear][LibLinear][LibLinear][LibLinear][LibLinear][LibLinear][LibLinear][LibLinear][LibLinear][LibLinear][LibLinear]tuned hpyerparameters :(best parameters)  {'C': 10.0, 'penalty': 'l2'}\n",
            "accuracy : 0.9458177605782245\n"
          ]
        }
      ]
    },
    {
      "cell_type": "code",
      "source": [
        "compute_metrics(log_mod2, X_test, y_test, y_pred)"
      ],
      "metadata": {
        "id": "MFmcf6jy_Qut",
        "colab": {
          "base_uri": "https://localhost:8080/",
          "height": 522
        },
        "outputId": "d9ba091c-e24b-47d1-ec34-513c426b8cee"
      },
      "execution_count": null,
      "outputs": [
        {
          "output_type": "stream",
          "name": "stdout",
          "text": [
            "GridSearchCV Accuracy is 0.974\n",
            "GridSearchCV AUC is 0.984\n",
            "GridSearchCV Sensitivity-Recall is 0.919\n",
            "GridSearchCV Specificity is 0.974\n",
            "GridSearchCV f1_score is 0.116\n",
            "              precision    recall  f1-score   support\n",
            "\n",
            "           0       1.00      0.97      0.99     85283\n",
            "           1       0.06      0.92      0.12       160\n",
            "\n",
            "    accuracy                           0.97     85443\n",
            "   macro avg       0.53      0.95      0.55     85443\n",
            "weighted avg       1.00      0.97      0.99     85443\n",
            "\n"
          ]
        },
        {
          "output_type": "display_data",
          "data": {
            "text/plain": [
              "<Figure size 432x288 with 2 Axes>"
            ],
            "image/png": "[encoded data removed]"
          },
          "metadata": {
            "needs_background": "light"
          }
        }
      ]
    },
    {
      "cell_type": "code",
      "source": [
        "analisis_roc(log_mod2, X_test, y_test, POSITIVE_CLASS=1)"
      ],
      "metadata": {
        "id": "WtNxEXiBENKh",
        "colab": {
          "base_uri": "https://localhost:8080/",
          "height": 300
        },
        "outputId": "6d4121e9-faa2-4ff9-8bf3-fb389f71d3fb"
      },
      "execution_count": null,
      "outputs": [
        {
          "output_type": "display_data",
          "data": {
            "text/plain": [
              "<Figure size 432x288 with 1 Axes>"
            ],
            "image/png": "[encoded data removed]"
          },
          "metadata": {
            "needs_background": "light"
          }
        }
      ]
    },
    {
      "cell_type": "code",
      "source": [
        "precision_recall(log_mod2, X_test, y_test, POSITIVE_CLASS=1)"
      ],
      "metadata": {
        "id": "dmN_iHfsYmHk",
        "colab": {
          "base_uri": "https://localhost:8080/",
          "height": 296
        },
        "outputId": "ebe694ce-af93-44e0-dd97-9d6ba244d8cc"
      },
      "execution_count": null,
      "outputs": [
        {
          "output_type": "stream",
          "name": "stdout",
          "text": [
            "GridSearchCV: f1=0.116 auc=0.766\n"
          ]
        },
        {
          "output_type": "display_data",
          "data": {
            "text/plain": [
              "<Figure size 432x288 with 1 Axes>"
            ],
            "image/png": "[encoded data removed]"
          },
          "metadata": {
            "needs_background": "light"
          }
        }
      ]
    },
    {
      "cell_type": "markdown",
      "source": [
        "### K-nearest neighbors\n"
      ],
      "metadata": {
        "id": "0lTnpfmxNh6H"
      }
    },
    {
      "cell_type": "code",
      "source": [
        "n = 5\n",
        "\n",
        "knn_mod = KNeighborsClassifier(n_neighbors = n)\n",
        "knn_mod.fit(X_train_bal, y_train_bal)\n",
        "\n",
        "y_pred = knn_mod.predict(X_test)"
      ],
      "metadata": {
        "id": "kMJDY1uuN0wV"
      },
      "execution_count": null,
      "outputs": []
    },
    {
      "cell_type": "code",
      "source": [
        "compute_metrics(knn_mod, X_test, y_test, y_pred)"
      ],
      "metadata": {
        "id": "1eRJ7UPLON5y",
        "colab": {
          "base_uri": "https://localhost:8080/",
          "height": 522
        },
        "outputId": "82c44bb5-365c-450c-ccb5-276abc042a48"
      },
      "execution_count": null,
      "outputs": [
        {
          "output_type": "stream",
          "name": "stdout",
          "text": [
            "KNeighborsClassifier Accuracy is 0.998\n",
            "KNeighborsClassifier AUC is 0.946\n",
            "KNeighborsClassifier Sensitivity-Recall is 0.894\n",
            "KNeighborsClassifier Specificity is 0.998\n",
            "KNeighborsClassifier f1_score is 0.615\n",
            "              precision    recall  f1-score   support\n",
            "\n",
            "           0       1.00      1.00      1.00     85283\n",
            "           1       0.47      0.89      0.62       160\n",
            "\n",
            "    accuracy                           1.00     85443\n",
            "   macro avg       0.73      0.95      0.81     85443\n",
            "weighted avg       1.00      1.00      1.00     85443\n",
            "\n"
          ]
        },
        {
          "output_type": "display_data",
          "data": {
            "text/plain": [
              "<Figure size 432x288 with 2 Axes>"
            ],
            "image/png": "[encoded data removed]"
          },
          "metadata": {
            "needs_background": "light"
          }
        }
      ]
    },
    {
      "cell_type": "code",
      "source": [
        "analisis_roc(knn_mod, X_test, y_test, POSITIVE_CLASS=1)"
      ],
      "metadata": {
        "id": "HIvALfWqPf2m",
        "colab": {
          "base_uri": "https://localhost:8080/",
          "height": 300
        },
        "outputId": "d05b806d-b99c-453b-e3d1-02da8d726f5b"
      },
      "execution_count": null,
      "outputs": [
        {
          "output_type": "display_data",
          "data": {
            "text/plain": [
              "<Figure size 432x288 with 1 Axes>"
            ],
            "image/png": "[encoded data removed]"
          },
          "metadata": {
            "needs_background": "light"
          }
        }
      ]
    },
    {
      "cell_type": "code",
      "source": [
        "precision_recall(knn_mod, X_test, y_test, POSITIVE_CLASS=1)"
      ],
      "metadata": {
        "id": "G7fs4gr5Yv17",
        "colab": {
          "base_uri": "https://localhost:8080/",
          "height": 296
        },
        "outputId": "8e01079a-51e6-43be-aa66-ae6d918e43de"
      },
      "execution_count": null,
      "outputs": [
        {
          "output_type": "stream",
          "name": "stdout",
          "text": [
            "KNeighborsClassifier: f1=0.615 auc=0.779\n"
          ]
        },
        {
          "output_type": "display_data",
          "data": {
            "text/plain": [
              "<Figure size 432x288 with 1 Axes>"
            ],
            "image/png": "[encoded data removed]"
          },
          "metadata": {
            "needs_background": "light"
          }
        }
      ]
    },
    {
      "cell_type": "markdown",
      "source": [
        "### Naive Bayes"
      ],
      "metadata": {
        "id": "cKTDq8dTKh5C"
      }
    },
    {
      "cell_type": "code",
      "source": [
        "nb_mod = GaussianNB()\n",
        "\n",
        "nb_mod.fit(X_train_bal, y_train_bal)\n",
        "\n",
        "y_pred = nb_mod.predict(X_test)"
      ],
      "metadata": {
        "id": "-2Tf0leiKHe2"
      },
      "execution_count": null,
      "outputs": []
    },
    {
      "cell_type": "code",
      "source": [
        "compute_metrics(nb_mod, X_test, y_test, y_pred)"
      ],
      "metadata": {
        "id": "z5eKMgQsKwYP",
        "colab": {
          "base_uri": "https://localhost:8080/",
          "height": 522
        },
        "outputId": "05f597a7-4727-4494-c5e3-083226531eb0"
      },
      "execution_count": null,
      "outputs": [
        {
          "output_type": "stream",
          "name": "stdout",
          "text": [
            "GaussianNB Accuracy is 0.975\n",
            "GaussianNB AUC is 0.958\n",
            "GaussianNB Sensitivity-Recall is 0.856\n",
            "GaussianNB Specificity is 0.976\n",
            "GaussianNB f1_score is 0.115\n",
            "              precision    recall  f1-score   support\n",
            "\n",
            "           0       1.00      0.98      0.99     85283\n",
            "           1       0.06      0.86      0.12       160\n",
            "\n",
            "    accuracy                           0.98     85443\n",
            "   macro avg       0.53      0.92      0.55     85443\n",
            "weighted avg       1.00      0.98      0.99     85443\n",
            "\n"
          ]
        },
        {
          "output_type": "display_data",
          "data": {
            "text/plain": [
              "<Figure size 432x288 with 2 Axes>"
            ],
            "image/png": "[encoded data removed]"
          },
          "metadata": {
            "needs_background": "light"
          }
        }
      ]
    },
    {
      "cell_type": "code",
      "source": [
        "analisis_roc(nb_mod, X_test, y_test, POSITIVE_CLASS=1)"
      ],
      "metadata": {
        "id": "pfjNeIPqLn6n",
        "colab": {
          "base_uri": "https://localhost:8080/",
          "height": 300
        },
        "outputId": "2a897dba-f143-4830-856f-bbe3c16d9dfc"
      },
      "execution_count": null,
      "outputs": [
        {
          "output_type": "display_data",
          "data": {
            "text/plain": [
              "<Figure size 432x288 with 1 Axes>"
            ],
            "image/png": "[encoded data removed]"
          },
          "metadata": {
            "needs_background": "light"
          }
        }
      ]
    },
    {
      "cell_type": "code",
      "source": [
        "precision_recall(nb_mod, X_test, y_test, POSITIVE_CLASS=1)"
      ],
      "metadata": {
        "id": "tA6MXUvxZGOY",
        "colab": {
          "base_uri": "https://localhost:8080/",
          "height": 296
        },
        "outputId": "fc80df08-7574-4a26-8c38-d3aadfaa180b"
      },
      "execution_count": null,
      "outputs": [
        {
          "output_type": "stream",
          "name": "stdout",
          "text": [
            "GaussianNB: f1=0.115 auc=0.422\n"
          ]
        },
        {
          "output_type": "display_data",
          "data": {
            "text/plain": [
              "<Figure size 432x288 with 1 Axes>"
            ],
            "image/png": "[encoded data removed]"
          },
          "metadata": {
            "needs_background": "light"
          }
        }
      ]
    },
    {
      "cell_type": "markdown",
      "source": [
        "### Decision Tree"
      ],
      "metadata": {
        "id": "kjUwwMTGOHBz"
      }
    },
    {
      "cell_type": "code",
      "source": [
        "#jugar con estos parámetros: class sklearn.tree.DecisionTreeClassifier(*, criterion='gini', splitter='best', max_depth=None, min_samples_split=2,\n",
        "#min_samples_leaf=1, min_weight_fraction_leaf=0.0, \n",
        "#max_features=None, random_state=None, max_leaf_nodes=None, min_impurity_decrease=0.0, class_weight=None, ccp_alpha=0.0)[source]\n",
        "\n",
        "dtree_mod = DecisionTreeClassifier(random_state = seed, max_depth=4)\n",
        "\n",
        "dtree_mod.fit(X_train_bal, y_train_bal)\n",
        "\n",
        "y_pred = dtree_mod.predict(X_test)"
      ],
      "metadata": {
        "id": "43FfVbDkOdbK"
      },
      "execution_count": null,
      "outputs": []
    },
    {
      "cell_type": "code",
      "source": [
        "grid={ \"max_depth\": range(0,10), \"min_weight_fraction_leaf\" : range(0, 1)}\n",
        "\n",
        "dtree_mod2 = DecisionTreeClassifier(random_state= seed)\n",
        "dtree_mod2 = GridSearchCV(dtree_mod,grid,cv=10)\n",
        "dtree_mod2.fit(X_train_bal, y_train_bal)\n",
        "\n",
        "print(\"tuned hpyerparameters :(best parameters) \",dtree_mod2.best_params_)\n",
        "print(\"accuracy :\",dtree_mod2.best_score_)"
      ],
      "metadata": {
        "id": "SRH1fVOLnU-C",
        "colab": {
          "base_uri": "https://localhost:8080/"
        },
        "outputId": "c09be6be-ff3f-4439-b271-086bd8b97e0c"
      },
      "execution_count": null,
      "outputs": [
        {
          "output_type": "stream",
          "name": "stderr",
          "text": [
            "/usr/local/lib/python3.7/dist-packages/sklearn/model_selection/_validation.py:372: FitFailedWarning: \n",
            "10 fits failed out of a total of 100.\n",
            "The score on these train-test partitions for these parameters will be set to nan.\n",
            "If these failures are not expected, you can try to debug them by setting error_score='raise'.\n",
            "\n",
            "Below are more details about the failures:\n",
            "--------------------------------------------------------------------------------\n",
            "10 fits failed with the following error:\n",
            "Traceback (most recent call last):\n",
            "  File \"/usr/local/lib/python3.7/dist-packages/sklearn/model_selection/_validation.py\", line 680, in _fit_and_score\n",
            "    estimator.fit(X_train, y_train, **fit_params)\n",
            "  File \"/usr/local/lib/python3.7/dist-packages/sklearn/tree/_classes.py\", line 942, in fit\n",
            "    X_idx_sorted=X_idx_sorted,\n",
            "  File \"/usr/local/lib/python3.7/dist-packages/sklearn/tree/_classes.py\", line 306, in fit\n",
            "    raise ValueError(\"max_depth must be greater than zero. \")\n",
            "ValueError: max_depth must be greater than zero. \n",
            "\n",
            "  warnings.warn(some_fits_failed_message, FitFailedWarning)\n",
            "/usr/local/lib/python3.7/dist-packages/sklearn/model_selection/_search.py:972: UserWarning: One or more of the test scores are non-finite: [       nan 0.92532608 0.93013938 0.93953736 0.94602627 0.95236444\n",
            " 0.96386259 0.97296666 0.97931991 0.98430655]\n",
            "  category=UserWarning,\n"
          ]
        },
        {
          "output_type": "stream",
          "name": "stdout",
          "text": [
            "tuned hpyerparameters :(best parameters)  {'max_depth': 9, 'min_weight_fraction_leaf': 0}\n",
            "accuracy : 0.9843065482885789\n"
          ]
        }
      ]
    },
    {
      "cell_type": "code",
      "source": [
        "compute_metrics(dtree_mod2, X_test, y_test, y_pred)"
      ],
      "metadata": {
        "id": "J39drgKcPSCV",
        "colab": {
          "base_uri": "https://localhost:8080/",
          "height": 522
        },
        "outputId": "e60bec1d-c51f-4c0c-f5c2-8fff211d649e"
      },
      "execution_count": null,
      "outputs": [
        {
          "output_type": "stream",
          "name": "stdout",
          "text": [
            "GridSearchCV Accuracy is 0.997\n",
            "GridSearchCV AUC is 0.930\n",
            "GridSearchCV Sensitivity-Recall is 0.781\n",
            "GridSearchCV Specificity is 0.998\n",
            "GridSearchCV f1_score is 0.520\n",
            "              precision    recall  f1-score   support\n",
            "\n",
            "           0       1.00      1.00      1.00     85283\n",
            "           1       0.39      0.78      0.52       160\n",
            "\n",
            "    accuracy                           1.00     85443\n",
            "   macro avg       0.69      0.89      0.76     85443\n",
            "weighted avg       1.00      1.00      1.00     85443\n",
            "\n"
          ]
        },
        {
          "output_type": "display_data",
          "data": {
            "text/plain": [
              "<Figure size 432x288 with 2 Axes>"
            ],
            "image/png": "[encoded data removed]"
          },
          "metadata": {
            "needs_background": "light"
          }
        }
      ]
    },
    {
      "cell_type": "code",
      "source": [
        "analisis_roc(dtree_mod2, X_test, y_test, POSITIVE_CLASS=1)"
      ],
      "metadata": {
        "id": "4gvQBxT6PSCY",
        "colab": {
          "base_uri": "https://localhost:8080/",
          "height": 300
        },
        "outputId": "96f30e97-a66b-43f5-92b0-54805dafb49e"
      },
      "execution_count": null,
      "outputs": [
        {
          "output_type": "display_data",
          "data": {
            "text/plain": [
              "<Figure size 432x288 with 1 Axes>"
            ],
            "image/png": "[encoded data removed]"
          },
          "metadata": {
            "needs_background": "light"
          }
        }
      ]
    },
    {
      "cell_type": "code",
      "source": [
        "precision_recall(dtree_mod2, X_test, y_test, POSITIVE_CLASS=1)"
      ],
      "metadata": {
        "id": "43OovaAoZQlW",
        "colab": {
          "base_uri": "https://localhost:8080/",
          "height": 296
        },
        "outputId": "de044339-e689-4b27-a288-d902dd6484c9"
      },
      "execution_count": null,
      "outputs": [
        {
          "output_type": "stream",
          "name": "stdout",
          "text": [
            "GridSearchCV: f1=0.170 auc=0.280\n"
          ]
        },
        {
          "output_type": "display_data",
          "data": {
            "text/plain": [
              "<Figure size 432x288 with 1 Axes>"
            ],
            "image/png": "[encoded data removed]"
          },
          "metadata": {
            "needs_background": "light"
          }
        }
      ]
    },
    {
      "cell_type": "markdown",
      "source": [
        "### Decision Tree cambiando max_depth = 4"
      ],
      "metadata": {
        "id": "zH3DwmFSJ3sD"
      }
    },
    {
      "cell_type": "code",
      "source": [
        "compute_metrics(dtree_mod, X_test, y_test, y_pred)"
      ],
      "metadata": {
        "colab": {
          "base_uri": "https://localhost:8080/",
          "height": 522
        },
        "id": "9K0tn7VsKQDu",
        "outputId": "fb764fc6-83ca-476b-e1c1-2f7be66b77b1"
      },
      "execution_count": null,
      "outputs": [
        {
          "output_type": "stream",
          "name": "stdout",
          "text": [
            "DecisionTreeClassifier Accuracy is 0.967\n",
            "DecisionTreeClassifier AUC is 0.969\n",
            "DecisionTreeClassifier Sensitivity-Recall is 0.900\n",
            "DecisionTreeClassifier Specificity is 0.967\n",
            "DecisionTreeClassifier f1_score is 0.094\n",
            "              precision    recall  f1-score   support\n",
            "\n",
            "           0       1.00      0.97      0.98     85283\n",
            "           1       0.05      0.90      0.09       160\n",
            "\n",
            "    accuracy                           0.97     85443\n",
            "   macro avg       0.52      0.93      0.54     85443\n",
            "weighted avg       1.00      0.97      0.98     85443\n",
            "\n"
          ]
        },
        {
          "output_type": "display_data",
          "data": {
            "text/plain": [
              "<Figure size 432x288 with 2 Axes>"
            ],
            "image/png": "[encoded data removed]"
          },
          "metadata": {
            "needs_background": "light"
          }
        }
      ]
    },
    {
      "cell_type": "code",
      "source": [
        "analisis_roc(dtree_mod, X_test, y_test, POSITIVE_CLASS=1)"
      ],
      "metadata": {
        "colab": {
          "base_uri": "https://localhost:8080/",
          "height": 300
        },
        "id": "aI4FA7v3J23t",
        "outputId": "6bcfd3f5-4860-4cd6-8eda-ddc44ec2229a"
      },
      "execution_count": null,
      "outputs": [
        {
          "output_type": "display_data",
          "data": {
            "text/plain": [
              "<Figure size 432x288 with 1 Axes>"
            ],
            "image/png": "[encoded data removed]"
          },
          "metadata": {
            "needs_background": "light"
          }
        }
      ]
    },
    {
      "cell_type": "code",
      "source": [
        "precision_recall(dtree_mod, X_test, y_test, POSITIVE_CLASS=1)"
      ],
      "metadata": {
        "colab": {
          "base_uri": "https://localhost:8080/",
          "height": 296
        },
        "id": "rBSM3ts6Kj9-",
        "outputId": "85343813-58fc-42fd-a84d-6f3ec4f2c7a7"
      },
      "execution_count": null,
      "outputs": [
        {
          "output_type": "stream",
          "name": "stdout",
          "text": [
            "DecisionTreeClassifier: f1=0.094 auc=0.359\n"
          ]
        },
        {
          "output_type": "display_data",
          "data": {
            "text/plain": [
              "<Figure size 432x288 with 1 Axes>"
            ],
            "image/png": "[encoded data removed]"
          },
          "metadata": {
            "needs_background": "light"
          }
        }
      ]
    },
    {
      "cell_type": "markdown",
      "source": [
        "### Random Forest"
      ],
      "metadata": {
        "id": "-3E95rqxP87O"
      }
    },
    {
      "cell_type": "code",
      "source": [
        "#mirar parámetros para optimizar random forest\n",
        "rf_mod = RandomForestClassifier(random_state = seed, n_estimators= 100, criterion= 'entropy', max_depth= 8, min_samples_split= 2, max_features= 'sqrt')\n",
        "\n",
        "rf_mod.fit(X_train_bal, y_train_bal)\n",
        "\n",
        "y_pred = rf_mod.predict(X_test)"
      ],
      "metadata": {
        "id": "cq_gow8wP8Th"
      },
      "execution_count": null,
      "outputs": []
    },
    {
      "cell_type": "code",
      "source": [
        "compute_metrics(rf_mod, X_test, y_test, y_pred)"
      ],
      "metadata": {
        "id": "AnYBHpvlTnzb",
        "colab": {
          "base_uri": "https://localhost:8080/",
          "height": 522
        },
        "outputId": "91d107df-0b64-4ae9-ad36-85998a1f973f"
      },
      "execution_count": null,
      "outputs": [
        {
          "output_type": "stream",
          "name": "stdout",
          "text": [
            "RandomForestClassifier Accuracy is 0.998\n",
            "RandomForestClassifier AUC is 0.987\n",
            "RandomForestClassifier Sensitivity-Recall is 0.869\n",
            "RandomForestClassifier Specificity is 0.998\n",
            "RandomForestClassifier f1_score is 0.571\n",
            "              precision    recall  f1-score   support\n",
            "\n",
            "           0       1.00      1.00      1.00     85283\n",
            "           1       0.43      0.87      0.57       160\n",
            "\n",
            "    accuracy                           1.00     85443\n",
            "   macro avg       0.71      0.93      0.78     85443\n",
            "weighted avg       1.00      1.00      1.00     85443\n",
            "\n"
          ]
        },
        {
          "output_type": "display_data",
          "data": {
            "text/plain": [
              "<Figure size 432x288 with 2 Axes>"
            ],
            "image/png": "[encoded data removed]"
          },
          "metadata": {
            "needs_background": "light"
          }
        }
      ]
    },
    {
      "cell_type": "code",
      "source": [
        "analisis_roc(rf_mod, X_test, y_test, POSITIVE_CLASS=1)"
      ],
      "metadata": {
        "id": "42rzKpXXTpW7",
        "colab": {
          "base_uri": "https://localhost:8080/",
          "height": 300
        },
        "outputId": "ee48760c-1f56-4992-81a9-310985a50e69"
      },
      "execution_count": null,
      "outputs": [
        {
          "output_type": "display_data",
          "data": {
            "text/plain": [
              "<Figure size 432x288 with 1 Axes>"
            ],
            "image/png": "[encoded data removed]"
          },
          "metadata": {
            "needs_background": "light"
          }
        }
      ]
    },
    {
      "cell_type": "code",
      "source": [
        "precision_recall(rf_mod, X_test, y_test, POSITIVE_CLASS=1)"
      ],
      "metadata": {
        "id": "cJzm9lc4aRFa",
        "colab": {
          "base_uri": "https://localhost:8080/",
          "height": 296
        },
        "outputId": "598c9741-6ced-4153-cce3-f82e3e7d3d54"
      },
      "execution_count": null,
      "outputs": [
        {
          "output_type": "stream",
          "name": "stdout",
          "text": [
            "RandomForestClassifier: f1=0.571 auc=0.847\n"
          ]
        },
        {
          "output_type": "display_data",
          "data": {
            "text/plain": [
              "<Figure size 432x288 with 1 Axes>"
            ],
            "image/png": "[encoded data removed]"
          },
          "metadata": {
            "needs_background": "light"
          }
        }
      ]
    },
    {
      "cell_type": "markdown",
      "source": [
        "### Adaboost "
      ],
      "metadata": {
        "id": "Bbq6jvhTUBYv"
      }
    },
    {
      "cell_type": "code",
      "source": [
        "adab_mod = AdaBoostClassifier(random_state = seed, base_estimator= None, n_estimators = 50, learning_rate= 1, algorithm= 'SAMME.R')\n",
        "\n",
        "adab_mod.fit(X_train_bal, y_train_bal)\n",
        "\n",
        "y_pred = adab_mod.predict(X_test)"
      ],
      "metadata": {
        "id": "Fdcx_AkkUWmI"
      },
      "execution_count": null,
      "outputs": []
    },
    {
      "cell_type": "code",
      "source": [
        "compute_metrics(adab_mod, X_test, y_test, y_pred)"
      ],
      "metadata": {
        "id": "qVaZ2Ct4abhT",
        "colab": {
          "base_uri": "https://localhost:8080/",
          "height": 522
        },
        "outputId": "4f216564-ae61-4fb6-f86e-ad69385e6455"
      },
      "execution_count": null,
      "outputs": [
        {
          "output_type": "stream",
          "name": "stdout",
          "text": [
            "AdaBoostClassifier Accuracy is 0.981\n",
            "AdaBoostClassifier AUC is 0.979\n",
            "AdaBoostClassifier Sensitivity-Recall is 0.900\n",
            "AdaBoostClassifier Specificity is 0.981\n",
            "AdaBoostClassifier f1_score is 0.148\n",
            "              precision    recall  f1-score   support\n",
            "\n",
            "           0       1.00      0.98      0.99     85283\n",
            "           1       0.08      0.90      0.15       160\n",
            "\n",
            "    accuracy                           0.98     85443\n",
            "   macro avg       0.54      0.94      0.57     85443\n",
            "weighted avg       1.00      0.98      0.99     85443\n",
            "\n"
          ]
        },
        {
          "output_type": "display_data",
          "data": {
            "text/plain": [
              "<Figure size 432x288 with 2 Axes>"
            ],
            "image/png": "[encoded data removed]"
          },
          "metadata": {
            "needs_background": "light"
          }
        }
      ]
    },
    {
      "cell_type": "code",
      "source": [
        "analisis_roc(adab_mod, X_test, y_test, POSITIVE_CLASS=1)"
      ],
      "metadata": {
        "id": "7rFCfdZ-aqIM",
        "colab": {
          "base_uri": "https://localhost:8080/",
          "height": 300
        },
        "outputId": "8c71c823-cc23-4205-f823-0d896a58dc7f"
      },
      "execution_count": null,
      "outputs": [
        {
          "output_type": "display_data",
          "data": {
            "text/plain": [
              "<Figure size 432x288 with 1 Axes>"
            ],
            "image/png": "[encoded data removed]"
          },
          "metadata": {
            "needs_background": "light"
          }
        }
      ]
    },
    {
      "cell_type": "code",
      "source": [
        "precision_recall(adab_mod, X_test, y_test, POSITIVE_CLASS=1)"
      ],
      "metadata": {
        "id": "l9UQSnzcavzK",
        "colab": {
          "base_uri": "https://localhost:8080/",
          "height": 296
        },
        "outputId": "11adf856-4827-4317-b5eb-df86eb55bbb7"
      },
      "execution_count": null,
      "outputs": [
        {
          "output_type": "stream",
          "name": "stdout",
          "text": [
            "AdaBoostClassifier: f1=0.148 auc=0.810\n"
          ]
        },
        {
          "output_type": "display_data",
          "data": {
            "text/plain": [
              "<Figure size 432x288 with 1 Axes>"
            ],
            "image/png": "[encoded data removed]"
          },
          "metadata": {
            "needs_background": "light"
          }
        }
      ]
    }
  ]
}