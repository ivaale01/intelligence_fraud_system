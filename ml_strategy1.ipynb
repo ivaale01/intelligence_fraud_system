{
  "cells": [
    {
      "cell_type": "markdown",
      "metadata": {
        "id": "p_8quK41k6ui"
      },
      "source": [
        "Import libraries "
      ]
    },
    {
      "cell_type": "code",
      "execution_count": null,
      "metadata": {
        "id": "D7yQvJtTftSc"
      },
      "outputs": [],
      "source": [
        "# Data manipulation\n",
        "import pandas as pd\n",
        "import numpy as np\n",
        "\n",
        "# Plotting\n",
        "import matplotlib.pyplot as plt\n",
        "import seaborn as sns\n",
        "from matplotlib import pyplot \n",
        "%matplotlib inline\n",
        "\n",
        "# ML Libraries\n",
        "from sklearn.metrics import classification_report, confusion_matrix, roc_curve, auc, ConfusionMatrixDisplay, f1_score\n",
        "from sklearn.model_selection import train_test_split\n",
        "import sklearn.metrics as metrics\n",
        "from sklearn.metrics import precision_recall_curve\n",
        "\n",
        "\n",
        "from sklearn.linear_model import LogisticRegression\n",
        "from sklearn.naive_bayes import GaussianNB\n",
        "from sklearn.neighbors import KNeighborsClassifier\n",
        "\n",
        "from sklearn.tree import DecisionTreeClassifier\n",
        "from sklearn.ensemble import RandomForestClassifier\n",
        "from sklearn.ensemble import AdaBoostClassifier\n",
        "from sklearn.model_selection import GridSearchCV\n",
        " \n",
        "\n",
        "# Tree Visualization\n",
        "from IPython.display import Image  \n",
        "from sklearn.tree import export_graphviz\n",
        "import pydot \n"
      ]
    },
    {
      "cell_type": "markdown",
      "metadata": {
        "id": "1ku12Q32qrr4"
      },
      "source": [
        "#Data exploration"
      ]
    },
    {
      "cell_type": "code",
      "execution_count": null,
      "metadata": {
        "colab": {
          "base_uri": "https://localhost:8080/",
          "height": 300
        },
        "id": "ibnIXjqGlPx1",
        "outputId": "e7af636b-fba0-4444-81e4-5d935a0e6e96"
      },
      "outputs": [
        {
          "output_type": "execute_result",
          "data": {
            "text/plain": [
              "   Time        V1        V2        V3        V4        V5        V6        V7  \\\n",
              "0   0.0 -1.359807 -0.072781  2.536347  1.378155 -0.338321  0.462388  0.239599   \n",
              "1   0.0  1.191857  0.266151  0.166480  0.448154  0.060018 -0.082361 -0.078803   \n",
              "2   1.0 -1.358354 -1.340163  1.773209  0.379780 -0.503198  1.800499  0.791461   \n",
              "3   1.0 -0.966272 -0.185226  1.792993 -0.863291 -0.010309  1.247203  0.237609   \n",
              "4   2.0 -1.158233  0.877737  1.548718  0.403034 -0.407193  0.095921  0.592941   \n",
              "\n",
              "         V8        V9  ...       V21       V22       V23       V24       V25  \\\n",
              "0  0.098698  0.363787  ... -0.018307  0.277838 -0.110474  0.066928  0.128539   \n",
              "1  0.085102 -0.255425  ... -0.225775 -0.638672  0.101288 -0.339846  0.167170   \n",
              "2  0.247676 -1.514654  ...  0.247998  0.771679  0.909412 -0.689281 -0.327642   \n",
              "3  0.377436 -1.387024  ... -0.108300  0.005274 -0.190321 -1.175575  0.647376   \n",
              "4 -0.270533  0.817739  ... -0.009431  0.798278 -0.137458  0.141267 -0.206010   \n",
              "\n",
              "        V26       V27       V28  Amount  Class  \n",
              "0 -0.189115  0.133558 -0.021053  149.62      0  \n",
              "1  0.125895 -0.008983  0.014724    2.69      0  \n",
              "2 -0.139097 -0.055353 -0.059752  378.66      0  \n",
              "3 -0.221929  0.062723  0.061458  123.50      0  \n",
              "4  0.502292  0.219422  0.215153   69.99      0  \n",
              "\n",
              "[5 rows x 31 columns]"
            ],
            "text/html": [
              "\n",
              "  <div id=\"df-350b6829-0130-4673-b9c7-76ad9dd9a5e1\">\n",
              "    <div class=\"colab-df-container\">\n",
              "      <div>\n",
              "<style scoped>\n",
              "    .dataframe tbody tr th:only-of-type {\n",
              "        vertical-align: middle;\n",
              "    }\n",
              "\n",
              "    .dataframe tbody tr th {\n",
              "        vertical-align: top;\n",
              "    }\n",
              "\n",
              "    .dataframe thead th {\n",
              "        text-align: right;\n",
              "    }\n",
              "</style>\n",
              "<table border=\"1\" class=\"dataframe\">\n",
              "  <thead>\n",
              "    <tr style=\"text-align: right;\">\n",
              "      <th></th>\n",
              "      <th>Time</th>\n",
              "      <th>V1</th>\n",
              "      <th>V2</th>\n",
              "      <th>V3</th>\n",
              "      <th>V4</th>\n",
              "      <th>V5</th>\n",
              "      <th>V6</th>\n",
              "      <th>V7</th>\n",
              "      <th>V8</th>\n",
              "      <th>V9</th>\n",
              "      <th>...</th>\n",
              "      <th>V21</th>\n",
              "      <th>V22</th>\n",
              "      <th>V23</th>\n",
              "      <th>V24</th>\n",
              "      <th>V25</th>\n",
              "      <th>V26</th>\n",
              "      <th>V27</th>\n",
              "      <th>V28</th>\n",
              "      <th>Amount</th>\n",
              "      <th>Class</th>\n",
              "    </tr>\n",
              "  </thead>\n",
              "  <tbody>\n",
              "    <tr>\n",
              "      <th>0</th>\n",
              "      <td>0.0</td>\n",
              "      <td>-1.359807</td>\n",
              "      <td>-0.072781</td>\n",
              "      <td>2.536347</td>\n",
              "      <td>1.378155</td>\n",
              "      <td>-0.338321</td>\n",
              "      <td>0.462388</td>\n",
              "      <td>0.239599</td>\n",
              "      <td>0.098698</td>\n",
              "      <td>0.363787</td>\n",
              "      <td>...</td>\n",
              "      <td>-0.018307</td>\n",
              "      <td>0.277838</td>\n",
              "      <td>-0.110474</td>\n",
              "      <td>0.066928</td>\n",
              "      <td>0.128539</td>\n",
              "      <td>-0.189115</td>\n",
              "      <td>0.133558</td>\n",
              "      <td>-0.021053</td>\n",
              "      <td>149.62</td>\n",
              "      <td>0</td>\n",
              "    </tr>\n",
              "    <tr>\n",
              "      <th>1</th>\n",
              "      <td>0.0</td>\n",
              "      <td>1.191857</td>\n",
              "      <td>0.266151</td>\n",
              "      <td>0.166480</td>\n",
              "      <td>0.448154</td>\n",
              "      <td>0.060018</td>\n",
              "      <td>-0.082361</td>\n",
              "      <td>-0.078803</td>\n",
              "      <td>0.085102</td>\n",
              "      <td>-0.255425</td>\n",
              "      <td>...</td>\n",
              "      <td>-0.225775</td>\n",
              "      <td>-0.638672</td>\n",
              "      <td>0.101288</td>\n",
              "      <td>-0.339846</td>\n",
              "      <td>0.167170</td>\n",
              "      <td>0.125895</td>\n",
              "      <td>-0.008983</td>\n",
              "      <td>0.014724</td>\n",
              "      <td>2.69</td>\n",
              "      <td>0</td>\n",
              "    </tr>\n",
              "    <tr>\n",
              "      <th>2</th>\n",
              "      <td>1.0</td>\n",
              "      <td>-1.358354</td>\n",
              "      <td>-1.340163</td>\n",
              "      <td>1.773209</td>\n",
              "      <td>0.379780</td>\n",
              "      <td>-0.503198</td>\n",
              "      <td>1.800499</td>\n",
              "      <td>0.791461</td>\n",
              "      <td>0.247676</td>\n",
              "      <td>-1.514654</td>\n",
              "      <td>...</td>\n",
              "      <td>0.247998</td>\n",
              "      <td>0.771679</td>\n",
              "      <td>0.909412</td>\n",
              "      <td>-0.689281</td>\n",
              "      <td>-0.327642</td>\n",
              "      <td>-0.139097</td>\n",
              "      <td>-0.055353</td>\n",
              "      <td>-0.059752</td>\n",
              "      <td>378.66</td>\n",
              "      <td>0</td>\n",
              "    </tr>\n",
              "    <tr>\n",
              "      <th>3</th>\n",
              "      <td>1.0</td>\n",
              "      <td>-0.966272</td>\n",
              "      <td>-0.185226</td>\n",
              "      <td>1.792993</td>\n",
              "      <td>-0.863291</td>\n",
              "      <td>-0.010309</td>\n",
              "      <td>1.247203</td>\n",
              "      <td>0.237609</td>\n",
              "      <td>0.377436</td>\n",
              "      <td>-1.387024</td>\n",
              "      <td>...</td>\n",
              "      <td>-0.108300</td>\n",
              "      <td>0.005274</td>\n",
              "      <td>-0.190321</td>\n",
              "      <td>-1.175575</td>\n",
              "      <td>0.647376</td>\n",
              "      <td>-0.221929</td>\n",
              "      <td>0.062723</td>\n",
              "      <td>0.061458</td>\n",
              "      <td>123.50</td>\n",
              "      <td>0</td>\n",
              "    </tr>\n",
              "    <tr>\n",
              "      <th>4</th>\n",
              "      <td>2.0</td>\n",
              "      <td>-1.158233</td>\n",
              "      <td>0.877737</td>\n",
              "      <td>1.548718</td>\n",
              "      <td>0.403034</td>\n",
              "      <td>-0.407193</td>\n",
              "      <td>0.095921</td>\n",
              "      <td>0.592941</td>\n",
              "      <td>-0.270533</td>\n",
              "      <td>0.817739</td>\n",
              "      <td>...</td>\n",
              "      <td>-0.009431</td>\n",
              "      <td>0.798278</td>\n",
              "      <td>-0.137458</td>\n",
              "      <td>0.141267</td>\n",
              "      <td>-0.206010</td>\n",
              "      <td>0.502292</td>\n",
              "      <td>0.219422</td>\n",
              "      <td>0.215153</td>\n",
              "      <td>69.99</td>\n",
              "      <td>0</td>\n",
              "    </tr>\n",
              "  </tbody>\n",
              "</table>\n",
              "<p>5 rows × 31 columns</p>\n",
              "</div>\n",
              "      <button class=\"colab-df-convert\" onclick=\"convertToInteractive('df-350b6829-0130-4673-b9c7-76ad9dd9a5e1')\"\n",
              "              title=\"Convert this dataframe to an interactive table.\"\n",
              "              style=\"display:none;\">\n",
              "        \n",
              "  <svg xmlns=\"http://www.w3.org/2000/svg\" height=\"24px\"viewBox=\"0 0 24 24\"\n",
              "       width=\"24px\">\n",
              "    <path d=\"M0 0h24v24H0V0z\" fill=\"none\"/>\n",
              "    <path d=\"M18.56 5.44l.94 2.06.94-2.06 2.06-.94-2.06-.94-.94-2.06-.94 2.06-2.06.94zm-11 1L8.5 8.5l.94-2.06 2.06-.94-2.06-.94L8.5 2.5l-.94 2.06-2.06.94zm10 10l.94 2.06.94-2.06 2.06-.94-2.06-.94-.94-2.06-.94 2.06-2.06.94z\"/><path d=\"M17.41 7.96l-1.37-1.37c-.4-.4-.92-.59-1.43-.59-.52 0-1.04.2-1.43.59L10.3 9.45l-7.72 7.72c-.78.78-.78 2.05 0 2.83L4 21.41c.39.39.9.59 1.41.59.51 0 1.02-.2 1.41-.59l7.78-7.78 2.81-2.81c.8-.78.8-2.07 0-2.86zM5.41 20L4 18.59l7.72-7.72 1.47 1.35L5.41 20z\"/>\n",
              "  </svg>\n",
              "      </button>\n",
              "      \n",
              "  <style>\n",
              "    .colab-df-container {\n",
              "      display:flex;\n",
              "      flex-wrap:wrap;\n",
              "      gap: 12px;\n",
              "    }\n",
              "\n",
              "    .colab-df-convert {\n",
              "      background-color: #E8F0FE;\n",
              "      border: none;\n",
              "      border-radius: 50%;\n",
              "      cursor: pointer;\n",
              "      display: none;\n",
              "      fill: #1967D2;\n",
              "      height: 32px;\n",
              "      padding: 0 0 0 0;\n",
              "      width: 32px;\n",
              "    }\n",
              "\n",
              "    .colab-df-convert:hover {\n",
              "      background-color: #E2EBFA;\n",
              "      box-shadow: 0px 1px 2px rgba(60, 64, 67, 0.3), 0px 1px 3px 1px rgba(60, 64, 67, 0.15);\n",
              "      fill: #174EA6;\n",
              "    }\n",
              "\n",
              "    [theme=dark] .colab-df-convert {\n",
              "      background-color: #3B4455;\n",
              "      fill: #D2E3FC;\n",
              "    }\n",
              "\n",
              "    [theme=dark] .colab-df-convert:hover {\n",
              "      background-color: #434B5C;\n",
              "      box-shadow: 0px 1px 3px 1px rgba(0, 0, 0, 0.15);\n",
              "      filter: drop-shadow(0px 1px 2px rgba(0, 0, 0, 0.3));\n",
              "      fill: #FFFFFF;\n",
              "    }\n",
              "  </style>\n",
              "\n",
              "      <script>\n",
              "        const buttonEl =\n",
              "          document.querySelector('#df-350b6829-0130-4673-b9c7-76ad9dd9a5e1 button.colab-df-convert');\n",
              "        buttonEl.style.display =\n",
              "          google.colab.kernel.accessAllowed ? 'block' : 'none';\n",
              "\n",
              "        async function convertToInteractive(key) {\n",
              "          const element = document.querySelector('#df-350b6829-0130-4673-b9c7-76ad9dd9a5e1');\n",
              "          const dataTable =\n",
              "            await google.colab.kernel.invokeFunction('convertToInteractive',\n",
              "                                                     [key], {});\n",
              "          if (!dataTable) return;\n",
              "\n",
              "          const docLinkHtml = 'Like what you see? Visit the ' +\n",
              "            '<a target=\"_blank\" href=https://colab.research.google.com/notebooks/data_table.ipynb>data table notebook</a>'\n",
              "            + ' to learn more about interactive tables.';\n",
              "          element.innerHTML = '';\n",
              "          dataTable['output_type'] = 'display_data';\n",
              "          await google.colab.output.renderOutput(dataTable, element);\n",
              "          const docLink = document.createElement('div');\n",
              "          docLink.innerHTML = docLinkHtml;\n",
              "          element.appendChild(docLink);\n",
              "        }\n",
              "      </script>\n",
              "    </div>\n",
              "  </div>\n",
              "  "
            ]
          },
          "metadata": {},
          "execution_count": 2
        }
      ],
      "source": [
        "#import dataset\n",
        "\n",
        "df = pd.read_csv('creditcard.csv')\n",
        "df.head()"
      ]
    },
    {
      "cell_type": "code",
      "execution_count": null,
      "metadata": {
        "colab": {
          "base_uri": "https://localhost:8080/"
        },
        "id": "Y4IekBirs0Uv",
        "outputId": "bb955f6e-3eda-4812-bcd7-274b422027b0"
      },
      "outputs": [
        {
          "output_type": "stream",
          "name": "stdout",
          "text": [
            "<class 'pandas.core.frame.DataFrame'>\n",
            "RangeIndex: 284807 entries, 0 to 284806\n",
            "Data columns (total 31 columns):\n",
            " #   Column  Non-Null Count   Dtype  \n",
            "---  ------  --------------   -----  \n",
            " 0   Time    284807 non-null  float64\n",
            " 1   V1      284807 non-null  float64\n",
            " 2   V2      284807 non-null  float64\n",
            " 3   V3      284807 non-null  float64\n",
            " 4   V4      284807 non-null  float64\n",
            " 5   V5      284807 non-null  float64\n",
            " 6   V6      284807 non-null  float64\n",
            " 7   V7      284807 non-null  float64\n",
            " 8   V8      284807 non-null  float64\n",
            " 9   V9      284807 non-null  float64\n",
            " 10  V10     284807 non-null  float64\n",
            " 11  V11     284807 non-null  float64\n",
            " 12  V12     284807 non-null  float64\n",
            " 13  V13     284807 non-null  float64\n",
            " 14  V14     284807 non-null  float64\n",
            " 15  V15     284807 non-null  float64\n",
            " 16  V16     284807 non-null  float64\n",
            " 17  V17     284807 non-null  float64\n",
            " 18  V18     284807 non-null  float64\n",
            " 19  V19     284807 non-null  float64\n",
            " 20  V20     284807 non-null  float64\n",
            " 21  V21     284807 non-null  float64\n",
            " 22  V22     284807 non-null  float64\n",
            " 23  V23     284807 non-null  float64\n",
            " 24  V24     284807 non-null  float64\n",
            " 25  V25     284807 non-null  float64\n",
            " 26  V26     284807 non-null  float64\n",
            " 27  V27     284807 non-null  float64\n",
            " 28  V28     284807 non-null  float64\n",
            " 29  Amount  284807 non-null  float64\n",
            " 30  Class   284807 non-null  int64  \n",
            "dtypes: float64(30), int64(1)\n",
            "memory usage: 67.4 MB\n"
          ]
        }
      ],
      "source": [
        "df.info()"
      ]
    },
    {
      "cell_type": "code",
      "execution_count": null,
      "metadata": {
        "colab": {
          "base_uri": "https://localhost:8080/",
          "height": 990
        },
        "id": "Jfgv9iY0UC7O",
        "outputId": "036187da-a736-41d1-a63f-9a6f90e55575"
      },
      "outputs": [
        {
          "output_type": "execute_result",
          "data": {
            "text/plain": [
              "           count          mean         std         min       25%        50%  \\\n",
              "V1      284807.0  3.918649e-15    1.958696  -56.407510 -0.920373   0.018109   \n",
              "V2      284807.0  5.682686e-16    1.651309  -72.715728 -0.598550   0.065486   \n",
              "V3      284807.0 -8.761736e-15    1.516255  -48.325589 -0.890365   0.179846   \n",
              "V4      284807.0  2.811118e-15    1.415869   -5.683171 -0.848640  -0.019847   \n",
              "V5      284807.0 -1.552103e-15    1.380247 -113.743307 -0.691597  -0.054336   \n",
              "V6      284807.0  2.040130e-15    1.332271  -26.160506 -0.768296  -0.274187   \n",
              "V7      284807.0 -1.698953e-15    1.237094  -43.557242 -0.554076   0.040103   \n",
              "V8      284807.0 -1.893285e-16    1.194353  -73.216718 -0.208630   0.022358   \n",
              "V9      284807.0 -3.147640e-15    1.098632  -13.434066 -0.643098  -0.051429   \n",
              "V10     284807.0  1.772925e-15    1.088850  -24.588262 -0.535426  -0.092917   \n",
              "V11     284807.0  9.289524e-16    1.020713   -4.797473 -0.762494  -0.032757   \n",
              "V12     284807.0 -1.803266e-15    0.999201  -18.683715 -0.405571   0.140033   \n",
              "V13     284807.0  1.674888e-15    0.995274   -5.791881 -0.648539  -0.013568   \n",
              "V14     284807.0  1.475621e-15    0.958596  -19.214325 -0.425574   0.050601   \n",
              "V15     284807.0  3.501098e-15    0.915316   -4.498945 -0.582884   0.048072   \n",
              "V16     284807.0  1.392460e-15    0.876253  -14.129855 -0.468037   0.066413   \n",
              "V17     284807.0 -7.466538e-16    0.849337  -25.162799 -0.483748  -0.065676   \n",
              "V18     284807.0  4.258754e-16    0.838176   -9.498746 -0.498850  -0.003636   \n",
              "V19     284807.0  9.019919e-16    0.814041   -7.213527 -0.456299   0.003735   \n",
              "V20     284807.0  5.126845e-16    0.770925  -54.497720 -0.211721  -0.062481   \n",
              "V21     284807.0  1.473120e-16    0.734524  -34.830382 -0.228395  -0.029450   \n",
              "V22     284807.0  8.042109e-16    0.725702  -10.933144 -0.542350   0.006782   \n",
              "V23     284807.0  5.282512e-16    0.624460  -44.807735 -0.161846  -0.011193   \n",
              "V24     284807.0  4.456271e-15    0.605647   -2.836627 -0.354586   0.040976   \n",
              "V25     284807.0  1.426896e-15    0.521278  -10.295397 -0.317145   0.016594   \n",
              "V26     284807.0  1.701640e-15    0.482227   -2.604551 -0.326984  -0.052139   \n",
              "V27     284807.0 -3.662252e-16    0.403632  -22.565679 -0.070840   0.001342   \n",
              "V28     284807.0 -1.217809e-16    0.330083  -15.430084 -0.052960   0.011244   \n",
              "Amount  284807.0  8.834962e+01  250.120109    0.000000  5.600000  22.000000   \n",
              "Class   284807.0  1.727486e-03    0.041527    0.000000  0.000000   0.000000   \n",
              "\n",
              "              75%           max  \n",
              "V1       1.315642      2.454930  \n",
              "V2       0.803724     22.057729  \n",
              "V3       1.027196      9.382558  \n",
              "V4       0.743341     16.875344  \n",
              "V5       0.611926     34.801666  \n",
              "V6       0.398565     73.301626  \n",
              "V7       0.570436    120.589494  \n",
              "V8       0.327346     20.007208  \n",
              "V9       0.597139     15.594995  \n",
              "V10      0.453923     23.745136  \n",
              "V11      0.739593     12.018913  \n",
              "V12      0.618238      7.848392  \n",
              "V13      0.662505      7.126883  \n",
              "V14      0.493150     10.526766  \n",
              "V15      0.648821      8.877742  \n",
              "V16      0.523296     17.315112  \n",
              "V17      0.399675      9.253526  \n",
              "V18      0.500807      5.041069  \n",
              "V19      0.458949      5.591971  \n",
              "V20      0.133041     39.420904  \n",
              "V21      0.186377     27.202839  \n",
              "V22      0.528554     10.503090  \n",
              "V23      0.147642     22.528412  \n",
              "V24      0.439527      4.584549  \n",
              "V25      0.350716      7.519589  \n",
              "V26      0.240952      3.517346  \n",
              "V27      0.091045     31.612198  \n",
              "V28      0.078280     33.847808  \n",
              "Amount  77.165000  25691.160000  \n",
              "Class    0.000000      1.000000  "
            ],
            "text/html": [
              "\n",
              "  <div id=\"df-0354ae9c-b019-4d51-84f5-0f4013aefe3c\">\n",
              "    <div class=\"colab-df-container\">\n",
              "      <div>\n",
              "<style scoped>\n",
              "    .dataframe tbody tr th:only-of-type {\n",
              "        vertical-align: middle;\n",
              "    }\n",
              "\n",
              "    .dataframe tbody tr th {\n",
              "        vertical-align: top;\n",
              "    }\n",
              "\n",
              "    .dataframe thead th {\n",
              "        text-align: right;\n",
              "    }\n",
              "</style>\n",
              "<table border=\"1\" class=\"dataframe\">\n",
              "  <thead>\n",
              "    <tr style=\"text-align: right;\">\n",
              "      <th></th>\n",
              "      <th>count</th>\n",
              "      <th>mean</th>\n",
              "      <th>std</th>\n",
              "      <th>min</th>\n",
              "      <th>25%</th>\n",
              "      <th>50%</th>\n",
              "      <th>75%</th>\n",
              "      <th>max</th>\n",
              "    </tr>\n",
              "  </thead>\n",
              "  <tbody>\n",
              "    <tr>\n",
              "      <th>V1</th>\n",
              "      <td>284807.0</td>\n",
              "      <td>3.918649e-15</td>\n",
              "      <td>1.958696</td>\n",
              "      <td>-56.407510</td>\n",
              "      <td>-0.920373</td>\n",
              "      <td>0.018109</td>\n",
              "      <td>1.315642</td>\n",
              "      <td>2.454930</td>\n",
              "    </tr>\n",
              "    <tr>\n",
              "      <th>V2</th>\n",
              "      <td>284807.0</td>\n",
              "      <td>5.682686e-16</td>\n",
              "      <td>1.651309</td>\n",
              "      <td>-72.715728</td>\n",
              "      <td>-0.598550</td>\n",
              "      <td>0.065486</td>\n",
              "      <td>0.803724</td>\n",
              "      <td>22.057729</td>\n",
              "    </tr>\n",
              "    <tr>\n",
              "      <th>V3</th>\n",
              "      <td>284807.0</td>\n",
              "      <td>-8.761736e-15</td>\n",
              "      <td>1.516255</td>\n",
              "      <td>-48.325589</td>\n",
              "      <td>-0.890365</td>\n",
              "      <td>0.179846</td>\n",
              "      <td>1.027196</td>\n",
              "      <td>9.382558</td>\n",
              "    </tr>\n",
              "    <tr>\n",
              "      <th>V4</th>\n",
              "      <td>284807.0</td>\n",
              "      <td>2.811118e-15</td>\n",
              "      <td>1.415869</td>\n",
              "      <td>-5.683171</td>\n",
              "      <td>-0.848640</td>\n",
              "      <td>-0.019847</td>\n",
              "      <td>0.743341</td>\n",
              "      <td>16.875344</td>\n",
              "    </tr>\n",
              "    <tr>\n",
              "      <th>V5</th>\n",
              "      <td>284807.0</td>\n",
              "      <td>-1.552103e-15</td>\n",
              "      <td>1.380247</td>\n",
              "      <td>-113.743307</td>\n",
              "      <td>-0.691597</td>\n",
              "      <td>-0.054336</td>\n",
              "      <td>0.611926</td>\n",
              "      <td>34.801666</td>\n",
              "    </tr>\n",
              "    <tr>\n",
              "      <th>V6</th>\n",
              "      <td>284807.0</td>\n",
              "      <td>2.040130e-15</td>\n",
              "      <td>1.332271</td>\n",
              "      <td>-26.160506</td>\n",
              "      <td>-0.768296</td>\n",
              "      <td>-0.274187</td>\n",
              "      <td>0.398565</td>\n",
              "      <td>73.301626</td>\n",
              "    </tr>\n",
              "    <tr>\n",
              "      <th>V7</th>\n",
              "      <td>284807.0</td>\n",
              "      <td>-1.698953e-15</td>\n",
              "      <td>1.237094</td>\n",
              "      <td>-43.557242</td>\n",
              "      <td>-0.554076</td>\n",
              "      <td>0.040103</td>\n",
              "      <td>0.570436</td>\n",
              "      <td>120.589494</td>\n",
              "    </tr>\n",
              "    <tr>\n",
              "      <th>V8</th>\n",
              "      <td>284807.0</td>\n",
              "      <td>-1.893285e-16</td>\n",
              "      <td>1.194353</td>\n",
              "      <td>-73.216718</td>\n",
              "      <td>-0.208630</td>\n",
              "      <td>0.022358</td>\n",
              "      <td>0.327346</td>\n",
              "      <td>20.007208</td>\n",
              "    </tr>\n",
              "    <tr>\n",
              "      <th>V9</th>\n",
              "      <td>284807.0</td>\n",
              "      <td>-3.147640e-15</td>\n",
              "      <td>1.098632</td>\n",
              "      <td>-13.434066</td>\n",
              "      <td>-0.643098</td>\n",
              "      <td>-0.051429</td>\n",
              "      <td>0.597139</td>\n",
              "      <td>15.594995</td>\n",
              "    </tr>\n",
              "    <tr>\n",
              "      <th>V10</th>\n",
              "      <td>284807.0</td>\n",
              "      <td>1.772925e-15</td>\n",
              "      <td>1.088850</td>\n",
              "      <td>-24.588262</td>\n",
              "      <td>-0.535426</td>\n",
              "      <td>-0.092917</td>\n",
              "      <td>0.453923</td>\n",
              "      <td>23.745136</td>\n",
              "    </tr>\n",
              "    <tr>\n",
              "      <th>V11</th>\n",
              "      <td>284807.0</td>\n",
              "      <td>9.289524e-16</td>\n",
              "      <td>1.020713</td>\n",
              "      <td>-4.797473</td>\n",
              "      <td>-0.762494</td>\n",
              "      <td>-0.032757</td>\n",
              "      <td>0.739593</td>\n",
              "      <td>12.018913</td>\n",
              "    </tr>\n",
              "    <tr>\n",
              "      <th>V12</th>\n",
              "      <td>284807.0</td>\n",
              "      <td>-1.803266e-15</td>\n",
              "      <td>0.999201</td>\n",
              "      <td>-18.683715</td>\n",
              "      <td>-0.405571</td>\n",
              "      <td>0.140033</td>\n",
              "      <td>0.618238</td>\n",
              "      <td>7.848392</td>\n",
              "    </tr>\n",
              "    <tr>\n",
              "      <th>V13</th>\n",
              "      <td>284807.0</td>\n",
              "      <td>1.674888e-15</td>\n",
              "      <td>0.995274</td>\n",
              "      <td>-5.791881</td>\n",
              "      <td>-0.648539</td>\n",
              "      <td>-0.013568</td>\n",
              "      <td>0.662505</td>\n",
              "      <td>7.126883</td>\n",
              "    </tr>\n",
              "    <tr>\n",
              "      <th>V14</th>\n",
              "      <td>284807.0</td>\n",
              "      <td>1.475621e-15</td>\n",
              "      <td>0.958596</td>\n",
              "      <td>-19.214325</td>\n",
              "      <td>-0.425574</td>\n",
              "      <td>0.050601</td>\n",
              "      <td>0.493150</td>\n",
              "      <td>10.526766</td>\n",
              "    </tr>\n",
              "    <tr>\n",
              "      <th>V15</th>\n",
              "      <td>284807.0</td>\n",
              "      <td>3.501098e-15</td>\n",
              "      <td>0.915316</td>\n",
              "      <td>-4.498945</td>\n",
              "      <td>-0.582884</td>\n",
              "      <td>0.048072</td>\n",
              "      <td>0.648821</td>\n",
              "      <td>8.877742</td>\n",
              "    </tr>\n",
              "    <tr>\n",
              "      <th>V16</th>\n",
              "      <td>284807.0</td>\n",
              "      <td>1.392460e-15</td>\n",
              "      <td>0.876253</td>\n",
              "      <td>-14.129855</td>\n",
              "      <td>-0.468037</td>\n",
              "      <td>0.066413</td>\n",
              "      <td>0.523296</td>\n",
              "      <td>17.315112</td>\n",
              "    </tr>\n",
              "    <tr>\n",
              "      <th>V17</th>\n",
              "      <td>284807.0</td>\n",
              "      <td>-7.466538e-16</td>\n",
              "      <td>0.849337</td>\n",
              "      <td>-25.162799</td>\n",
              "      <td>-0.483748</td>\n",
              "      <td>-0.065676</td>\n",
              "      <td>0.399675</td>\n",
              "      <td>9.253526</td>\n",
              "    </tr>\n",
              "    <tr>\n",
              "      <th>V18</th>\n",
              "      <td>284807.0</td>\n",
              "      <td>4.258754e-16</td>\n",
              "      <td>0.838176</td>\n",
              "      <td>-9.498746</td>\n",
              "      <td>-0.498850</td>\n",
              "      <td>-0.003636</td>\n",
              "      <td>0.500807</td>\n",
              "      <td>5.041069</td>\n",
              "    </tr>\n",
              "    <tr>\n",
              "      <th>V19</th>\n",
              "      <td>284807.0</td>\n",
              "      <td>9.019919e-16</td>\n",
              "      <td>0.814041</td>\n",
              "      <td>-7.213527</td>\n",
              "      <td>-0.456299</td>\n",
              "      <td>0.003735</td>\n",
              "      <td>0.458949</td>\n",
              "      <td>5.591971</td>\n",
              "    </tr>\n",
              "    <tr>\n",
              "      <th>V20</th>\n",
              "      <td>284807.0</td>\n",
              "      <td>5.126845e-16</td>\n",
              "      <td>0.770925</td>\n",
              "      <td>-54.497720</td>\n",
              "      <td>-0.211721</td>\n",
              "      <td>-0.062481</td>\n",
              "      <td>0.133041</td>\n",
              "      <td>39.420904</td>\n",
              "    </tr>\n",
              "    <tr>\n",
              "      <th>V21</th>\n",
              "      <td>284807.0</td>\n",
              "      <td>1.473120e-16</td>\n",
              "      <td>0.734524</td>\n",
              "      <td>-34.830382</td>\n",
              "      <td>-0.228395</td>\n",
              "      <td>-0.029450</td>\n",
              "      <td>0.186377</td>\n",
              "      <td>27.202839</td>\n",
              "    </tr>\n",
              "    <tr>\n",
              "      <th>V22</th>\n",
              "      <td>284807.0</td>\n",
              "      <td>8.042109e-16</td>\n",
              "      <td>0.725702</td>\n",
              "      <td>-10.933144</td>\n",
              "      <td>-0.542350</td>\n",
              "      <td>0.006782</td>\n",
              "      <td>0.528554</td>\n",
              "      <td>10.503090</td>\n",
              "    </tr>\n",
              "    <tr>\n",
              "      <th>V23</th>\n",
              "      <td>284807.0</td>\n",
              "      <td>5.282512e-16</td>\n",
              "      <td>0.624460</td>\n",
              "      <td>-44.807735</td>\n",
              "      <td>-0.161846</td>\n",
              "      <td>-0.011193</td>\n",
              "      <td>0.147642</td>\n",
              "      <td>22.528412</td>\n",
              "    </tr>\n",
              "    <tr>\n",
              "      <th>V24</th>\n",
              "      <td>284807.0</td>\n",
              "      <td>4.456271e-15</td>\n",
              "      <td>0.605647</td>\n",
              "      <td>-2.836627</td>\n",
              "      <td>-0.354586</td>\n",
              "      <td>0.040976</td>\n",
              "      <td>0.439527</td>\n",
              "      <td>4.584549</td>\n",
              "    </tr>\n",
              "    <tr>\n",
              "      <th>V25</th>\n",
              "      <td>284807.0</td>\n",
              "      <td>1.426896e-15</td>\n",
              "      <td>0.521278</td>\n",
              "      <td>-10.295397</td>\n",
              "      <td>-0.317145</td>\n",
              "      <td>0.016594</td>\n",
              "      <td>0.350716</td>\n",
              "      <td>7.519589</td>\n",
              "    </tr>\n",
              "    <tr>\n",
              "      <th>V26</th>\n",
              "      <td>284807.0</td>\n",
              "      <td>1.701640e-15</td>\n",
              "      <td>0.482227</td>\n",
              "      <td>-2.604551</td>\n",
              "      <td>-0.326984</td>\n",
              "      <td>-0.052139</td>\n",
              "      <td>0.240952</td>\n",
              "      <td>3.517346</td>\n",
              "    </tr>\n",
              "    <tr>\n",
              "      <th>V27</th>\n",
              "      <td>284807.0</td>\n",
              "      <td>-3.662252e-16</td>\n",
              "      <td>0.403632</td>\n",
              "      <td>-22.565679</td>\n",
              "      <td>-0.070840</td>\n",
              "      <td>0.001342</td>\n",
              "      <td>0.091045</td>\n",
              "      <td>31.612198</td>\n",
              "    </tr>\n",
              "    <tr>\n",
              "      <th>V28</th>\n",
              "      <td>284807.0</td>\n",
              "      <td>-1.217809e-16</td>\n",
              "      <td>0.330083</td>\n",
              "      <td>-15.430084</td>\n",
              "      <td>-0.052960</td>\n",
              "      <td>0.011244</td>\n",
              "      <td>0.078280</td>\n",
              "      <td>33.847808</td>\n",
              "    </tr>\n",
              "    <tr>\n",
              "      <th>Amount</th>\n",
              "      <td>284807.0</td>\n",
              "      <td>8.834962e+01</td>\n",
              "      <td>250.120109</td>\n",
              "      <td>0.000000</td>\n",
              "      <td>5.600000</td>\n",
              "      <td>22.000000</td>\n",
              "      <td>77.165000</td>\n",
              "      <td>25691.160000</td>\n",
              "    </tr>\n",
              "    <tr>\n",
              "      <th>Class</th>\n",
              "      <td>284807.0</td>\n",
              "      <td>1.727486e-03</td>\n",
              "      <td>0.041527</td>\n",
              "      <td>0.000000</td>\n",
              "      <td>0.000000</td>\n",
              "      <td>0.000000</td>\n",
              "      <td>0.000000</td>\n",
              "      <td>1.000000</td>\n",
              "    </tr>\n",
              "  </tbody>\n",
              "</table>\n",
              "</div>\n",
              "      <button class=\"colab-df-convert\" onclick=\"convertToInteractive('df-0354ae9c-b019-4d51-84f5-0f4013aefe3c')\"\n",
              "              title=\"Convert this dataframe to an interactive table.\"\n",
              "              style=\"display:none;\">\n",
              "        \n",
              "  <svg xmlns=\"http://www.w3.org/2000/svg\" height=\"24px\"viewBox=\"0 0 24 24\"\n",
              "       width=\"24px\">\n",
              "    <path d=\"M0 0h24v24H0V0z\" fill=\"none\"/>\n",
              "    <path d=\"M18.56 5.44l.94 2.06.94-2.06 2.06-.94-2.06-.94-.94-2.06-.94 2.06-2.06.94zm-11 1L8.5 8.5l.94-2.06 2.06-.94-2.06-.94L8.5 2.5l-.94 2.06-2.06.94zm10 10l.94 2.06.94-2.06 2.06-.94-2.06-.94-.94-2.06-.94 2.06-2.06.94z\"/><path d=\"M17.41 7.96l-1.37-1.37c-.4-.4-.92-.59-1.43-.59-.52 0-1.04.2-1.43.59L10.3 9.45l-7.72 7.72c-.78.78-.78 2.05 0 2.83L4 21.41c.39.39.9.59 1.41.59.51 0 1.02-.2 1.41-.59l7.78-7.78 2.81-2.81c.8-.78.8-2.07 0-2.86zM5.41 20L4 18.59l7.72-7.72 1.47 1.35L5.41 20z\"/>\n",
              "  </svg>\n",
              "      </button>\n",
              "      \n",
              "  <style>\n",
              "    .colab-df-container {\n",
              "      display:flex;\n",
              "      flex-wrap:wrap;\n",
              "      gap: 12px;\n",
              "    }\n",
              "\n",
              "    .colab-df-convert {\n",
              "      background-color: #E8F0FE;\n",
              "      border: none;\n",
              "      border-radius: 50%;\n",
              "      cursor: pointer;\n",
              "      display: none;\n",
              "      fill: #1967D2;\n",
              "      height: 32px;\n",
              "      padding: 0 0 0 0;\n",
              "      width: 32px;\n",
              "    }\n",
              "\n",
              "    .colab-df-convert:hover {\n",
              "      background-color: #E2EBFA;\n",
              "      box-shadow: 0px 1px 2px rgba(60, 64, 67, 0.3), 0px 1px 3px 1px rgba(60, 64, 67, 0.15);\n",
              "      fill: #174EA6;\n",
              "    }\n",
              "\n",
              "    [theme=dark] .colab-df-convert {\n",
              "      background-color: #3B4455;\n",
              "      fill: #D2E3FC;\n",
              "    }\n",
              "\n",
              "    [theme=dark] .colab-df-convert:hover {\n",
              "      background-color: #434B5C;\n",
              "      box-shadow: 0px 1px 3px 1px rgba(0, 0, 0, 0.15);\n",
              "      filter: drop-shadow(0px 1px 2px rgba(0, 0, 0, 0.3));\n",
              "      fill: #FFFFFF;\n",
              "    }\n",
              "  </style>\n",
              "\n",
              "      <script>\n",
              "        const buttonEl =\n",
              "          document.querySelector('#df-0354ae9c-b019-4d51-84f5-0f4013aefe3c button.colab-df-convert');\n",
              "        buttonEl.style.display =\n",
              "          google.colab.kernel.accessAllowed ? 'block' : 'none';\n",
              "\n",
              "        async function convertToInteractive(key) {\n",
              "          const element = document.querySelector('#df-0354ae9c-b019-4d51-84f5-0f4013aefe3c');\n",
              "          const dataTable =\n",
              "            await google.colab.kernel.invokeFunction('convertToInteractive',\n",
              "                                                     [key], {});\n",
              "          if (!dataTable) return;\n",
              "\n",
              "          const docLinkHtml = 'Like what you see? Visit the ' +\n",
              "            '<a target=\"_blank\" href=https://colab.research.google.com/notebooks/data_table.ipynb>data table notebook</a>'\n",
              "            + ' to learn more about interactive tables.';\n",
              "          element.innerHTML = '';\n",
              "          dataTable['output_type'] = 'display_data';\n",
              "          await google.colab.output.renderOutput(dataTable, element);\n",
              "          const docLink = document.createElement('div');\n",
              "          docLink.innerHTML = docLinkHtml;\n",
              "          element.appendChild(docLink);\n",
              "        }\n",
              "      </script>\n",
              "    </div>\n",
              "  </div>\n",
              "  "
            ]
          },
          "metadata": {},
          "execution_count": 4
        }
      ],
      "source": [
        "df_prueba= df.drop(['Time'], axis=1).describe().transpose()\n",
        "df_prueba"
      ]
    },
    {
      "cell_type": "code",
      "source": [
        "df_prueba=df_prueba.reset_index()"
      ],
      "metadata": {
        "id": "mXe1DUqxF65g"
      },
      "execution_count": null,
      "outputs": []
    },
    {
      "cell_type": "code",
      "source": [
        "df.columns"
      ],
      "metadata": {
        "colab": {
          "base_uri": "https://localhost:8080/"
        },
        "id": "ZVUqo0cN7OrZ",
        "outputId": "b85bdb5f-bb1d-437c-af14-a369ac907af4"
      },
      "execution_count": null,
      "outputs": [
        {
          "output_type": "execute_result",
          "data": {
            "text/plain": [
              "Index(['Time', 'V1', 'V2', 'V3', 'V4', 'V5', 'V6', 'V7', 'V8', 'V9', 'V10',\n",
              "       'V11', 'V12', 'V13', 'V14', 'V15', 'V16', 'V17', 'V18', 'V19', 'V20',\n",
              "       'V21', 'V22', 'V23', 'V24', 'V25', 'V26', 'V27', 'V28', 'Amount',\n",
              "       'Class'],\n",
              "      dtype='object')"
            ]
          },
          "metadata": {},
          "execution_count": 6
        }
      ]
    },
    {
      "cell_type": "code",
      "source": [
        "df.drop(['Time'], axis=1).mean().mean()"
      ],
      "metadata": {
        "colab": {
          "base_uri": "https://localhost:8080/"
        },
        "id": "0MEmbx1f6jBr",
        "outputId": "569825ec-ebb8-46c8-873b-943be9726233"
      },
      "execution_count": null,
      "outputs": [
        {
          "output_type": "execute_result",
          "data": {
            "text/plain": [
              "2.9450448912168077"
            ]
          },
          "metadata": {},
          "execution_count": 7
        }
      ]
    },
    {
      "cell_type": "code",
      "execution_count": null,
      "metadata": {
        "colab": {
          "base_uri": "https://localhost:8080/"
        },
        "id": "y05iIUPR4Q4j",
        "outputId": "a480373b-fc83-4a6d-8cb5-038f67b5240d"
      },
      "outputs": [
        {
          "output_type": "execute_result",
          "data": {
            "text/plain": [
              "Time      47488.145955\n",
              "V1            1.958696\n",
              "V2            1.651309\n",
              "V3            1.516255\n",
              "V4            1.415869\n",
              "V5            1.380247\n",
              "V6            1.332271\n",
              "V7            1.237094\n",
              "V8            1.194353\n",
              "V9            1.098632\n",
              "V10           1.088850\n",
              "V11           1.020713\n",
              "V12           0.999201\n",
              "V13           0.995274\n",
              "V14           0.958596\n",
              "V15           0.915316\n",
              "V16           0.876253\n",
              "V17           0.849337\n",
              "V18           0.838176\n",
              "V19           0.814041\n",
              "V20           0.770925\n",
              "V21           0.734524\n",
              "V22           0.725702\n",
              "V23           0.624460\n",
              "V24           0.605647\n",
              "V25           0.521278\n",
              "V26           0.482227\n",
              "V27           0.403632\n",
              "V28           0.330083\n",
              "Amount      250.120109\n",
              "Class         0.041527\n",
              "dtype: float64"
            ]
          },
          "metadata": {},
          "execution_count": 8
        }
      ],
      "source": [
        "#Let's see the variables with higher standard deviation\n",
        "\n",
        "df.std()"
      ]
    },
    {
      "cell_type": "code",
      "execution_count": null,
      "metadata": {
        "colab": {
          "base_uri": "https://localhost:8080/"
        },
        "id": "CSAkG8I7VIGc",
        "outputId": "e0af9433-e8a3-4370-8c3d-99fdca83e679"
      },
      "outputs": [
        {
          "output_type": "execute_result",
          "data": {
            "text/plain": [
              "False"
            ]
          },
          "metadata": {},
          "execution_count": 9
        }
      ],
      "source": [
        "#checking for NaN values\n",
        "df.isnull().values.any()"
      ]
    },
    {
      "cell_type": "code",
      "execution_count": null,
      "metadata": {
        "colab": {
          "base_uri": "https://localhost:8080/"
        },
        "id": "knOBfu7d_gPA",
        "outputId": "4e2f920c-1466-4e94-c2a1-2e7a4d6361ba"
      },
      "outputs": [
        {
          "output_type": "stream",
          "name": "stdout",
          "text": [
            "No Frauds 99.83 % of the dataset\n",
            "Frauds 0.17 % of the dataset\n"
          ]
        }
      ],
      "source": [
        "#proportions of the the class variable, calculating the percentage\n",
        "print('No Frauds', round(df['Class'].value_counts()[0]/len(df) * 100,2), '% of the dataset')\n",
        "print('Frauds', round(df['Class'].value_counts()[1]/len(df) * 100,2), '% of the dataset')"
      ]
    },
    {
      "cell_type": "code",
      "execution_count": null,
      "metadata": {
        "colab": {
          "base_uri": "https://localhost:8080/",
          "height": 385
        },
        "id": "ndZ7Y-QERjJI",
        "outputId": "80468e48-fdaa-49d4-e8d8-2665998d054b"
      },
      "outputs": [
        {
          "output_type": "stream",
          "name": "stderr",
          "text": [
            "/usr/local/lib/python3.7/dist-packages/seaborn/_decorators.py:43: FutureWarning: Pass the following variable as a keyword arg: x. From version 0.12, the only valid positional argument will be `data`, and passing other arguments without an explicit keyword will result in an error or misinterpretation.\n",
            "  FutureWarning\n"
          ]
        },
        {
          "output_type": "execute_result",
          "data": {
            "text/plain": [
              "Text(0.5, 1.0, 'Class Distributions \\n (No Fraud: 0   Fraud: 1)')"
            ]
          },
          "metadata": {},
          "execution_count": 11
        },
        {
          "output_type": "display_data",
          "data": {
            "text/plain": [
              "<Figure size 432x288 with 1 Axes>"
            ],
            "image/png": "[encoded data removed]"
          },
          "metadata": {
            "needs_background": "light"
          }
        }
      ],
      "source": [
        "#plotting how imbalanced is the target variable 'Class'\n",
        "colors = [\"#42FF33\", \"#DF0101\"]\n",
        "\n",
        "sns.countplot('Class', data=df, palette=colors)\n",
        "plt.title('Class Distributions \\n (No Fraud: 0   Fraud: 1)', fontsize=14)"
      ]
    },
    {
      "cell_type": "code",
      "execution_count": null,
      "metadata": {
        "colab": {
          "base_uri": "https://localhost:8080/"
        },
        "id": "DPqq0u64bgbv",
        "outputId": "775e4a82-98a1-4d87-f2e0-691729ddd949"
      },
      "outputs": [
        {
          "output_type": "execute_result",
          "data": {
            "text/plain": [
              "(25691.16, 0.0)"
            ]
          },
          "metadata": {},
          "execution_count": 12
        }
      ],
      "source": [
        "max(df.Amount), min(df.Amount)"
      ]
    },
    {
      "cell_type": "code",
      "execution_count": null,
      "metadata": {
        "colab": {
          "base_uri": "https://localhost:8080/"
        },
        "id": "m1ZXfSkZb0cI",
        "outputId": "e14f3cd0-02e8-47f9-e5ae-febc4d8d5a3e"
      },
      "outputs": [
        {
          "output_type": "execute_result",
          "data": {
            "text/plain": [
              "(172792.0, 0.0)"
            ]
          },
          "metadata": {},
          "execution_count": 13
        }
      ],
      "source": [
        "max(df.Time), min(df.Time)"
      ]
    },
    {
      "cell_type": "code",
      "execution_count": null,
      "metadata": {
        "colab": {
          "base_uri": "https://localhost:8080/",
          "height": 299
        },
        "id": "QTFPHVjiXP1q",
        "outputId": "90bb2f54-4096-4111-aa14-81299937d9b1"
      },
      "outputs": [
        {
          "output_type": "execute_result",
          "data": {
            "text/plain": [
              "(0.0, 172792.0)"
            ]
          },
          "metadata": {},
          "execution_count": 14
        },
        {
          "output_type": "display_data",
          "data": {
            "text/plain": [
              "<Figure size 1296x288 with 2 Axes>"
            ],
            "image/png": "[encoded data removed]"
          },
          "metadata": {
            "needs_background": "light"
          }
        }
      ],
      "source": [
        "#checking distribution of variables 'Time' and 'Amount' we observe that these variables are very biased\n",
        "#we'll be using percent stat: normalize such that bar heights sum to 100\n",
        "\n",
        "fig, ax = plt.subplots(1, 2, figsize=(18,4))\n",
        "\n",
        "amount_val = df['Amount'].values\n",
        "time_val = df['Time'].values\n",
        "\n",
        "sns.histplot(amount_val, ax=ax[0], color='r', label=\"100% Equities\", kde=True, stat=\"percent\", linewidth=1 )\n",
        "ax[0].set_title('Distribution of Transaction Amount', fontsize=14)\n",
        "ax[0].set_xlim([min(amount_val), max(amount_val)])\n",
        "\n",
        "sns.histplot(time_val, ax=ax[1], color='b', label=\"100% Equities\", kde=True, stat=\"percent\", linewidth=1)\n",
        "ax[1].set_title('Distribution of Transaction Time', fontsize=14)\n",
        "ax[1].set_xlim([min(time_val), max(time_val)])\n",
        "\n",
        "\n"
      ]
    },
    {
      "cell_type": "code",
      "execution_count": null,
      "metadata": {
        "id": "ErukHSXvWdAM"
      },
      "outputs": [],
      "source": [
        "#drop Time and Amount columns as they are too biased and not relevant for the prediction\n",
        "\n",
        "df_ml= df.drop(['Time'], axis= 1)"
      ]
    },
    {
      "cell_type": "code",
      "execution_count": null,
      "metadata": {
        "colab": {
          "base_uri": "https://localhost:8080/"
        },
        "id": "oAhi2E6mTDdD",
        "outputId": "957bff20-62e2-4e5f-f269-54b7017d651e"
      },
      "outputs": [
        {
          "output_type": "execute_result",
          "data": {
            "text/plain": [
              "Index(['V1', 'V2', 'V3', 'V4', 'V5', 'V6', 'V7', 'V8', 'V9', 'V10', 'V11',\n",
              "       'V12', 'V13', 'V14', 'V15', 'V16', 'V17', 'V18', 'V19', 'V20', 'V21',\n",
              "       'V22', 'V23', 'V24', 'V25', 'V26', 'V27', 'V28', 'Amount', 'Class'],\n",
              "      dtype='object')"
            ]
          },
          "metadata": {},
          "execution_count": 16
        }
      ],
      "source": [
        "df_ml.columns"
      ]
    },
    {
      "cell_type": "markdown",
      "metadata": {
        "id": "2TVkrNyAqjmc"
      },
      "source": [
        "#ML Models"
      ]
    },
    {
      "cell_type": "markdown",
      "source": [
        "##Test and train split"
      ],
      "metadata": {
        "id": "_wa7SuwCNTIi"
      }
    },
    {
      "cell_type": "code",
      "source": [
        "seed = 123\n",
        "test_size = 0.30 \n",
        "df_train, df_test = train_test_split(df_ml, test_size=test_size,\n",
        "                                                    random_state=seed)\n"
      ],
      "metadata": {
        "id": "yrCGx1c2vsQ5"
      },
      "execution_count": null,
      "outputs": []
    },
    {
      "cell_type": "code",
      "source": [
        "df_train"
      ],
      "metadata": {
        "colab": {
          "base_uri": "https://localhost:8080/",
          "height": 488
        },
        "id": "wdrawFkqFMK8",
        "outputId": "f49b84b3-9843-4177-c6e7-6b10b31448ee"
      },
      "execution_count": null,
      "outputs": [
        {
          "output_type": "execute_result",
          "data": {
            "text/plain": [
              "              V1        V2        V3        V4        V5        V6        V7  \\\n",
              "9057    1.223528  0.726064 -0.192303  1.315143  0.327134 -0.627426  0.103793   \n",
              "197407 -1.531257 -0.845410 -0.661207 -0.010479  2.096034 -1.582374  0.644661   \n",
              "257714  2.302551 -1.410263 -1.301974 -1.825564 -0.774062  0.000869 -1.163464   \n",
              "201302  1.809691  0.232969  0.312680  3.745688 -0.357230  0.337521 -0.547228   \n",
              "167965 -2.449361  2.602426 -2.648017  0.169754 -0.043874 -1.789616 -0.259222   \n",
              "...          ...       ...       ...       ...       ...       ...       ...   \n",
              "192476  2.085321 -1.119472 -0.260414 -0.829419 -1.373550 -0.504944 -1.224794   \n",
              "17730  -1.039001  0.950070  0.389899 -1.217401  1.855856  3.640886 -0.549604   \n",
              "28030   1.129333  0.471653  0.657500  2.454111 -0.091741 -0.089917  0.008581   \n",
              "277869  1.636784 -0.560857 -1.944589  0.405452  0.157569 -0.635650  0.315338   \n",
              "249342  1.906410 -0.531680 -1.175688  0.132728 -0.229802 -0.565090 -0.056376   \n",
              "\n",
              "              V8        V9       V10  ...       V21       V22       V23  \\\n",
              "9057   -0.166424  0.941614 -0.755328  ... -0.168107 -0.192579 -0.161883   \n",
              "197407 -0.146939  0.305072 -0.877905  ... -0.425386 -0.558420  1.625851   \n",
              "257714 -0.018924 -1.428129  1.749254  ... -0.164472 -0.037426  0.172886   \n",
              "201302  0.286964 -0.538232  1.574565  ... -0.152481 -0.534599  0.448150   \n",
              "167965  1.078845 -0.559213 -1.896160  ...  0.476948  0.868659  0.003451   \n",
              "...          ...       ...       ...  ...       ...       ...       ...   \n",
              "192476  0.027016  0.011921  0.910736  ...  0.523933  1.560949  0.059730   \n",
              "17730   1.505694 -0.559184 -0.619047  ... -0.090529 -0.491079 -0.179921   \n",
              "28030   0.060009 -0.623285  0.661338  ... -0.048241 -0.201293  0.053427   \n",
              "277869 -0.200477  0.678971 -0.775364  ... -0.100809 -0.465458 -0.063594   \n",
              "249342 -0.077301  0.978166 -0.041916  ... -0.109076 -0.261720  0.121635   \n",
              "\n",
              "             V24       V25       V26       V27       V28  Amount  Class  \n",
              "9057   -0.158105  0.687808 -0.363874  0.001551  0.030803    1.00      0  \n",
              "197407  0.490823  0.165614 -0.613079  0.388003 -0.082430    9.99      0  \n",
              "257714  0.066635 -0.104352 -0.174764 -0.003206 -0.060548   20.00      0  \n",
              "201302 -0.047445 -0.652783 -0.402664 -0.002607 -0.035744    9.99      0  \n",
              "167965 -0.202979 -0.444781 -0.232060 -1.115661 -0.025988    1.00      0  \n",
              "...          ...       ...       ...       ...       ...     ...    ...  \n",
              "192476  0.131521 -0.145999  0.012917  0.012268 -0.054809   22.49      0  \n",
              "17730   1.004741  0.317712  0.281484  0.153761  0.062423    5.99      0  \n",
              "28030   0.027638  0.321256 -0.042526  0.001532  0.021002   11.99      0  \n",
              "277869 -0.580315 -0.080220 -0.101500 -0.043508 -0.001004  203.97      0  \n",
              "249342 -0.341628 -0.102660 -0.091871 -0.045385 -0.060711   64.24      0  \n",
              "\n",
              "[199364 rows x 30 columns]"
            ],
            "text/html": [
              "\n",
              "  <div id=\"df-cfd550aa-aa29-4056-93d1-994a73a1e823\">\n",
              "    <div class=\"colab-df-container\">\n",
              "      <div>\n",
              "<style scoped>\n",
              "    .dataframe tbody tr th:only-of-type {\n",
              "        vertical-align: middle;\n",
              "    }\n",
              "\n",
              "    .dataframe tbody tr th {\n",
              "        vertical-align: top;\n",
              "    }\n",
              "\n",
              "    .dataframe thead th {\n",
              "        text-align: right;\n",
              "    }\n",
              "</style>\n",
              "<table border=\"1\" class=\"dataframe\">\n",
              "  <thead>\n",
              "    <tr style=\"text-align: right;\">\n",
              "      <th></th>\n",
              "      <th>V1</th>\n",
              "      <th>V2</th>\n",
              "      <th>V3</th>\n",
              "      <th>V4</th>\n",
              "      <th>V5</th>\n",
              "      <th>V6</th>\n",
              "      <th>V7</th>\n",
              "      <th>V8</th>\n",
              "      <th>V9</th>\n",
              "      <th>V10</th>\n",
              "      <th>...</th>\n",
              "      <th>V21</th>\n",
              "      <th>V22</th>\n",
              "      <th>V23</th>\n",
              "      <th>V24</th>\n",
              "      <th>V25</th>\n",
              "      <th>V26</th>\n",
              "      <th>V27</th>\n",
              "      <th>V28</th>\n",
              "      <th>Amount</th>\n",
              "      <th>Class</th>\n",
              "    </tr>\n",
              "  </thead>\n",
              "  <tbody>\n",
              "    <tr>\n",
              "      <th>9057</th>\n",
              "      <td>1.223528</td>\n",
              "      <td>0.726064</td>\n",
              "      <td>-0.192303</td>\n",
              "      <td>1.315143</td>\n",
              "      <td>0.327134</td>\n",
              "      <td>-0.627426</td>\n",
              "      <td>0.103793</td>\n",
              "      <td>-0.166424</td>\n",
              "      <td>0.941614</td>\n",
              "      <td>-0.755328</td>\n",
              "      <td>...</td>\n",
              "      <td>-0.168107</td>\n",
              "      <td>-0.192579</td>\n",
              "      <td>-0.161883</td>\n",
              "      <td>-0.158105</td>\n",
              "      <td>0.687808</td>\n",
              "      <td>-0.363874</td>\n",
              "      <td>0.001551</td>\n",
              "      <td>0.030803</td>\n",
              "      <td>1.00</td>\n",
              "      <td>0</td>\n",
              "    </tr>\n",
              "    <tr>\n",
              "      <th>197407</th>\n",
              "      <td>-1.531257</td>\n",
              "      <td>-0.845410</td>\n",
              "      <td>-0.661207</td>\n",
              "      <td>-0.010479</td>\n",
              "      <td>2.096034</td>\n",
              "      <td>-1.582374</td>\n",
              "      <td>0.644661</td>\n",
              "      <td>-0.146939</td>\n",
              "      <td>0.305072</td>\n",
              "      <td>-0.877905</td>\n",
              "      <td>...</td>\n",
              "      <td>-0.425386</td>\n",
              "      <td>-0.558420</td>\n",
              "      <td>1.625851</td>\n",
              "      <td>0.490823</td>\n",
              "      <td>0.165614</td>\n",
              "      <td>-0.613079</td>\n",
              "      <td>0.388003</td>\n",
              "      <td>-0.082430</td>\n",
              "      <td>9.99</td>\n",
              "      <td>0</td>\n",
              "    </tr>\n",
              "    <tr>\n",
              "      <th>257714</th>\n",
              "      <td>2.302551</td>\n",
              "      <td>-1.410263</td>\n",
              "      <td>-1.301974</td>\n",
              "      <td>-1.825564</td>\n",
              "      <td>-0.774062</td>\n",
              "      <td>0.000869</td>\n",
              "      <td>-1.163464</td>\n",
              "      <td>-0.018924</td>\n",
              "      <td>-1.428129</td>\n",
              "      <td>1.749254</td>\n",
              "      <td>...</td>\n",
              "      <td>-0.164472</td>\n",
              "      <td>-0.037426</td>\n",
              "      <td>0.172886</td>\n",
              "      <td>0.066635</td>\n",
              "      <td>-0.104352</td>\n",
              "      <td>-0.174764</td>\n",
              "      <td>-0.003206</td>\n",
              "      <td>-0.060548</td>\n",
              "      <td>20.00</td>\n",
              "      <td>0</td>\n",
              "    </tr>\n",
              "    <tr>\n",
              "      <th>201302</th>\n",
              "      <td>1.809691</td>\n",
              "      <td>0.232969</td>\n",
              "      <td>0.312680</td>\n",
              "      <td>3.745688</td>\n",
              "      <td>-0.357230</td>\n",
              "      <td>0.337521</td>\n",
              "      <td>-0.547228</td>\n",
              "      <td>0.286964</td>\n",
              "      <td>-0.538232</td>\n",
              "      <td>1.574565</td>\n",
              "      <td>...</td>\n",
              "      <td>-0.152481</td>\n",
              "      <td>-0.534599</td>\n",
              "      <td>0.448150</td>\n",
              "      <td>-0.047445</td>\n",
              "      <td>-0.652783</td>\n",
              "      <td>-0.402664</td>\n",
              "      <td>-0.002607</td>\n",
              "      <td>-0.035744</td>\n",
              "      <td>9.99</td>\n",
              "      <td>0</td>\n",
              "    </tr>\n",
              "    <tr>\n",
              "      <th>167965</th>\n",
              "      <td>-2.449361</td>\n",
              "      <td>2.602426</td>\n",
              "      <td>-2.648017</td>\n",
              "      <td>0.169754</td>\n",
              "      <td>-0.043874</td>\n",
              "      <td>-1.789616</td>\n",
              "      <td>-0.259222</td>\n",
              "      <td>1.078845</td>\n",
              "      <td>-0.559213</td>\n",
              "      <td>-1.896160</td>\n",
              "      <td>...</td>\n",
              "      <td>0.476948</td>\n",
              "      <td>0.868659</td>\n",
              "      <td>0.003451</td>\n",
              "      <td>-0.202979</td>\n",
              "      <td>-0.444781</td>\n",
              "      <td>-0.232060</td>\n",
              "      <td>-1.115661</td>\n",
              "      <td>-0.025988</td>\n",
              "      <td>1.00</td>\n",
              "      <td>0</td>\n",
              "    </tr>\n",
              "    <tr>\n",
              "      <th>...</th>\n",
              "      <td>...</td>\n",
              "      <td>...</td>\n",
              "      <td>...</td>\n",
              "      <td>...</td>\n",
              "      <td>...</td>\n",
              "      <td>...</td>\n",
              "      <td>...</td>\n",
              "      <td>...</td>\n",
              "      <td>...</td>\n",
              "      <td>...</td>\n",
              "      <td>...</td>\n",
              "      <td>...</td>\n",
              "      <td>...</td>\n",
              "      <td>...</td>\n",
              "      <td>...</td>\n",
              "      <td>...</td>\n",
              "      <td>...</td>\n",
              "      <td>...</td>\n",
              "      <td>...</td>\n",
              "      <td>...</td>\n",
              "      <td>...</td>\n",
              "    </tr>\n",
              "    <tr>\n",
              "      <th>192476</th>\n",
              "      <td>2.085321</td>\n",
              "      <td>-1.119472</td>\n",
              "      <td>-0.260414</td>\n",
              "      <td>-0.829419</td>\n",
              "      <td>-1.373550</td>\n",
              "      <td>-0.504944</td>\n",
              "      <td>-1.224794</td>\n",
              "      <td>0.027016</td>\n",
              "      <td>0.011921</td>\n",
              "      <td>0.910736</td>\n",
              "      <td>...</td>\n",
              "      <td>0.523933</td>\n",
              "      <td>1.560949</td>\n",
              "      <td>0.059730</td>\n",
              "      <td>0.131521</td>\n",
              "      <td>-0.145999</td>\n",
              "      <td>0.012917</td>\n",
              "      <td>0.012268</td>\n",
              "      <td>-0.054809</td>\n",
              "      <td>22.49</td>\n",
              "      <td>0</td>\n",
              "    </tr>\n",
              "    <tr>\n",
              "      <th>17730</th>\n",
              "      <td>-1.039001</td>\n",
              "      <td>0.950070</td>\n",
              "      <td>0.389899</td>\n",
              "      <td>-1.217401</td>\n",
              "      <td>1.855856</td>\n",
              "      <td>3.640886</td>\n",
              "      <td>-0.549604</td>\n",
              "      <td>1.505694</td>\n",
              "      <td>-0.559184</td>\n",
              "      <td>-0.619047</td>\n",
              "      <td>...</td>\n",
              "      <td>-0.090529</td>\n",
              "      <td>-0.491079</td>\n",
              "      <td>-0.179921</td>\n",
              "      <td>1.004741</td>\n",
              "      <td>0.317712</td>\n",
              "      <td>0.281484</td>\n",
              "      <td>0.153761</td>\n",
              "      <td>0.062423</td>\n",
              "      <td>5.99</td>\n",
              "      <td>0</td>\n",
              "    </tr>\n",
              "    <tr>\n",
              "      <th>28030</th>\n",
              "      <td>1.129333</td>\n",
              "      <td>0.471653</td>\n",
              "      <td>0.657500</td>\n",
              "      <td>2.454111</td>\n",
              "      <td>-0.091741</td>\n",
              "      <td>-0.089917</td>\n",
              "      <td>0.008581</td>\n",
              "      <td>0.060009</td>\n",
              "      <td>-0.623285</td>\n",
              "      <td>0.661338</td>\n",
              "      <td>...</td>\n",
              "      <td>-0.048241</td>\n",
              "      <td>-0.201293</td>\n",
              "      <td>0.053427</td>\n",
              "      <td>0.027638</td>\n",
              "      <td>0.321256</td>\n",
              "      <td>-0.042526</td>\n",
              "      <td>0.001532</td>\n",
              "      <td>0.021002</td>\n",
              "      <td>11.99</td>\n",
              "      <td>0</td>\n",
              "    </tr>\n",
              "    <tr>\n",
              "      <th>277869</th>\n",
              "      <td>1.636784</td>\n",
              "      <td>-0.560857</td>\n",
              "      <td>-1.944589</td>\n",
              "      <td>0.405452</td>\n",
              "      <td>0.157569</td>\n",
              "      <td>-0.635650</td>\n",
              "      <td>0.315338</td>\n",
              "      <td>-0.200477</td>\n",
              "      <td>0.678971</td>\n",
              "      <td>-0.775364</td>\n",
              "      <td>...</td>\n",
              "      <td>-0.100809</td>\n",
              "      <td>-0.465458</td>\n",
              "      <td>-0.063594</td>\n",
              "      <td>-0.580315</td>\n",
              "      <td>-0.080220</td>\n",
              "      <td>-0.101500</td>\n",
              "      <td>-0.043508</td>\n",
              "      <td>-0.001004</td>\n",
              "      <td>203.97</td>\n",
              "      <td>0</td>\n",
              "    </tr>\n",
              "    <tr>\n",
              "      <th>249342</th>\n",
              "      <td>1.906410</td>\n",
              "      <td>-0.531680</td>\n",
              "      <td>-1.175688</td>\n",
              "      <td>0.132728</td>\n",
              "      <td>-0.229802</td>\n",
              "      <td>-0.565090</td>\n",
              "      <td>-0.056376</td>\n",
              "      <td>-0.077301</td>\n",
              "      <td>0.978166</td>\n",
              "      <td>-0.041916</td>\n",
              "      <td>...</td>\n",
              "      <td>-0.109076</td>\n",
              "      <td>-0.261720</td>\n",
              "      <td>0.121635</td>\n",
              "      <td>-0.341628</td>\n",
              "      <td>-0.102660</td>\n",
              "      <td>-0.091871</td>\n",
              "      <td>-0.045385</td>\n",
              "      <td>-0.060711</td>\n",
              "      <td>64.24</td>\n",
              "      <td>0</td>\n",
              "    </tr>\n",
              "  </tbody>\n",
              "</table>\n",
              "<p>199364 rows × 30 columns</p>\n",
              "</div>\n",
              "      <button class=\"colab-df-convert\" onclick=\"convertToInteractive('df-cfd550aa-aa29-4056-93d1-994a73a1e823')\"\n",
              "              title=\"Convert this dataframe to an interactive table.\"\n",
              "              style=\"display:none;\">\n",
              "        \n",
              "  <svg xmlns=\"http://www.w3.org/2000/svg\" height=\"24px\"viewBox=\"0 0 24 24\"\n",
              "       width=\"24px\">\n",
              "    <path d=\"M0 0h24v24H0V0z\" fill=\"none\"/>\n",
              "    <path d=\"M18.56 5.44l.94 2.06.94-2.06 2.06-.94-2.06-.94-.94-2.06-.94 2.06-2.06.94zm-11 1L8.5 8.5l.94-2.06 2.06-.94-2.06-.94L8.5 2.5l-.94 2.06-2.06.94zm10 10l.94 2.06.94-2.06 2.06-.94-2.06-.94-.94-2.06-.94 2.06-2.06.94z\"/><path d=\"M17.41 7.96l-1.37-1.37c-.4-.4-.92-.59-1.43-.59-.52 0-1.04.2-1.43.59L10.3 9.45l-7.72 7.72c-.78.78-.78 2.05 0 2.83L4 21.41c.39.39.9.59 1.41.59.51 0 1.02-.2 1.41-.59l7.78-7.78 2.81-2.81c.8-.78.8-2.07 0-2.86zM5.41 20L4 18.59l7.72-7.72 1.47 1.35L5.41 20z\"/>\n",
              "  </svg>\n",
              "      </button>\n",
              "      \n",
              "  <style>\n",
              "    .colab-df-container {\n",
              "      display:flex;\n",
              "      flex-wrap:wrap;\n",
              "      gap: 12px;\n",
              "    }\n",
              "\n",
              "    .colab-df-convert {\n",
              "      background-color: #E8F0FE;\n",
              "      border: none;\n",
              "      border-radius: 50%;\n",
              "      cursor: pointer;\n",
              "      display: none;\n",
              "      fill: #1967D2;\n",
              "      height: 32px;\n",
              "      padding: 0 0 0 0;\n",
              "      width: 32px;\n",
              "    }\n",
              "\n",
              "    .colab-df-convert:hover {\n",
              "      background-color: #E2EBFA;\n",
              "      box-shadow: 0px 1px 2px rgba(60, 64, 67, 0.3), 0px 1px 3px 1px rgba(60, 64, 67, 0.15);\n",
              "      fill: #174EA6;\n",
              "    }\n",
              "\n",
              "    [theme=dark] .colab-df-convert {\n",
              "      background-color: #3B4455;\n",
              "      fill: #D2E3FC;\n",
              "    }\n",
              "\n",
              "    [theme=dark] .colab-df-convert:hover {\n",
              "      background-color: #434B5C;\n",
              "      box-shadow: 0px 1px 3px 1px rgba(0, 0, 0, 0.15);\n",
              "      filter: drop-shadow(0px 1px 2px rgba(0, 0, 0, 0.3));\n",
              "      fill: #FFFFFF;\n",
              "    }\n",
              "  </style>\n",
              "\n",
              "      <script>\n",
              "        const buttonEl =\n",
              "          document.querySelector('#df-cfd550aa-aa29-4056-93d1-994a73a1e823 button.colab-df-convert');\n",
              "        buttonEl.style.display =\n",
              "          google.colab.kernel.accessAllowed ? 'block' : 'none';\n",
              "\n",
              "        async function convertToInteractive(key) {\n",
              "          const element = document.querySelector('#df-cfd550aa-aa29-4056-93d1-994a73a1e823');\n",
              "          const dataTable =\n",
              "            await google.colab.kernel.invokeFunction('convertToInteractive',\n",
              "                                                     [key], {});\n",
              "          if (!dataTable) return;\n",
              "\n",
              "          const docLinkHtml = 'Like what you see? Visit the ' +\n",
              "            '<a target=\"_blank\" href=https://colab.research.google.com/notebooks/data_table.ipynb>data table notebook</a>'\n",
              "            + ' to learn more about interactive tables.';\n",
              "          element.innerHTML = '';\n",
              "          dataTable['output_type'] = 'display_data';\n",
              "          await google.colab.output.renderOutput(dataTable, element);\n",
              "          const docLink = document.createElement('div');\n",
              "          docLink.innerHTML = docLinkHtml;\n",
              "          element.appendChild(docLink);\n",
              "        }\n",
              "      </script>\n",
              "    </div>\n",
              "  </div>\n",
              "  "
            ]
          },
          "metadata": {},
          "execution_count": 18
        }
      ]
    },
    {
      "cell_type": "code",
      "source": [
        "#normalise the amount column\n",
        "from sklearn.preprocessing import StandardScaler\n",
        "scale= StandardScaler()\n",
        "scale.fit(df_train[['Amount']])\n",
        "df_train['Amount'] = scale.transform(df_train[['Amount']])\n",
        "df_test['Amount'] = scale.transform(df_test[['Amount']])\n",
        "#df['NormAmount'] = scale.fit_transform(np.array(df['Amount']).reshape(-1, 1))"
      ],
      "metadata": {
        "id": "1zqiRPGcvkL0"
      },
      "execution_count": null,
      "outputs": []
    },
    {
      "cell_type": "code",
      "source": [
        "X_train= df_train.drop('Class', axis= 1) \n",
        "X_test= df_test.drop('Class', axis= 1) \n",
        "y_train= df_train['Class']\n",
        "y_test= df_test['Class']\n"
      ],
      "metadata": {
        "id": "0FrvIBPBwnlo"
      },
      "execution_count": null,
      "outputs": []
    },
    {
      "cell_type": "code",
      "source": [
        "X_train"
      ],
      "metadata": {
        "colab": {
          "base_uri": "https://localhost:8080/",
          "height": 488
        },
        "id": "d9gOxOU5GLqK",
        "outputId": "227ef27f-eb5d-44ba-cf0a-cb13000fd916"
      },
      "execution_count": null,
      "outputs": [
        {
          "output_type": "execute_result",
          "data": {
            "text/plain": [
              "              V1        V2        V3        V4        V5        V6        V7  \\\n",
              "9057    1.223528  0.726064 -0.192303  1.315143  0.327134 -0.627426  0.103793   \n",
              "197407 -1.531257 -0.845410 -0.661207 -0.010479  2.096034 -1.582374  0.644661   \n",
              "257714  2.302551 -1.410263 -1.301974 -1.825564 -0.774062  0.000869 -1.163464   \n",
              "201302  1.809691  0.232969  0.312680  3.745688 -0.357230  0.337521 -0.547228   \n",
              "167965 -2.449361  2.602426 -2.648017  0.169754 -0.043874 -1.789616 -0.259222   \n",
              "...          ...       ...       ...       ...       ...       ...       ...   \n",
              "192476  2.085321 -1.119472 -0.260414 -0.829419 -1.373550 -0.504944 -1.224794   \n",
              "17730  -1.039001  0.950070  0.389899 -1.217401  1.855856  3.640886 -0.549604   \n",
              "28030   1.129333  0.471653  0.657500  2.454111 -0.091741 -0.089917  0.008581   \n",
              "277869  1.636784 -0.560857 -1.944589  0.405452  0.157569 -0.635650  0.315338   \n",
              "249342  1.906410 -0.531680 -1.175688  0.132728 -0.229802 -0.565090 -0.056376   \n",
              "\n",
              "              V8        V9       V10  ...       V20       V21       V22  \\\n",
              "9057   -0.166424  0.941614 -0.755328  ... -0.117242 -0.168107 -0.192579   \n",
              "197407 -0.146939  0.305072 -0.877905  ... -0.256196 -0.425386 -0.558420   \n",
              "257714 -0.018924 -1.428129  1.749254  ... -0.390696 -0.164472 -0.037426   \n",
              "201302  0.286964 -0.538232  1.574565  ... -0.340672 -0.152481 -0.534599   \n",
              "167965  1.078845 -0.559213 -1.896160  ... -0.729064  0.476948  0.868659   \n",
              "...          ...       ...       ...  ...       ...       ...       ...   \n",
              "192476  0.027016  0.011921  0.910736  ... -0.011516  0.523933  1.560949   \n",
              "17730   1.505694 -0.559184 -0.619047  ...  0.177503 -0.090529 -0.491079   \n",
              "28030   0.060009 -0.623285  0.661338  ... -0.212507 -0.048241 -0.201293   \n",
              "277869 -0.200477  0.678971 -0.775364  ...  0.276758 -0.100809 -0.465458   \n",
              "249342 -0.077301  0.978166 -0.041916  ... -0.156293 -0.109076 -0.261720   \n",
              "\n",
              "             V23       V24       V25       V26       V27       V28    Amount  \n",
              "9057   -0.161883 -0.158105  0.687808 -0.363874  0.001551  0.030803 -0.350266  \n",
              "197407  1.625851  0.490823  0.165614 -0.613079  0.388003 -0.082430 -0.314286  \n",
              "257714  0.172886  0.066635 -0.104352 -0.174764 -0.003206 -0.060548 -0.274222  \n",
              "201302  0.448150 -0.047445 -0.652783 -0.402664 -0.002607 -0.035744 -0.314286  \n",
              "167965  0.003451 -0.202979 -0.444781 -0.232060 -1.115661 -0.025988 -0.350266  \n",
              "...          ...       ...       ...       ...       ...       ...       ...  \n",
              "192476  0.059730  0.131521 -0.145999  0.012917  0.012268 -0.054809 -0.264256  \n",
              "17730  -0.179921  1.004741  0.317712  0.281484  0.153761  0.062423 -0.330295  \n",
              "28030   0.053427  0.027638  0.321256 -0.042526  0.001532  0.021002 -0.306281  \n",
              "277869 -0.063594 -0.580315 -0.080220 -0.101500 -0.043508 -0.001004  0.462086  \n",
              "249342  0.121635 -0.341628 -0.102660 -0.091871 -0.045385 -0.060711 -0.097159  \n",
              "\n",
              "[199364 rows x 29 columns]"
            ],
            "text/html": [
              "\n",
              "  <div id=\"df-0197d22c-b374-470b-ab55-e37ff8be5b6a\">\n",
              "    <div class=\"colab-df-container\">\n",
              "      <div>\n",
              "<style scoped>\n",
              "    .dataframe tbody tr th:only-of-type {\n",
              "        vertical-align: middle;\n",
              "    }\n",
              "\n",
              "    .dataframe tbody tr th {\n",
              "        vertical-align: top;\n",
              "    }\n",
              "\n",
              "    .dataframe thead th {\n",
              "        text-align: right;\n",
              "    }\n",
              "</style>\n",
              "<table border=\"1\" class=\"dataframe\">\n",
              "  <thead>\n",
              "    <tr style=\"text-align: right;\">\n",
              "      <th></th>\n",
              "      <th>V1</th>\n",
              "      <th>V2</th>\n",
              "      <th>V3</th>\n",
              "      <th>V4</th>\n",
              "      <th>V5</th>\n",
              "      <th>V6</th>\n",
              "      <th>V7</th>\n",
              "      <th>V8</th>\n",
              "      <th>V9</th>\n",
              "      <th>V10</th>\n",
              "      <th>...</th>\n",
              "      <th>V20</th>\n",
              "      <th>V21</th>\n",
              "      <th>V22</th>\n",
              "      <th>V23</th>\n",
              "      <th>V24</th>\n",
              "      <th>V25</th>\n",
              "      <th>V26</th>\n",
              "      <th>V27</th>\n",
              "      <th>V28</th>\n",
              "      <th>Amount</th>\n",
              "    </tr>\n",
              "  </thead>\n",
              "  <tbody>\n",
              "    <tr>\n",
              "      <th>9057</th>\n",
              "      <td>1.223528</td>\n",
              "      <td>0.726064</td>\n",
              "      <td>-0.192303</td>\n",
              "      <td>1.315143</td>\n",
              "      <td>0.327134</td>\n",
              "      <td>-0.627426</td>\n",
              "      <td>0.103793</td>\n",
              "      <td>-0.166424</td>\n",
              "      <td>0.941614</td>\n",
              "      <td>-0.755328</td>\n",
              "      <td>...</td>\n",
              "      <td>-0.117242</td>\n",
              "      <td>-0.168107</td>\n",
              "      <td>-0.192579</td>\n",
              "      <td>-0.161883</td>\n",
              "      <td>-0.158105</td>\n",
              "      <td>0.687808</td>\n",
              "      <td>-0.363874</td>\n",
              "      <td>0.001551</td>\n",
              "      <td>0.030803</td>\n",
              "      <td>-0.350266</td>\n",
              "    </tr>\n",
              "    <tr>\n",
              "      <th>197407</th>\n",
              "      <td>-1.531257</td>\n",
              "      <td>-0.845410</td>\n",
              "      <td>-0.661207</td>\n",
              "      <td>-0.010479</td>\n",
              "      <td>2.096034</td>\n",
              "      <td>-1.582374</td>\n",
              "      <td>0.644661</td>\n",
              "      <td>-0.146939</td>\n",
              "      <td>0.305072</td>\n",
              "      <td>-0.877905</td>\n",
              "      <td>...</td>\n",
              "      <td>-0.256196</td>\n",
              "      <td>-0.425386</td>\n",
              "      <td>-0.558420</td>\n",
              "      <td>1.625851</td>\n",
              "      <td>0.490823</td>\n",
              "      <td>0.165614</td>\n",
              "      <td>-0.613079</td>\n",
              "      <td>0.388003</td>\n",
              "      <td>-0.082430</td>\n",
              "      <td>-0.314286</td>\n",
              "    </tr>\n",
              "    <tr>\n",
              "      <th>257714</th>\n",
              "      <td>2.302551</td>\n",
              "      <td>-1.410263</td>\n",
              "      <td>-1.301974</td>\n",
              "      <td>-1.825564</td>\n",
              "      <td>-0.774062</td>\n",
              "      <td>0.000869</td>\n",
              "      <td>-1.163464</td>\n",
              "      <td>-0.018924</td>\n",
              "      <td>-1.428129</td>\n",
              "      <td>1.749254</td>\n",
              "      <td>...</td>\n",
              "      <td>-0.390696</td>\n",
              "      <td>-0.164472</td>\n",
              "      <td>-0.037426</td>\n",
              "      <td>0.172886</td>\n",
              "      <td>0.066635</td>\n",
              "      <td>-0.104352</td>\n",
              "      <td>-0.174764</td>\n",
              "      <td>-0.003206</td>\n",
              "      <td>-0.060548</td>\n",
              "      <td>-0.274222</td>\n",
              "    </tr>\n",
              "    <tr>\n",
              "      <th>201302</th>\n",
              "      <td>1.809691</td>\n",
              "      <td>0.232969</td>\n",
              "      <td>0.312680</td>\n",
              "      <td>3.745688</td>\n",
              "      <td>-0.357230</td>\n",
              "      <td>0.337521</td>\n",
              "      <td>-0.547228</td>\n",
              "      <td>0.286964</td>\n",
              "      <td>-0.538232</td>\n",
              "      <td>1.574565</td>\n",
              "      <td>...</td>\n",
              "      <td>-0.340672</td>\n",
              "      <td>-0.152481</td>\n",
              "      <td>-0.534599</td>\n",
              "      <td>0.448150</td>\n",
              "      <td>-0.047445</td>\n",
              "      <td>-0.652783</td>\n",
              "      <td>-0.402664</td>\n",
              "      <td>-0.002607</td>\n",
              "      <td>-0.035744</td>\n",
              "      <td>-0.314286</td>\n",
              "    </tr>\n",
              "    <tr>\n",
              "      <th>167965</th>\n",
              "      <td>-2.449361</td>\n",
              "      <td>2.602426</td>\n",
              "      <td>-2.648017</td>\n",
              "      <td>0.169754</td>\n",
              "      <td>-0.043874</td>\n",
              "      <td>-1.789616</td>\n",
              "      <td>-0.259222</td>\n",
              "      <td>1.078845</td>\n",
              "      <td>-0.559213</td>\n",
              "      <td>-1.896160</td>\n",
              "      <td>...</td>\n",
              "      <td>-0.729064</td>\n",
              "      <td>0.476948</td>\n",
              "      <td>0.868659</td>\n",
              "      <td>0.003451</td>\n",
              "      <td>-0.202979</td>\n",
              "      <td>-0.444781</td>\n",
              "      <td>-0.232060</td>\n",
              "      <td>-1.115661</td>\n",
              "      <td>-0.025988</td>\n",
              "      <td>-0.350266</td>\n",
              "    </tr>\n",
              "    <tr>\n",
              "      <th>...</th>\n",
              "      <td>...</td>\n",
              "      <td>...</td>\n",
              "      <td>...</td>\n",
              "      <td>...</td>\n",
              "      <td>...</td>\n",
              "      <td>...</td>\n",
              "      <td>...</td>\n",
              "      <td>...</td>\n",
              "      <td>...</td>\n",
              "      <td>...</td>\n",
              "      <td>...</td>\n",
              "      <td>...</td>\n",
              "      <td>...</td>\n",
              "      <td>...</td>\n",
              "      <td>...</td>\n",
              "      <td>...</td>\n",
              "      <td>...</td>\n",
              "      <td>...</td>\n",
              "      <td>...</td>\n",
              "      <td>...</td>\n",
              "      <td>...</td>\n",
              "    </tr>\n",
              "    <tr>\n",
              "      <th>192476</th>\n",
              "      <td>2.085321</td>\n",
              "      <td>-1.119472</td>\n",
              "      <td>-0.260414</td>\n",
              "      <td>-0.829419</td>\n",
              "      <td>-1.373550</td>\n",
              "      <td>-0.504944</td>\n",
              "      <td>-1.224794</td>\n",
              "      <td>0.027016</td>\n",
              "      <td>0.011921</td>\n",
              "      <td>0.910736</td>\n",
              "      <td>...</td>\n",
              "      <td>-0.011516</td>\n",
              "      <td>0.523933</td>\n",
              "      <td>1.560949</td>\n",
              "      <td>0.059730</td>\n",
              "      <td>0.131521</td>\n",
              "      <td>-0.145999</td>\n",
              "      <td>0.012917</td>\n",
              "      <td>0.012268</td>\n",
              "      <td>-0.054809</td>\n",
              "      <td>-0.264256</td>\n",
              "    </tr>\n",
              "    <tr>\n",
              "      <th>17730</th>\n",
              "      <td>-1.039001</td>\n",
              "      <td>0.950070</td>\n",
              "      <td>0.389899</td>\n",
              "      <td>-1.217401</td>\n",
              "      <td>1.855856</td>\n",
              "      <td>3.640886</td>\n",
              "      <td>-0.549604</td>\n",
              "      <td>1.505694</td>\n",
              "      <td>-0.559184</td>\n",
              "      <td>-0.619047</td>\n",
              "      <td>...</td>\n",
              "      <td>0.177503</td>\n",
              "      <td>-0.090529</td>\n",
              "      <td>-0.491079</td>\n",
              "      <td>-0.179921</td>\n",
              "      <td>1.004741</td>\n",
              "      <td>0.317712</td>\n",
              "      <td>0.281484</td>\n",
              "      <td>0.153761</td>\n",
              "      <td>0.062423</td>\n",
              "      <td>-0.330295</td>\n",
              "    </tr>\n",
              "    <tr>\n",
              "      <th>28030</th>\n",
              "      <td>1.129333</td>\n",
              "      <td>0.471653</td>\n",
              "      <td>0.657500</td>\n",
              "      <td>2.454111</td>\n",
              "      <td>-0.091741</td>\n",
              "      <td>-0.089917</td>\n",
              "      <td>0.008581</td>\n",
              "      <td>0.060009</td>\n",
              "      <td>-0.623285</td>\n",
              "      <td>0.661338</td>\n",
              "      <td>...</td>\n",
              "      <td>-0.212507</td>\n",
              "      <td>-0.048241</td>\n",
              "      <td>-0.201293</td>\n",
              "      <td>0.053427</td>\n",
              "      <td>0.027638</td>\n",
              "      <td>0.321256</td>\n",
              "      <td>-0.042526</td>\n",
              "      <td>0.001532</td>\n",
              "      <td>0.021002</td>\n",
              "      <td>-0.306281</td>\n",
              "    </tr>\n",
              "    <tr>\n",
              "      <th>277869</th>\n",
              "      <td>1.636784</td>\n",
              "      <td>-0.560857</td>\n",
              "      <td>-1.944589</td>\n",
              "      <td>0.405452</td>\n",
              "      <td>0.157569</td>\n",
              "      <td>-0.635650</td>\n",
              "      <td>0.315338</td>\n",
              "      <td>-0.200477</td>\n",
              "      <td>0.678971</td>\n",
              "      <td>-0.775364</td>\n",
              "      <td>...</td>\n",
              "      <td>0.276758</td>\n",
              "      <td>-0.100809</td>\n",
              "      <td>-0.465458</td>\n",
              "      <td>-0.063594</td>\n",
              "      <td>-0.580315</td>\n",
              "      <td>-0.080220</td>\n",
              "      <td>-0.101500</td>\n",
              "      <td>-0.043508</td>\n",
              "      <td>-0.001004</td>\n",
              "      <td>0.462086</td>\n",
              "    </tr>\n",
              "    <tr>\n",
              "      <th>249342</th>\n",
              "      <td>1.906410</td>\n",
              "      <td>-0.531680</td>\n",
              "      <td>-1.175688</td>\n",
              "      <td>0.132728</td>\n",
              "      <td>-0.229802</td>\n",
              "      <td>-0.565090</td>\n",
              "      <td>-0.056376</td>\n",
              "      <td>-0.077301</td>\n",
              "      <td>0.978166</td>\n",
              "      <td>-0.041916</td>\n",
              "      <td>...</td>\n",
              "      <td>-0.156293</td>\n",
              "      <td>-0.109076</td>\n",
              "      <td>-0.261720</td>\n",
              "      <td>0.121635</td>\n",
              "      <td>-0.341628</td>\n",
              "      <td>-0.102660</td>\n",
              "      <td>-0.091871</td>\n",
              "      <td>-0.045385</td>\n",
              "      <td>-0.060711</td>\n",
              "      <td>-0.097159</td>\n",
              "    </tr>\n",
              "  </tbody>\n",
              "</table>\n",
              "<p>199364 rows × 29 columns</p>\n",
              "</div>\n",
              "      <button class=\"colab-df-convert\" onclick=\"convertToInteractive('df-0197d22c-b374-470b-ab55-e37ff8be5b6a')\"\n",
              "              title=\"Convert this dataframe to an interactive table.\"\n",
              "              style=\"display:none;\">\n",
              "        \n",
              "  <svg xmlns=\"http://www.w3.org/2000/svg\" height=\"24px\"viewBox=\"0 0 24 24\"\n",
              "       width=\"24px\">\n",
              "    <path d=\"M0 0h24v24H0V0z\" fill=\"none\"/>\n",
              "    <path d=\"M18.56 5.44l.94 2.06.94-2.06 2.06-.94-2.06-.94-.94-2.06-.94 2.06-2.06.94zm-11 1L8.5 8.5l.94-2.06 2.06-.94-2.06-.94L8.5 2.5l-.94 2.06-2.06.94zm10 10l.94 2.06.94-2.06 2.06-.94-2.06-.94-.94-2.06-.94 2.06-2.06.94z\"/><path d=\"M17.41 7.96l-1.37-1.37c-.4-.4-.92-.59-1.43-.59-.52 0-1.04.2-1.43.59L10.3 9.45l-7.72 7.72c-.78.78-.78 2.05 0 2.83L4 21.41c.39.39.9.59 1.41.59.51 0 1.02-.2 1.41-.59l7.78-7.78 2.81-2.81c.8-.78.8-2.07 0-2.86zM5.41 20L4 18.59l7.72-7.72 1.47 1.35L5.41 20z\"/>\n",
              "  </svg>\n",
              "      </button>\n",
              "      \n",
              "  <style>\n",
              "    .colab-df-container {\n",
              "      display:flex;\n",
              "      flex-wrap:wrap;\n",
              "      gap: 12px;\n",
              "    }\n",
              "\n",
              "    .colab-df-convert {\n",
              "      background-color: #E8F0FE;\n",
              "      border: none;\n",
              "      border-radius: 50%;\n",
              "      cursor: pointer;\n",
              "      display: none;\n",
              "      fill: #1967D2;\n",
              "      height: 32px;\n",
              "      padding: 0 0 0 0;\n",
              "      width: 32px;\n",
              "    }\n",
              "\n",
              "    .colab-df-convert:hover {\n",
              "      background-color: #E2EBFA;\n",
              "      box-shadow: 0px 1px 2px rgba(60, 64, 67, 0.3), 0px 1px 3px 1px rgba(60, 64, 67, 0.15);\n",
              "      fill: #174EA6;\n",
              "    }\n",
              "\n",
              "    [theme=dark] .colab-df-convert {\n",
              "      background-color: #3B4455;\n",
              "      fill: #D2E3FC;\n",
              "    }\n",
              "\n",
              "    [theme=dark] .colab-df-convert:hover {\n",
              "      background-color: #434B5C;\n",
              "      box-shadow: 0px 1px 3px 1px rgba(0, 0, 0, 0.15);\n",
              "      filter: drop-shadow(0px 1px 2px rgba(0, 0, 0, 0.3));\n",
              "      fill: #FFFFFF;\n",
              "    }\n",
              "  </style>\n",
              "\n",
              "      <script>\n",
              "        const buttonEl =\n",
              "          document.querySelector('#df-0197d22c-b374-470b-ab55-e37ff8be5b6a button.colab-df-convert');\n",
              "        buttonEl.style.display =\n",
              "          google.colab.kernel.accessAllowed ? 'block' : 'none';\n",
              "\n",
              "        async function convertToInteractive(key) {\n",
              "          const element = document.querySelector('#df-0197d22c-b374-470b-ab55-e37ff8be5b6a');\n",
              "          const dataTable =\n",
              "            await google.colab.kernel.invokeFunction('convertToInteractive',\n",
              "                                                     [key], {});\n",
              "          if (!dataTable) return;\n",
              "\n",
              "          const docLinkHtml = 'Like what you see? Visit the ' +\n",
              "            '<a target=\"_blank\" href=https://colab.research.google.com/notebooks/data_table.ipynb>data table notebook</a>'\n",
              "            + ' to learn more about interactive tables.';\n",
              "          element.innerHTML = '';\n",
              "          dataTable['output_type'] = 'display_data';\n",
              "          await google.colab.output.renderOutput(dataTable, element);\n",
              "          const docLink = document.createElement('div');\n",
              "          docLink.innerHTML = docLinkHtml;\n",
              "          element.appendChild(docLink);\n",
              "        }\n",
              "      </script>\n",
              "    </div>\n",
              "  </div>\n",
              "  "
            ]
          },
          "metadata": {},
          "execution_count": 21
        }
      ]
    },
    {
      "cell_type": "code",
      "source": [
        "\n"
      ],
      "metadata": {
        "id": "25vbPoAGGKNT"
      },
      "execution_count": null,
      "outputs": []
    },
    {
      "cell_type": "markdown",
      "source": [
        "## Functions\n"
      ],
      "metadata": {
        "id": "LBUrplX9KSxv"
      }
    },
    {
      "cell_type": "code",
      "execution_count": null,
      "metadata": {
        "id": "yHUMQnTpxzNF"
      },
      "outputs": [],
      "source": [
        "##----------------------------------------\n",
        "# Compute metrics\n",
        "\n",
        "def compute_metrics(model, X_test, y_test, y_pred):\n",
        "  y_pred_proba = model.predict_proba(X_test)[:, 1] #applying predict_proba on classfication problem is giving a list of 2 outputs for each observation(row, probs for 0 and probs for 1)\n",
        "  [fpr, tpr, thr] = metrics.roc_curve(y_test, y_pred_proba)\n",
        "\n",
        "  mcm = metrics.confusion_matrix(y_test, y_pred)\n",
        "  tn = mcm[0, 0]\n",
        "  tp = mcm[1, 1]\n",
        "  fn = mcm[1, 0]\n",
        "  fp = mcm[0, 1]\n",
        "\n",
        "  Accuracy = metrics.accuracy_score(y_test, y_pred)\n",
        "  Recall = metrics.recall_score(y_test, y_pred)\n",
        "  Specificity = tn / (tn + fp)\n",
        "  Precision = tp/(tp+fp)\n",
        "  f1_score = 2*((Precision*Recall)/(Precision+Recall))\n",
        "  AUC= metrics.auc(fpr, tpr)\n",
        "\n",
        "  print(model.__class__.__name__+\" Accuracy is %2.3f\" % Accuracy)\n",
        "  print(model.__class__.__name__+\" AUC is %2.3f\" % AUC)\n",
        "  print(model.__class__.__name__+\" Sensitivity-Recall is %2.3f\" % Recall)\n",
        "  print(model.__class__.__name__+\" Specificity is %2.3f\" % Specificity) \n",
        "  print(model.__class__.__name__+\" f1_score is %2.3f\" % f1_score)\n",
        "  # print classification report\n",
        "  print(classification_report(y_test, y_pred))\n",
        "\n",
        "  cm = confusion_matrix(y_test, y_pred, labels=model.classes_)\n",
        "  disp = ConfusionMatrixDisplay(confusion_matrix=cm, display_labels=model.classes_)\n",
        "  disp.plot()"
      ]
    },
    {
      "cell_type": "code",
      "execution_count": null,
      "metadata": {
        "id": "CuC4FSPNDWxb"
      },
      "outputs": [],
      "source": [
        "#...............................................\n",
        "#Plot ROC curve\n",
        "def analisis_roc(model, X, y, POSITIVE_CLASS=1):\n",
        "    y_proba_predict = model.predict_proba(X) #predict probabilities\n",
        "\n",
        "    positive_class_scores  = y_proba_predict[:,POSITIVE_CLASS] #keep probabilities only for the positive class\n",
        "\n",
        "    fpr, tpr, thresholds = roc_curve(y,\n",
        "                                     positive_class_scores,\n",
        "                                     pos_label=POSITIVE_CLASS)\n",
        "    roc_auc = auc(fpr, tpr)\n",
        "    plt.plot(fpr, tpr, color='darkorange',\n",
        "             lw=2, label='ROC curve (area = %0.3f)' % roc_auc)\n",
        "    plt.plot([0, 1], [0, 1], color='navy', lw=2, linestyle='--', label='Chance')\n",
        "    plt.xlim([0.0, 1.0])\n",
        "    plt.ylim([0.0, 1.05])\n",
        "    plt.xlabel('False Positive Rate', fontsize=16)\n",
        "    plt.ylabel('True Positive Rate', fontsize=16)\n",
        "    plt.title('ROC. Positive class: '+str(POSITIVE_CLASS))\n",
        "    plt.legend(loc=\"lower right\");"
      ]
    },
    {
      "cell_type": "code",
      "source": [
        "def precision_recall(model, X, y, POSITIVE_CLASS=1):\n",
        "    y_proba_predict = model.predict_proba(X) #predict probabilities\n",
        "\n",
        "    positive_class_scores  = y_proba_predict[:,POSITIVE_CLASS] #keep probabilities only for the positive class\n",
        "   \n",
        "   # predict class values\n",
        "    yhat = model.predict(X)\n",
        "    # calculate precision and recall for each threshold\n",
        "    metric_precision, metric_recall, th = precision_recall_curve(y, positive_class_scores)\n",
        "\n",
        "    # calculate scores\n",
        "    metric_f1, metric_auc = f1_score(y, yhat), auc(metric_recall, metric_precision)\n",
        "    # summarize scores\n",
        "    print(model.__class__.__name__+ ': f1=%.3f auc=%.3f' % (metric_f1, metric_auc))\n",
        "    # plot the precision-recall curves\n",
        "    no_skill = len(y[y==1]) / len(y)\n",
        "    plt.plot([0, 1], [no_skill, no_skill], linestyle='--', label='No Skill')\n",
        "    plt.plot(metric_recall, metric_precision, marker='.', label= model.__class__.__name__)\n",
        "    plt.plot(metric_recall[1:], th, marker='.', label='Threshold')\n",
        "    # axis labels\n",
        "    plt.xlabel('Recall')\n",
        "    plt.ylabel('Precision')\n",
        "    \n",
        "    # show the legend\n",
        "    plt.legend()\n",
        "   \n",
        "\n"
      ],
      "metadata": {
        "id": "XVwtZE-psycv"
      },
      "execution_count": null,
      "outputs": []
    },
    {
      "cell_type": "markdown",
      "metadata": {
        "id": "p1mJ8iTzq6fq"
      },
      "source": [
        "###Logistic regression"
      ]
    },
    {
      "cell_type": "code",
      "execution_count": null,
      "metadata": {
        "colab": {
          "base_uri": "https://localhost:8080/"
        },
        "id": "s0dsLgtcqfg5",
        "outputId": "792d2aaa-04ea-41d4-fa93-adac9743c1ec"
      },
      "outputs": [
        {
          "output_type": "stream",
          "name": "stdout",
          "text": [
            "[LibLinear]"
          ]
        }
      ],
      "source": [
        "log_mod = LogisticRegression(solver = 'liblinear',verbose=1)\n",
        "\n",
        "log_mod.fit(X_train, y_train)\n",
        "\n",
        "y_pred = log_mod.predict(X_test)\n",
        "\n",
        "\n"
      ]
    },
    {
      "cell_type": "code",
      "source": [
        "grid={\"C\":np.logspace(-3,3,7), \"penalty\":[\"l1\",\"l2\"]}# l1 lasso l2 ridge\n",
        "\n",
        "log_mod2 = LogisticRegression()\n",
        "log_mod2 = GridSearchCV(log_mod,grid,cv=10)\n",
        "log_mod2.fit(X_train, y_train)\n",
        "\n",
        "print(\"tuned hpyerparameters :(best parameters) \",log_mod2.best_params_)\n",
        "print(\"accuracy :\",log_mod2.best_score_)"
      ],
      "metadata": {
        "id": "CSBayNdWTZ54",
        "colab": {
          "base_uri": "https://localhost:8080/"
        },
        "outputId": "1161a8eb-0580-4032-f3e9-a552b8218cc9"
      },
      "execution_count": null,
      "outputs": [
        {
          "output_type": "stream",
          "name": "stdout",
          "text": [
            "[LibLinear][LibLinear][LibLinear][LibLinear][LibLinear][LibLinear][LibLinear][LibLinear][LibLinear][LibLinear][LibLinear][LibLinear][LibLinear][LibLinear][LibLinear][LibLinear][LibLinear][LibLinear][LibLinear][LibLinear][LibLinear][LibLinear][LibLinear][LibLinear][LibLinear][LibLinear][LibLinear][LibLinear][LibLinear][LibLinear][LibLinear][LibLinear][LibLinear][LibLinear][LibLinear][LibLinear][LibLinear][LibLinear][LibLinear][LibLinear][LibLinear][LibLinear][LibLinear][LibLinear][LibLinear][LibLinear][LibLinear][LibLinear][LibLinear][LibLinear][LibLinear][LibLinear][LibLinear][LibLinear][LibLinear][LibLinear][LibLinear][LibLinear][LibLinear][LibLinear][LibLinear][LibLinear][LibLinear][LibLinear][LibLinear][LibLinear][LibLinear][LibLinear][LibLinear][LibLinear][LibLinear][LibLinear][LibLinear][LibLinear][LibLinear][LibLinear][LibLinear][LibLinear][LibLinear][LibLinear][LibLinear][LibLinear][LibLinear][LibLinear][LibLinear][LibLinear][LibLinear][LibLinear][LibLinear][LibLinear][LibLinear][LibLinear][LibLinear][LibLinear][LibLinear][LibLinear][LibLinear][LibLinear][LibLinear][LibLinear][LibLinear][LibLinear][LibLinear][LibLinear][LibLinear][LibLinear][LibLinear][LibLinear][LibLinear][LibLinear][LibLinear][LibLinear][LibLinear][LibLinear][LibLinear][LibLinear][LibLinear][LibLinear][LibLinear][LibLinear][LibLinear][LibLinear][LibLinear][LibLinear][LibLinear][LibLinear][LibLinear][LibLinear][LibLinear][LibLinear][LibLinear][LibLinear][LibLinear][LibLinear][LibLinear][LibLinear][LibLinear][LibLinear][LibLinear][LibLinear][LibLinear]tuned hpyerparameters :(best parameters)  {'C': 1.0, 'penalty': 'l1'}\n",
            "accuracy : 0.9992425918428764\n"
          ]
        }
      ]
    },
    {
      "cell_type": "code",
      "execution_count": null,
      "metadata": {
        "id": "MFmcf6jy_Qut",
        "colab": {
          "base_uri": "https://localhost:8080/",
          "height": 522
        },
        "outputId": "0c1f570d-6c38-4d5e-9dd3-87e5e3161c13"
      },
      "outputs": [
        {
          "output_type": "stream",
          "name": "stdout",
          "text": [
            "GridSearchCV Accuracy is 0.999\n",
            "GridSearchCV AUC is 0.977\n",
            "GridSearchCV Sensitivity-Recall is 0.594\n",
            "GridSearchCV Specificity is 1.000\n",
            "GridSearchCV f1_score is 0.693\n",
            "              precision    recall  f1-score   support\n",
            "\n",
            "           0       1.00      1.00      1.00     85283\n",
            "           1       0.83      0.59      0.69       160\n",
            "\n",
            "    accuracy                           1.00     85443\n",
            "   macro avg       0.92      0.80      0.85     85443\n",
            "weighted avg       1.00      1.00      1.00     85443\n",
            "\n"
          ]
        },
        {
          "output_type": "display_data",
          "data": {
            "text/plain": [
              "<Figure size 432x288 with 2 Axes>"
            ],
            "image/png": "[encoded data removed]"
          },
          "metadata": {
            "needs_background": "light"
          }
        }
      ],
      "source": [
        "compute_metrics(log_mod2, X_test, y_test, y_pred)"
      ]
    },
    {
      "cell_type": "code",
      "execution_count": null,
      "metadata": {
        "id": "WtNxEXiBENKh",
        "colab": {
          "base_uri": "https://localhost:8080/",
          "height": 300
        },
        "outputId": "7bf832bb-bea8-4580-8b02-bcfbe95a2ebd"
      },
      "outputs": [
        {
          "output_type": "display_data",
          "data": {
            "text/plain": [
              "<Figure size 432x288 with 1 Axes>"
            ],
            "image/png": "[encoded data removed]"
          },
          "metadata": {
            "needs_background": "light"
          }
        }
      ],
      "source": [
        "analisis_roc(log_mod2, X_test, y_test, POSITIVE_CLASS=1)"
      ]
    },
    {
      "cell_type": "code",
      "source": [
        "precision_recall(log_mod2, X_test, y_test, POSITIVE_CLASS=1)\n",
        "#curva naranja precision\n",
        "#curva verde umbral"
      ],
      "metadata": {
        "colab": {
          "base_uri": "https://localhost:8080/",
          "height": 296
        },
        "id": "vzbxq4jY4dLx",
        "outputId": "a068d799-ef32-4727-fde4-656ba719502f"
      },
      "execution_count": null,
      "outputs": [
        {
          "output_type": "stream",
          "name": "stdout",
          "text": [
            "GridSearchCV: f1=0.693 auc=0.750\n"
          ]
        },
        {
          "output_type": "display_data",
          "data": {
            "text/plain": [
              "<Figure size 432x288 with 1 Axes>"
            ],
            "image/png": "[encoded data removed]"
          },
          "metadata": {
            "needs_background": "light"
          }
        }
      ]
    },
    {
      "cell_type": "markdown",
      "metadata": {
        "id": "0lTnpfmxNh6H"
      },
      "source": [
        "### K-nearest neighbors\n"
      ]
    },
    {
      "cell_type": "code",
      "execution_count": null,
      "metadata": {
        "id": "kMJDY1uuN0wV"
      },
      "outputs": [],
      "source": [
        "n = 5\n",
        "\n",
        "knn_mod = KNeighborsClassifier(n_neighbors = n)\n",
        "knn_mod.fit(X_train, y_train)\n",
        "\n",
        "y_pred = knn_mod.predict(X_test)"
      ]
    },
    {
      "cell_type": "code",
      "execution_count": null,
      "metadata": {
        "id": "1eRJ7UPLON5y",
        "colab": {
          "base_uri": "https://localhost:8080/",
          "height": 522
        },
        "outputId": "1c1f46f1-4512-4e5d-e226-0e791d6c95a8"
      },
      "outputs": [
        {
          "output_type": "stream",
          "name": "stdout",
          "text": [
            "KNeighborsClassifier Accuracy is 0.999\n",
            "KNeighborsClassifier AUC is 0.937\n",
            "KNeighborsClassifier Sensitivity-Recall is 0.806\n",
            "KNeighborsClassifier Specificity is 1.000\n",
            "KNeighborsClassifier f1_score is 0.846\n",
            "              precision    recall  f1-score   support\n",
            "\n",
            "           0       1.00      1.00      1.00     85283\n",
            "           1       0.89      0.81      0.85       160\n",
            "\n",
            "    accuracy                           1.00     85443\n",
            "   macro avg       0.94      0.90      0.92     85443\n",
            "weighted avg       1.00      1.00      1.00     85443\n",
            "\n"
          ]
        },
        {
          "output_type": "display_data",
          "data": {
            "text/plain": [
              "<Figure size 432x288 with 2 Axes>"
            ],
            "image/png": "[encoded data removed]"
          },
          "metadata": {
            "needs_background": "light"
          }
        }
      ],
      "source": [
        "compute_metrics(knn_mod, X_test, y_test, y_pred)"
      ]
    },
    {
      "cell_type": "code",
      "execution_count": null,
      "metadata": {
        "id": "HIvALfWqPf2m",
        "colab": {
          "base_uri": "https://localhost:8080/",
          "height": 300
        },
        "outputId": "0efe9bfa-0152-4291-9fc8-31ece151a6f6"
      },
      "outputs": [
        {
          "output_type": "display_data",
          "data": {
            "text/plain": [
              "<Figure size 432x288 with 1 Axes>"
            ],
            "image/png": "[encoded data removed]"
          },
          "metadata": {
            "needs_background": "light"
          }
        }
      ],
      "source": [
        "analisis_roc(knn_mod, X_test, y_test, POSITIVE_CLASS=1)"
      ]
    },
    {
      "cell_type": "code",
      "source": [
        "precision_recall(knn_mod, X_test, y_test, POSITIVE_CLASS=1)"
      ],
      "metadata": {
        "colab": {
          "base_uri": "https://localhost:8080/",
          "height": 296
        },
        "id": "w3geE6PE79Xe",
        "outputId": "5cfa0461-7e8b-4c94-c096-8abc87781195"
      },
      "execution_count": null,
      "outputs": [
        {
          "output_type": "stream",
          "name": "stdout",
          "text": [
            "KNeighborsClassifier: f1=0.846 auc=0.882\n"
          ]
        },
        {
          "output_type": "display_data",
          "data": {
            "text/plain": [
              "<Figure size 432x288 with 1 Axes>"
            ],
            "image/png": "[encoded data removed]"
          },
          "metadata": {
            "needs_background": "light"
          }
        }
      ]
    },
    {
      "cell_type": "markdown",
      "metadata": {
        "id": "cKTDq8dTKh5C"
      },
      "source": [
        "### Naive Bayes"
      ]
    },
    {
      "cell_type": "code",
      "execution_count": null,
      "metadata": {
        "id": "-2Tf0leiKHe2"
      },
      "outputs": [],
      "source": [
        "nb_mod = GaussianNB()\n",
        "\n",
        "nb_mod.fit(X_train, y_train)\n",
        "\n",
        "y_pred = nb_mod.predict(X_test)"
      ]
    },
    {
      "cell_type": "code",
      "execution_count": null,
      "metadata": {
        "id": "z5eKMgQsKwYP",
        "colab": {
          "base_uri": "https://localhost:8080/",
          "height": 522
        },
        "outputId": "9add86ae-2053-4635-c1f4-d49864776112"
      },
      "outputs": [
        {
          "output_type": "stream",
          "name": "stdout",
          "text": [
            "GaussianNB Accuracy is 0.978\n",
            "GaussianNB AUC is 0.956\n",
            "GaussianNB Sensitivity-Recall is 0.819\n",
            "GaussianNB Specificity is 0.979\n",
            "GaussianNB f1_score is 0.123\n",
            "              precision    recall  f1-score   support\n",
            "\n",
            "           0       1.00      0.98      0.99     85283\n",
            "           1       0.07      0.82      0.12       160\n",
            "\n",
            "    accuracy                           0.98     85443\n",
            "   macro avg       0.53      0.90      0.56     85443\n",
            "weighted avg       1.00      0.98      0.99     85443\n",
            "\n"
          ]
        },
        {
          "output_type": "display_data",
          "data": {
            "text/plain": [
              "<Figure size 432x288 with 2 Axes>"
            ],
            "image/png": "[encoded data removed]"
          },
          "metadata": {
            "needs_background": "light"
          }
        }
      ],
      "source": [
        "compute_metrics(nb_mod, X_test, y_test, y_pred)"
      ]
    },
    {
      "cell_type": "code",
      "execution_count": null,
      "metadata": {
        "id": "pfjNeIPqLn6n",
        "colab": {
          "base_uri": "https://localhost:8080/",
          "height": 300
        },
        "outputId": "3f89d7af-d3f9-470a-ef86-52da46035d18"
      },
      "outputs": [
        {
          "output_type": "display_data",
          "data": {
            "text/plain": [
              "<Figure size 432x288 with 1 Axes>"
            ],
            "image/png": "[encoded data removed]"
          },
          "metadata": {
            "needs_background": "light"
          }
        }
      ],
      "source": [
        "analisis_roc(nb_mod, X_test, y_test, POSITIVE_CLASS=1)"
      ]
    },
    {
      "cell_type": "code",
      "source": [
        "precision_recall(nb_mod, X_test, y_test, POSITIVE_CLASS=1)"
      ],
      "metadata": {
        "id": "TObBJHCs8AL1",
        "colab": {
          "base_uri": "https://localhost:8080/",
          "height": 296
        },
        "outputId": "2c69f7c3-674b-427d-e1a1-2a72133e0d41"
      },
      "execution_count": null,
      "outputs": [
        {
          "output_type": "stream",
          "name": "stdout",
          "text": [
            "GaussianNB: f1=0.123 auc=0.404\n"
          ]
        },
        {
          "output_type": "display_data",
          "data": {
            "text/plain": [
              "<Figure size 432x288 with 1 Axes>"
            ],
            "image/png": "[encoded data removed]"
          },
          "metadata": {
            "needs_background": "light"
          }
        }
      ]
    },
    {
      "cell_type": "markdown",
      "metadata": {
        "id": "kjUwwMTGOHBz"
      },
      "source": [
        "### Decision Tree"
      ]
    },
    {
      "cell_type": "code",
      "execution_count": null,
      "metadata": {
        "id": "43FfVbDkOdbK"
      },
      "outputs": [],
      "source": [
        "#jugar con estos parámetros: class sklearn.tree.DecisionTreeClassifier(*, criterion='gini', splitter='best', max_depth=None, min_samples_split=2,\n",
        "#min_samples_leaf=1, min_weight_fraction_leaf=0.0, \n",
        "#max_features=None, random_state=None, max_leaf_nodes=None, min_impurity_decrease=0.0, class_weight=None, ccp_alpha=0.0)[source]\n",
        "\n",
        "dtree_mod = DecisionTreeClassifier(random_state= seed)\n",
        "\n",
        "dtree_mod.fit(X_train, y_train)\n",
        "\n",
        "y_pred = dtree_mod.predict(X_test)"
      ]
    },
    {
      "cell_type": "code",
      "source": [
        "grid={\"criterion\":[\"gini\",\"entropy\"], \"max_depth\": range(0,10), \"min_weight_fraction_leaf\" : range(0, 1)}\n",
        "\n",
        "dtree_mod2 = DecisionTreeClassifier(random_state= seed)\n",
        "dtree_mod2 = GridSearchCV(dtree_mod,grid,cv=10)\n",
        "dtree_mod2.fit(X_train, y_train)\n",
        "\n",
        "print(\"tuned hpyerparameters :(best parameters) \",dtree_mod2.best_params_)\n",
        "print(\"accuracy :\",dtree_mod2.best_score_)"
      ],
      "metadata": {
        "id": "SRnKpnN8bCps",
        "colab": {
          "base_uri": "https://localhost:8080/"
        },
        "outputId": "d510ec4d-8df1-442e-9e49-f5ae656b2018"
      },
      "execution_count": null,
      "outputs": [
        {
          "output_type": "stream",
          "name": "stderr",
          "text": [
            "/usr/local/lib/python3.7/dist-packages/sklearn/model_selection/_validation.py:372: FitFailedWarning: \n",
            "20 fits failed out of a total of 200.\n",
            "The score on these train-test partitions for these parameters will be set to nan.\n",
            "If these failures are not expected, you can try to debug them by setting error_score='raise'.\n",
            "\n",
            "Below are more details about the failures:\n",
            "--------------------------------------------------------------------------------\n",
            "20 fits failed with the following error:\n",
            "Traceback (most recent call last):\n",
            "  File \"/usr/local/lib/python3.7/dist-packages/sklearn/model_selection/_validation.py\", line 680, in _fit_and_score\n",
            "    estimator.fit(X_train, y_train, **fit_params)\n",
            "  File \"/usr/local/lib/python3.7/dist-packages/sklearn/tree/_classes.py\", line 942, in fit\n",
            "    X_idx_sorted=X_idx_sorted,\n",
            "  File \"/usr/local/lib/python3.7/dist-packages/sklearn/tree/_classes.py\", line 306, in fit\n",
            "    raise ValueError(\"max_depth must be greater than zero. \")\n",
            "ValueError: max_depth must be greater than zero. \n",
            "\n",
            "  warnings.warn(some_fits_failed_message, FitFailedWarning)\n",
            "/usr/local/lib/python3.7/dist-packages/sklearn/model_selection/_search.py:972: UserWarning: One or more of the test scores are non-finite: [       nan 0.99908208 0.99926767 0.99928773 0.99938805 0.99939307\n",
            " 0.99944323 0.99945827 0.99939307 0.99943319        nan 0.99888144\n",
            " 0.99917739 0.99938304 0.99941313 0.99947834 0.99946831 0.99947834\n",
            " 0.9994332  0.99938805]\n",
            "  category=UserWarning,\n"
          ]
        },
        {
          "output_type": "stream",
          "name": "stdout",
          "text": [
            "tuned hpyerparameters :(best parameters)  {'criterion': 'entropy', 'max_depth': 5, 'min_weight_fraction_leaf': 0}\n",
            "accuracy : 0.9994783402187195\n"
          ]
        }
      ]
    },
    {
      "cell_type": "code",
      "execution_count": null,
      "metadata": {
        "id": "J39drgKcPSCV",
        "colab": {
          "base_uri": "https://localhost:8080/",
          "height": 522
        },
        "outputId": "1c60e29f-30a5-4183-bd30-67d479e20551"
      },
      "outputs": [
        {
          "output_type": "stream",
          "name": "stdout",
          "text": [
            "GridSearchCV Accuracy is 0.999\n",
            "GridSearchCV AUC is 0.916\n",
            "GridSearchCV Sensitivity-Recall is 0.775\n",
            "GridSearchCV Specificity is 1.000\n",
            "GridSearchCV f1_score is 0.773\n",
            "              precision    recall  f1-score   support\n",
            "\n",
            "           0       1.00      1.00      1.00     85283\n",
            "           1       0.77      0.78      0.77       160\n",
            "\n",
            "    accuracy                           1.00     85443\n",
            "   macro avg       0.88      0.89      0.89     85443\n",
            "weighted avg       1.00      1.00      1.00     85443\n",
            "\n"
          ]
        },
        {
          "output_type": "display_data",
          "data": {
            "text/plain": [
              "<Figure size 432x288 with 2 Axes>"
            ],
            "image/png": "[encoded data removed]"
          },
          "metadata": {
            "needs_background": "light"
          }
        }
      ],
      "source": [
        "compute_metrics(dtree_mod2, X_test, y_test, y_pred)"
      ]
    },
    {
      "cell_type": "code",
      "execution_count": null,
      "metadata": {
        "id": "4gvQBxT6PSCY",
        "colab": {
          "base_uri": "https://localhost:8080/",
          "height": 300
        },
        "outputId": "74d6c179-3b51-44e8-f3a1-549e4d1ef594"
      },
      "outputs": [
        {
          "output_type": "display_data",
          "data": {
            "text/plain": [
              "<Figure size 432x288 with 1 Axes>"
            ],
            "image/png": "[encoded data removed]"
          },
          "metadata": {
            "needs_background": "light"
          }
        }
      ],
      "source": [
        "analisis_roc(dtree_mod2, X_test, y_test, POSITIVE_CLASS=1)"
      ]
    },
    {
      "cell_type": "code",
      "source": [
        "precision_recall(dtree_mod2, X_test, y_test, POSITIVE_CLASS=1)"
      ],
      "metadata": {
        "id": "oedZzG0v8D_0",
        "colab": {
          "base_uri": "https://localhost:8080/",
          "height": 296
        },
        "outputId": "37e89b2a-6bfa-448a-a945-f011aa9e7ce5"
      },
      "execution_count": null,
      "outputs": [
        {
          "output_type": "stream",
          "name": "stdout",
          "text": [
            "GridSearchCV: f1=0.826 auc=0.724\n"
          ]
        },
        {
          "output_type": "display_data",
          "data": {
            "text/plain": [
              "<Figure size 432x288 with 1 Axes>"
            ],
            "image/png": "[encoded data removed]"
          },
          "metadata": {
            "needs_background": "light"
          }
        }
      ]
    },
    {
      "cell_type": "markdown",
      "metadata": {
        "id": "-3E95rqxP87O"
      },
      "source": [
        "### Random Forest"
      ]
    },
    {
      "cell_type": "code",
      "execution_count": null,
      "metadata": {
        "id": "cq_gow8wP8Th"
      },
      "outputs": [],
      "source": [
        "#mirar parámetros para optimizar random forest\n",
        "rf_mod = RandomForestClassifier(random_state = seed, n_estimators= 100, criterion= 'entropy', max_depth= 8, min_samples_split= 2, max_features= 'sqrt')\n",
        "\n",
        "rf_mod.fit(X_train, y_train)\n",
        "\n",
        "y_pred = rf_mod.predict(X_test)"
      ]
    },
    {
      "cell_type": "code",
      "source": [
        "#tarda mucho, horas...\n",
        "#grid={\"n_estimators\": range(1,50), \"criterion\":[\"gini\",\"entropy\"], \"max_depth\": range(0,10)}\n",
        "\n",
        "#rf_mod2 = RandomForestClassifier(random_state = seed)\n",
        "#rf_mod2 = GridSearchCV(rf_mod,grid,cv=10)\n",
        "#rf_mod2.fit(X_train, y_train)\n",
        "\n",
        "#print(\"tuned hpyerparameters :(best parameters) \",rf_mod2.best_params_)\n",
        "#print(\"accuracy :\",rf_mod2.best_score_)"
      ],
      "metadata": {
        "id": "LjNAUFtyeoge"
      },
      "execution_count": null,
      "outputs": []
    },
    {
      "cell_type": "code",
      "execution_count": null,
      "metadata": {
        "id": "AnYBHpvlTnzb",
        "colab": {
          "base_uri": "https://localhost:8080/",
          "height": 522
        },
        "outputId": "9c37b2ef-aa70-46ea-dc60-296fc6559329"
      },
      "outputs": [
        {
          "output_type": "stream",
          "name": "stdout",
          "text": [
            "RandomForestClassifier Accuracy is 1.000\n",
            "RandomForestClassifier AUC is 0.981\n",
            "RandomForestClassifier Sensitivity-Recall is 0.787\n",
            "RandomForestClassifier Specificity is 1.000\n",
            "RandomForestClassifier f1_score is 0.863\n",
            "              precision    recall  f1-score   support\n",
            "\n",
            "           0       1.00      1.00      1.00     85283\n",
            "           1       0.95      0.79      0.86       160\n",
            "\n",
            "    accuracy                           1.00     85443\n",
            "   macro avg       0.98      0.89      0.93     85443\n",
            "weighted avg       1.00      1.00      1.00     85443\n",
            "\n"
          ]
        },
        {
          "output_type": "display_data",
          "data": {
            "text/plain": [
              "<Figure size 432x288 with 2 Axes>"
            ],
            "image/png": "[encoded data removed]"
          },
          "metadata": {
            "needs_background": "light"
          }
        }
      ],
      "source": [
        "compute_metrics(rf_mod, X_test, y_test, y_pred)"
      ]
    },
    {
      "cell_type": "code",
      "execution_count": null,
      "metadata": {
        "id": "42rzKpXXTpW7",
        "colab": {
          "base_uri": "https://localhost:8080/",
          "height": 300
        },
        "outputId": "7ea8f11d-582d-45d4-a40e-3cfc1f5fd3e0"
      },
      "outputs": [
        {
          "output_type": "display_data",
          "data": {
            "text/plain": [
              "<Figure size 432x288 with 1 Axes>"
            ],
            "image/png": "[encoded data removed]"
          },
          "metadata": {
            "needs_background": "light"
          }
        }
      ],
      "source": [
        "analisis_roc(rf_mod, X_test, y_test, POSITIVE_CLASS=1)"
      ]
    },
    {
      "cell_type": "code",
      "source": [
        "precision_recall(rf_mod, X_test, y_test, POSITIVE_CLASS=1)"
      ],
      "metadata": {
        "id": "ZEgNcz7r8HGH",
        "colab": {
          "base_uri": "https://localhost:8080/",
          "height": 296
        },
        "outputId": "6dbcc59f-4b27-4be3-967b-e28242cb0083"
      },
      "execution_count": null,
      "outputs": [
        {
          "output_type": "stream",
          "name": "stdout",
          "text": [
            "RandomForestClassifier: f1=0.863 auc=0.860\n"
          ]
        },
        {
          "output_type": "display_data",
          "data": {
            "text/plain": [
              "<Figure size 432x288 with 1 Axes>"
            ],
            "image/png": "[encoded data removed]"
          },
          "metadata": {
            "needs_background": "light"
          }
        }
      ]
    },
    {
      "cell_type": "code",
      "source": [
        "rf_mod.feature_importances_"
      ],
      "metadata": {
        "colab": {
          "base_uri": "https://localhost:8080/"
        },
        "id": "QomkZgBXksTE",
        "outputId": "46395a87-36d9-46ed-c49e-31d6f14cb647"
      },
      "execution_count": null,
      "outputs": [
        {
          "output_type": "execute_result",
          "data": {
            "text/plain": [
              "array([0.00723666, 0.01376583, 0.02577599, 0.04554246, 0.0073132 ,\n",
              "       0.01180166, 0.01973678, 0.00913456, 0.02739533, 0.11012337,\n",
              "       0.09398875, 0.13568983, 0.00415181, 0.15773995, 0.00327717,\n",
              "       0.04206221, 0.18254796, 0.02256237, 0.01062272, 0.00837352,\n",
              "       0.011748  , 0.00457295, 0.00466614, 0.00386908, 0.00420442,\n",
              "       0.00823515, 0.00930802, 0.00667104, 0.00788306])"
            ]
          },
          "metadata": {},
          "execution_count": 29
        }
      ]
    },
    {
      "cell_type": "code",
      "source": [
        "feat_importances = pd.Series(rf_mod.feature_importances_, index=X_train.columns)\n",
        "feat_importances.nlargest(10).plot(kind='barh')"
      ],
      "metadata": {
        "colab": {
          "base_uri": "https://localhost:8080/",
          "height": 282
        },
        "id": "7mNr_0y5zG8q",
        "outputId": "53ffc304-c473-414f-c0ad-39f315d30bac"
      },
      "execution_count": null,
      "outputs": [
        {
          "output_type": "execute_result",
          "data": {
            "text/plain": [
              "<matplotlib.axes._subplots.AxesSubplot at 0x7f55cbabfe90>"
            ]
          },
          "metadata": {},
          "execution_count": 36
        },
        {
          "output_type": "display_data",
          "data": {
            "text/plain": [
              "<Figure size 432x288 with 1 Axes>"
            ],
            "image/png": "[encoded data removed]"
          },
          "metadata": {
            "needs_background": "light"
          }
        }
      ]
    },
    {
      "cell_type": "markdown",
      "metadata": {
        "id": "Bbq6jvhTUBYv"
      },
      "source": [
        "### Adaboost "
      ]
    },
    {
      "cell_type": "code",
      "execution_count": null,
      "metadata": {
        "id": "Fdcx_AkkUWmI"
      },
      "outputs": [],
      "source": [
        "adab_mod = AdaBoostClassifier(random_state = seed, base_estimator= None, n_estimators = 50, learning_rate= 1, algorithm= 'SAMME.R')\n",
        "\n",
        "adab_mod.fit(X_train, y_train)\n",
        "\n",
        "y_pred = adab_mod.predict(X_test)"
      ]
    },
    {
      "cell_type": "code",
      "source": [
        "#grid={\"n_estimators\": range(0,50)}\n",
        "#adab_mod2 = AdaBoostClassifier(random_state= seed)\n",
        "#adab_mod2 = GridSearchCV(adab_mod,grid,cv=10)\n",
        "#adab_mod2.fit(X_train, y_train)\n",
        "\n",
        "#print(\"tuned hpyerparameters :(best parameters) \",adab_mod2.best_params_)\n",
        "#print(\"accuracy :\",adab_mod2.best_score_)"
      ],
      "metadata": {
        "id": "Vb_nHZ9Nhzyd"
      },
      "execution_count": null,
      "outputs": []
    },
    {
      "cell_type": "code",
      "execution_count": null,
      "metadata": {
        "id": "qVaZ2Ct4abhT",
        "colab": {
          "base_uri": "https://localhost:8080/",
          "height": 522
        },
        "outputId": "46774c68-f6cd-4bba-ebf4-17b1bd2b1ecb"
      },
      "outputs": [
        {
          "output_type": "stream",
          "name": "stdout",
          "text": [
            "AdaBoostClassifier Accuracy is 0.999\n",
            "AdaBoostClassifier AUC is 0.975\n",
            "AdaBoostClassifier Sensitivity-Recall is 0.694\n",
            "AdaBoostClassifier Specificity is 1.000\n",
            "AdaBoostClassifier f1_score is 0.742\n",
            "              precision    recall  f1-score   support\n",
            "\n",
            "           0       1.00      1.00      1.00     85283\n",
            "           1       0.80      0.69      0.74       160\n",
            "\n",
            "    accuracy                           1.00     85443\n",
            "   macro avg       0.90      0.85      0.87     85443\n",
            "weighted avg       1.00      1.00      1.00     85443\n",
            "\n"
          ]
        },
        {
          "output_type": "display_data",
          "data": {
            "text/plain": [
              "<Figure size 432x288 with 2 Axes>"
            ],
            "image/png": "[encoded data removed]"
          },
          "metadata": {
            "needs_background": "light"
          }
        }
      ],
      "source": [
        "compute_metrics(adab_mod, X_test, y_test, y_pred)"
      ]
    },
    {
      "cell_type": "code",
      "execution_count": null,
      "metadata": {
        "id": "7rFCfdZ-aqIM",
        "colab": {
          "base_uri": "https://localhost:8080/",
          "height": 300
        },
        "outputId": "82de3d9f-2b28-48e2-c1bf-03403290d3eb"
      },
      "outputs": [
        {
          "output_type": "display_data",
          "data": {
            "text/plain": [
              "<Figure size 432x288 with 1 Axes>"
            ],
            "image/png": "[encoded data removed]"
          },
          "metadata": {
            "needs_background": "light"
          }
        }
      ],
      "source": [
        "analisis_roc(adab_mod, X_test, y_test, POSITIVE_CLASS=1)"
      ]
    },
    {
      "cell_type": "code",
      "source": [
        "precision_recall(adab_mod, X_test, y_test, POSITIVE_CLASS=1)"
      ],
      "metadata": {
        "id": "xUY4eb0c8JW7",
        "colab": {
          "base_uri": "https://localhost:8080/",
          "height": 296
        },
        "outputId": "597b4bdb-b9df-4dec-fad8-a54a019c4599"
      },
      "execution_count": null,
      "outputs": [
        {
          "output_type": "stream",
          "name": "stdout",
          "text": [
            "AdaBoostClassifier: f1=0.742 auc=0.760\n"
          ]
        },
        {
          "output_type": "display_data",
          "data": {
            "text/plain": [
              "<Figure size 432x288 with 1 Axes>"
            ],
            "image/png": "[encoded data removed]"
          },
          "metadata": {
            "needs_background": "light"
          }
        }
      ]
    }
  ],
  "metadata": {
    "colab": {
      "collapsed_sections": [],
      "name": "capstone_estrategia_1_3_todasvariables.ipynb",
      "provenance": []
    },
    "kernelspec": {
      "display_name": "Python 3",
      "name": "python3"
    },
    "language_info": {
      "name": "python"
    }
  },
  "nbformat": 4,
  "nbformat_minor": 0
}